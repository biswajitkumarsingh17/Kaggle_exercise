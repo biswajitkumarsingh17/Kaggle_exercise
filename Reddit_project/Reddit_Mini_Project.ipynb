{
  "nbformat": 4,
  "nbformat_minor": 0,
  "metadata": {
    "colab": {
      "name": "Reddit_Mini_Project.ipynb",
      "provenance": [],
      "collapsed_sections": []
    },
    "kernelspec": {
      "display_name": "Python 3",
      "name": "python3"
    },
    "accelerator": "GPU"
  },
  "cells": [
    {
      "cell_type": "code",
      "metadata": {
        "id": "Wf-HKdf7Xa5S"
      },
      "source": [
        "from google.colab import drive"
      ],
      "execution_count": 117,
      "outputs": []
    },
    {
      "cell_type": "code",
      "metadata": {
        "colab": {
          "base_uri": "https://localhost:8080/"
        },
        "id": "1-WCOWznXp5B",
        "outputId": "fa3a4a87-d67f-416c-edb2-0c72077a823f"
      },
      "source": [
        "drive.mount('/content/drive')"
      ],
      "execution_count": 118,
      "outputs": [
        {
          "output_type": "stream",
          "text": [
            "Drive already mounted at /content/drive; to attempt to forcibly remount, call drive.mount(\"/content/drive\", force_remount=True).\n"
          ],
          "name": "stdout"
        }
      ]
    },
    {
      "cell_type": "code",
      "metadata": {
        "id": "SbpITsWjYMkA"
      },
      "source": [
        "import pandas as pd\r\n",
        "import numpy as np\r\n",
        "import matplotlib.pyplot as plt\r\n",
        "%matplotlib inline\r\n",
        "import seaborn as sns\r\n"
      ],
      "execution_count": 119,
      "outputs": []
    },
    {
      "cell_type": "code",
      "metadata": {
        "colab": {
          "base_uri": "https://localhost:8080/"
        },
        "id": "xBG4infCYxb8",
        "outputId": "4f195f13-d73a-4911-df64-ab20d2beb7cb"
      },
      "source": [
        "df = pd.read_csv('/content/drive/MyDrive/Train_v2.csv.zip')"
      ],
      "execution_count": 120,
      "outputs": [
        {
          "output_type": "stream",
          "text": [
            "/usr/local/lib/python3.6/dist-packages/IPython/core/interactiveshell.py:2718: DtypeWarning: Columns (4) have mixed types.Specify dtype option on import or set low_memory=False.\n",
            "  interactivity=interactivity, compiler=compiler, result=result)\n"
          ],
          "name": "stderr"
        }
      ]
    },
    {
      "cell_type": "code",
      "metadata": {
        "colab": {
          "base_uri": "https://localhost:8080/",
          "height": 694
        },
        "id": "Vh8vv0_eY6lL",
        "outputId": "470e2ad5-1510-40b5-8a71-474f3ead7ad5"
      },
      "source": [
        "df.head().T"
      ],
      "execution_count": 121,
      "outputs": [
        {
          "output_type": "execute_result",
          "data": {
            "text/html": [
              "<div>\n",
              "<style scoped>\n",
              "    .dataframe tbody tr th:only-of-type {\n",
              "        vertical-align: middle;\n",
              "    }\n",
              "\n",
              "    .dataframe tbody tr th {\n",
              "        vertical-align: top;\n",
              "    }\n",
              "\n",
              "    .dataframe thead th {\n",
              "        text-align: right;\n",
              "    }\n",
              "</style>\n",
              "<table border=\"1\" class=\"dataframe\">\n",
              "  <thead>\n",
              "    <tr style=\"text-align: right;\">\n",
              "      <th></th>\n",
              "      <th>0</th>\n",
              "      <th>1</th>\n",
              "      <th>2</th>\n",
              "      <th>3</th>\n",
              "      <th>4</th>\n",
              "    </tr>\n",
              "  </thead>\n",
              "  <tbody>\n",
              "    <tr>\n",
              "      <th>score_hidden</th>\n",
              "      <td>False</td>\n",
              "      <td>False</td>\n",
              "      <td>False</td>\n",
              "      <td>False</td>\n",
              "      <td>False</td>\n",
              "    </tr>\n",
              "    <tr>\n",
              "      <th>name</th>\n",
              "      <td>t1_cnat3w8</td>\n",
              "      <td>t1_cnauvlk</td>\n",
              "      <td>t1_cnatevb</td>\n",
              "      <td>t1_cnawqc7</td>\n",
              "      <td>t1_cnb0guo</td>\n",
              "    </tr>\n",
              "    <tr>\n",
              "      <th>link_id</th>\n",
              "      <td>t3_2qx5jp</td>\n",
              "      <td>t3_2qvdk9</td>\n",
              "      <td>t3_2kvwjv</td>\n",
              "      <td>t3_2qyv14</td>\n",
              "      <td>t3_2qzk2w</td>\n",
              "    </tr>\n",
              "    <tr>\n",
              "      <th>body</th>\n",
              "      <td>Damn near everything belongs to the Lizards.</td>\n",
              "      <td>He does, I'd be backing away very slowly...</td>\n",
              "      <td>I weigh 285, I guarantee ya I could grab that ...</td>\n",
              "      <td>\"This is warm. This is mine.\"</td>\n",
              "      <td>Look the baby's father is already ugly as hell...</td>\n",
              "    </tr>\n",
              "    <tr>\n",
              "      <th>downs</th>\n",
              "      <td>0</td>\n",
              "      <td>0</td>\n",
              "      <td>0</td>\n",
              "      <td>0</td>\n",
              "      <td>0</td>\n",
              "    </tr>\n",
              "    <tr>\n",
              "      <th>created_utc</th>\n",
              "      <td>1420072332</td>\n",
              "      <td>1420076555</td>\n",
              "      <td>1420073046</td>\n",
              "      <td>1420081350</td>\n",
              "      <td>1420092711</td>\n",
              "    </tr>\n",
              "    <tr>\n",
              "      <th>score</th>\n",
              "      <td>3</td>\n",
              "      <td>1</td>\n",
              "      <td>-29</td>\n",
              "      <td>130</td>\n",
              "      <td>16</td>\n",
              "    </tr>\n",
              "    <tr>\n",
              "      <th>author</th>\n",
              "      <td>giantbfg</td>\n",
              "      <td>tejmar</td>\n",
              "      <td>GregJarnigan</td>\n",
              "      <td>Kanthes</td>\n",
              "      <td>bnerd</td>\n",
              "    </tr>\n",
              "    <tr>\n",
              "      <th>distinguished</th>\n",
              "      <td>NaN</td>\n",
              "      <td>NaN</td>\n",
              "      <td>NaN</td>\n",
              "      <td>NaN</td>\n",
              "      <td>NaN</td>\n",
              "    </tr>\n",
              "    <tr>\n",
              "      <th>id</th>\n",
              "      <td>cnat3w8</td>\n",
              "      <td>cnauvlk</td>\n",
              "      <td>cnatevb</td>\n",
              "      <td>cnawqc7</td>\n",
              "      <td>cnb0guo</td>\n",
              "    </tr>\n",
              "    <tr>\n",
              "      <th>archived</th>\n",
              "      <td>False</td>\n",
              "      <td>False</td>\n",
              "      <td>False</td>\n",
              "      <td>False</td>\n",
              "      <td>False</td>\n",
              "    </tr>\n",
              "    <tr>\n",
              "      <th>parent_id</th>\n",
              "      <td>t1_cnalh8p</td>\n",
              "      <td>t1_cnanz1m</td>\n",
              "      <td>t3_2kvwjv</td>\n",
              "      <td>t3_2qyv14</td>\n",
              "      <td>t3_2qzk2w</td>\n",
              "    </tr>\n",
              "    <tr>\n",
              "      <th>subreddit</th>\n",
              "      <td>skyrim</td>\n",
              "      <td>pic</td>\n",
              "      <td>fatpeoplehate</td>\n",
              "      <td>AnimalsBeingJerks</td>\n",
              "      <td>ffxiv</td>\n",
              "    </tr>\n",
              "    <tr>\n",
              "      <th>author_flair_css_class</th>\n",
              "      <td>NaN</td>\n",
              "      <td>NaN</td>\n",
              "      <td>NaN</td>\n",
              "      <td>NaN</td>\n",
              "      <td>scholar</td>\n",
              "    </tr>\n",
              "    <tr>\n",
              "      <th>author_flair_text</th>\n",
              "      <td>NaN</td>\n",
              "      <td>NaN</td>\n",
              "      <td>NaN</td>\n",
              "      <td>NaN</td>\n",
              "      <td>Fang Striker on Excalibur</td>\n",
              "    </tr>\n",
              "    <tr>\n",
              "      <th>gilded</th>\n",
              "      <td>0</td>\n",
              "      <td>0</td>\n",
              "      <td>0</td>\n",
              "      <td>0</td>\n",
              "      <td>0</td>\n",
              "    </tr>\n",
              "    <tr>\n",
              "      <th>retrieved_on</th>\n",
              "      <td>1425123882</td>\n",
              "      <td>1425123056</td>\n",
              "      <td>1425123740</td>\n",
              "      <td>1425122191</td>\n",
              "      <td>1425120427</td>\n",
              "    </tr>\n",
              "    <tr>\n",
              "      <th>ups</th>\n",
              "      <td>3</td>\n",
              "      <td>1</td>\n",
              "      <td>-29</td>\n",
              "      <td>130</td>\n",
              "      <td>16</td>\n",
              "    </tr>\n",
              "    <tr>\n",
              "      <th>controversiality</th>\n",
              "      <td>0</td>\n",
              "      <td>0</td>\n",
              "      <td>0</td>\n",
              "      <td>0</td>\n",
              "      <td>0</td>\n",
              "    </tr>\n",
              "    <tr>\n",
              "      <th>subreddit_id</th>\n",
              "      <td>t5_2s837</td>\n",
              "      <td>t5_2qheq</td>\n",
              "      <td>t5_2x9xz</td>\n",
              "      <td>t5_2wfjv</td>\n",
              "      <td>t5_2rgs7</td>\n",
              "    </tr>\n",
              "    <tr>\n",
              "      <th>edited</th>\n",
              "      <td>False</td>\n",
              "      <td>False</td>\n",
              "      <td>False</td>\n",
              "      <td>False</td>\n",
              "      <td>False</td>\n",
              "    </tr>\n",
              "  </tbody>\n",
              "</table>\n",
              "</div>"
            ],
            "text/plain": [
              "                                                                   0  ...                                                  4\n",
              "score_hidden                                                   False  ...                                              False\n",
              "name                                                      t1_cnat3w8  ...                                         t1_cnb0guo\n",
              "link_id                                                    t3_2qx5jp  ...                                          t3_2qzk2w\n",
              "body                    Damn near everything belongs to the Lizards.  ...  Look the baby's father is already ugly as hell...\n",
              "downs                                                              0  ...                                                  0\n",
              "created_utc                                               1420072332  ...                                         1420092711\n",
              "score                                                              3  ...                                                 16\n",
              "author                                                      giantbfg  ...                                              bnerd\n",
              "distinguished                                                    NaN  ...                                                NaN\n",
              "id                                                           cnat3w8  ...                                            cnb0guo\n",
              "archived                                                       False  ...                                              False\n",
              "parent_id                                                 t1_cnalh8p  ...                                          t3_2qzk2w\n",
              "subreddit                                                     skyrim  ...                                              ffxiv\n",
              "author_flair_css_class                                           NaN  ...                                            scholar\n",
              "author_flair_text                                                NaN  ...                          Fang Striker on Excalibur\n",
              "gilded                                                             0  ...                                                  0\n",
              "retrieved_on                                              1425123882  ...                                         1425120427\n",
              "ups                                                                3  ...                                                 16\n",
              "controversiality                                                   0  ...                                                  0\n",
              "subreddit_id                                                t5_2s837  ...                                           t5_2rgs7\n",
              "edited                                                         False  ...                                              False\n",
              "\n",
              "[21 rows x 5 columns]"
            ]
          },
          "metadata": {
            "tags": []
          },
          "execution_count": 121
        }
      ]
    },
    {
      "cell_type": "code",
      "metadata": {
        "colab": {
          "base_uri": "https://localhost:8080/"
        },
        "id": "oa8-70OnZX8o",
        "outputId": "3ff3c6b8-5cd3-4c8e-bf11-0fd837e8297e"
      },
      "source": [
        "df.info()"
      ],
      "execution_count": 122,
      "outputs": [
        {
          "output_type": "stream",
          "text": [
            "<class 'pandas.core.frame.DataFrame'>\n",
            "RangeIndex: 200090 entries, 0 to 200089\n",
            "Data columns (total 21 columns):\n",
            " #   Column                  Non-Null Count   Dtype  \n",
            "---  ------                  --------------   -----  \n",
            " 0   score_hidden            200064 non-null  object \n",
            " 1   name                    200064 non-null  object \n",
            " 2   link_id                 200064 non-null  object \n",
            " 3   body                    200055 non-null  object \n",
            " 4   downs                   199940 non-null  object \n",
            " 5   created_utc             200000 non-null  object \n",
            " 6   score                   200000 non-null  object \n",
            " 7   author                  200000 non-null  object \n",
            " 8   distinguished           1544 non-null    object \n",
            " 9   id                      199960 non-null  object \n",
            " 10  archived                199959 non-null  object \n",
            " 11  parent_id               200000 non-null  object \n",
            " 12  subreddit               200000 non-null  object \n",
            " 13  author_flair_css_class  61653 non-null   object \n",
            " 14  author_flair_text       58214 non-null   object \n",
            " 15  gilded                  200000 non-null  object \n",
            " 16  retrieved_on            199996 non-null  object \n",
            " 17  ups                     199936 non-null  float64\n",
            " 18  controversiality        199936 non-null  float64\n",
            " 19  subreddit_id            199936 non-null  object \n",
            " 20  edited                  199936 non-null  object \n",
            "dtypes: float64(2), object(19)\n",
            "memory usage: 32.1+ MB\n"
          ],
          "name": "stdout"
        }
      ]
    },
    {
      "cell_type": "code",
      "metadata": {
        "colab": {
          "base_uri": "https://localhost:8080/"
        },
        "id": "Sxjwy0npZrmH",
        "outputId": "3635d56b-5b03-4d1c-9440-ce3120385d21"
      },
      "source": [
        "df.shape"
      ],
      "execution_count": 123,
      "outputs": [
        {
          "output_type": "execute_result",
          "data": {
            "text/plain": [
              "(200090, 21)"
            ]
          },
          "metadata": {
            "tags": []
          },
          "execution_count": 123
        }
      ]
    },
    {
      "cell_type": "code",
      "metadata": {
        "colab": {
          "base_uri": "https://localhost:8080/"
        },
        "id": "7CncbwWkZvh2",
        "outputId": "f9c5c7ad-0690-445b-c112-efec0d6d0203"
      },
      "source": [
        "df_missing_value=df.isnull().sum()\r\n",
        "df_missing_value"
      ],
      "execution_count": 124,
      "outputs": [
        {
          "output_type": "execute_result",
          "data": {
            "text/plain": [
              "score_hidden                  26\n",
              "name                          26\n",
              "link_id                       26\n",
              "body                          35\n",
              "downs                        150\n",
              "created_utc                   90\n",
              "score                         90\n",
              "author                        90\n",
              "distinguished             198546\n",
              "id                           130\n",
              "archived                     131\n",
              "parent_id                     90\n",
              "subreddit                     90\n",
              "author_flair_css_class    138437\n",
              "author_flair_text         141876\n",
              "gilded                        90\n",
              "retrieved_on                  94\n",
              "ups                          154\n",
              "controversiality             154\n",
              "subreddit_id                 154\n",
              "edited                       154\n",
              "dtype: int64"
            ]
          },
          "metadata": {
            "tags": []
          },
          "execution_count": 124
        }
      ]
    },
    {
      "cell_type": "code",
      "metadata": {
        "colab": {
          "base_uri": "https://localhost:8080/"
        },
        "id": "tVL76KB9aCpT",
        "outputId": "794a38ed-7825-4ef3-d4e6-02c84288f7c2"
      },
      "source": [
        "(df_missing_value[df_missing_value > 0]/df.shape[0])*100"
      ],
      "execution_count": 125,
      "outputs": [
        {
          "output_type": "execute_result",
          "data": {
            "text/plain": [
              "score_hidden               0.012994\n",
              "name                       0.012994\n",
              "link_id                    0.012994\n",
              "body                       0.017492\n",
              "downs                      0.074966\n",
              "created_utc                0.044980\n",
              "score                      0.044980\n",
              "author                     0.044980\n",
              "distinguished             99.228347\n",
              "id                         0.064971\n",
              "archived                   0.065471\n",
              "parent_id                  0.044980\n",
              "subreddit                  0.044980\n",
              "author_flair_css_class    69.187366\n",
              "author_flair_text         70.906092\n",
              "gilded                     0.044980\n",
              "retrieved_on               0.046979\n",
              "ups                        0.076965\n",
              "controversiality           0.076965\n",
              "subreddit_id               0.076965\n",
              "edited                     0.076965\n",
              "dtype: float64"
            ]
          },
          "metadata": {
            "tags": []
          },
          "execution_count": 125
        }
      ]
    },
    {
      "cell_type": "code",
      "metadata": {
        "id": "IY0f3LtvcwLH"
      },
      "source": [
        "#df = df[df.body != '[deleted]']\r\n",
        "#df = df[df.body != '[removed]']\r\n",
        "#df = df[df.body != '']\r\n",
        "#print(df.shape)"
      ],
      "execution_count": 126,
      "outputs": []
    },
    {
      "cell_type": "code",
      "metadata": {
        "colab": {
          "base_uri": "https://localhost:8080/"
        },
        "id": "fSP5-ShPfO1-",
        "outputId": "65e8a105-b916-4a48-9dd1-cb321bba52bb"
      },
      "source": [
        "df.drop(['distinguished', 'author_flair_css_class', 'author_flair_text','link_id','id','parent_id','subreddit_id','name','author'], axis=1, inplace=True)\r\n",
        "print(df.shape)"
      ],
      "execution_count": 127,
      "outputs": [
        {
          "output_type": "stream",
          "text": [
            "(200090, 12)\n"
          ],
          "name": "stdout"
        }
      ]
    },
    {
      "cell_type": "code",
      "metadata": {
        "colab": {
          "base_uri": "https://localhost:8080/"
        },
        "id": "8yVuQ01ihopu",
        "outputId": "ab020899-6fbd-48fe-e250-f21f38ee4c40"
      },
      "source": [
        "df.info()"
      ],
      "execution_count": 128,
      "outputs": [
        {
          "output_type": "stream",
          "text": [
            "<class 'pandas.core.frame.DataFrame'>\n",
            "RangeIndex: 200090 entries, 0 to 200089\n",
            "Data columns (total 12 columns):\n",
            " #   Column            Non-Null Count   Dtype  \n",
            "---  ------            --------------   -----  \n",
            " 0   score_hidden      200064 non-null  object \n",
            " 1   body              200055 non-null  object \n",
            " 2   downs             199940 non-null  object \n",
            " 3   created_utc       200000 non-null  object \n",
            " 4   score             200000 non-null  object \n",
            " 5   archived          199959 non-null  object \n",
            " 6   subreddit         200000 non-null  object \n",
            " 7   gilded            200000 non-null  object \n",
            " 8   retrieved_on      199996 non-null  object \n",
            " 9   ups               199936 non-null  float64\n",
            " 10  controversiality  199936 non-null  float64\n",
            " 11  edited            199936 non-null  object \n",
            "dtypes: float64(2), object(10)\n",
            "memory usage: 18.3+ MB\n"
          ],
          "name": "stdout"
        }
      ]
    },
    {
      "cell_type": "code",
      "metadata": {
        "id": "WH9aV5BJh2RH"
      },
      "source": [
        "df.dropna(inplace=True)"
      ],
      "execution_count": 129,
      "outputs": []
    },
    {
      "cell_type": "code",
      "metadata": {
        "colab": {
          "base_uri": "https://localhost:8080/"
        },
        "id": "Sv4FIQgmipgp",
        "outputId": "e12820ac-1361-431d-b6ce-41db5cb54ef6"
      },
      "source": [
        "df.isnull().sum()"
      ],
      "execution_count": 130,
      "outputs": [
        {
          "output_type": "execute_result",
          "data": {
            "text/plain": [
              "score_hidden        0\n",
              "body                0\n",
              "downs               0\n",
              "created_utc         0\n",
              "score               0\n",
              "archived            0\n",
              "subreddit           0\n",
              "gilded              0\n",
              "retrieved_on        0\n",
              "ups                 0\n",
              "controversiality    0\n",
              "edited              0\n",
              "dtype: int64"
            ]
          },
          "metadata": {
            "tags": []
          },
          "execution_count": 130
        }
      ]
    },
    {
      "cell_type": "code",
      "metadata": {
        "colab": {
          "base_uri": "https://localhost:8080/"
        },
        "id": "qMZFXmtli4g2",
        "outputId": "a4b2b456-eb07-4968-a1a1-8a8cc4010450"
      },
      "source": [
        "df.shape"
      ],
      "execution_count": 131,
      "outputs": [
        {
          "output_type": "execute_result",
          "data": {
            "text/plain": [
              "(199931, 12)"
            ]
          },
          "metadata": {
            "tags": []
          },
          "execution_count": 131
        }
      ]
    },
    {
      "cell_type": "code",
      "metadata": {
        "colab": {
          "base_uri": "https://localhost:8080/",
          "height": 197
        },
        "id": "2c18_onCkDuQ",
        "outputId": "55321b38-7bf4-4412-f8af-52a7219ee45a"
      },
      "source": [
        "df.head()"
      ],
      "execution_count": 132,
      "outputs": [
        {
          "output_type": "execute_result",
          "data": {
            "text/html": [
              "<div>\n",
              "<style scoped>\n",
              "    .dataframe tbody tr th:only-of-type {\n",
              "        vertical-align: middle;\n",
              "    }\n",
              "\n",
              "    .dataframe tbody tr th {\n",
              "        vertical-align: top;\n",
              "    }\n",
              "\n",
              "    .dataframe thead th {\n",
              "        text-align: right;\n",
              "    }\n",
              "</style>\n",
              "<table border=\"1\" class=\"dataframe\">\n",
              "  <thead>\n",
              "    <tr style=\"text-align: right;\">\n",
              "      <th></th>\n",
              "      <th>score_hidden</th>\n",
              "      <th>body</th>\n",
              "      <th>downs</th>\n",
              "      <th>created_utc</th>\n",
              "      <th>score</th>\n",
              "      <th>archived</th>\n",
              "      <th>subreddit</th>\n",
              "      <th>gilded</th>\n",
              "      <th>retrieved_on</th>\n",
              "      <th>ups</th>\n",
              "      <th>controversiality</th>\n",
              "      <th>edited</th>\n",
              "    </tr>\n",
              "  </thead>\n",
              "  <tbody>\n",
              "    <tr>\n",
              "      <th>0</th>\n",
              "      <td>False</td>\n",
              "      <td>Damn near everything belongs to the Lizards.</td>\n",
              "      <td>0</td>\n",
              "      <td>1420072332</td>\n",
              "      <td>3</td>\n",
              "      <td>False</td>\n",
              "      <td>skyrim</td>\n",
              "      <td>0</td>\n",
              "      <td>1425123882</td>\n",
              "      <td>3.0</td>\n",
              "      <td>0.0</td>\n",
              "      <td>False</td>\n",
              "    </tr>\n",
              "    <tr>\n",
              "      <th>1</th>\n",
              "      <td>False</td>\n",
              "      <td>He does, I'd be backing away very slowly...</td>\n",
              "      <td>0</td>\n",
              "      <td>1420076555</td>\n",
              "      <td>1</td>\n",
              "      <td>False</td>\n",
              "      <td>pic</td>\n",
              "      <td>0</td>\n",
              "      <td>1425123056</td>\n",
              "      <td>1.0</td>\n",
              "      <td>0.0</td>\n",
              "      <td>False</td>\n",
              "    </tr>\n",
              "    <tr>\n",
              "      <th>2</th>\n",
              "      <td>False</td>\n",
              "      <td>I weigh 285, I guarantee ya I could grab that ...</td>\n",
              "      <td>0</td>\n",
              "      <td>1420073046</td>\n",
              "      <td>-29</td>\n",
              "      <td>False</td>\n",
              "      <td>fatpeoplehate</td>\n",
              "      <td>0</td>\n",
              "      <td>1425123740</td>\n",
              "      <td>-29.0</td>\n",
              "      <td>0.0</td>\n",
              "      <td>False</td>\n",
              "    </tr>\n",
              "    <tr>\n",
              "      <th>3</th>\n",
              "      <td>False</td>\n",
              "      <td>\"This is warm. This is mine.\"</td>\n",
              "      <td>0</td>\n",
              "      <td>1420081350</td>\n",
              "      <td>130</td>\n",
              "      <td>False</td>\n",
              "      <td>AnimalsBeingJerks</td>\n",
              "      <td>0</td>\n",
              "      <td>1425122191</td>\n",
              "      <td>130.0</td>\n",
              "      <td>0.0</td>\n",
              "      <td>False</td>\n",
              "    </tr>\n",
              "    <tr>\n",
              "      <th>4</th>\n",
              "      <td>False</td>\n",
              "      <td>Look the baby's father is already ugly as hell...</td>\n",
              "      <td>0</td>\n",
              "      <td>1420092711</td>\n",
              "      <td>16</td>\n",
              "      <td>False</td>\n",
              "      <td>ffxiv</td>\n",
              "      <td>0</td>\n",
              "      <td>1425120427</td>\n",
              "      <td>16.0</td>\n",
              "      <td>0.0</td>\n",
              "      <td>False</td>\n",
              "    </tr>\n",
              "  </tbody>\n",
              "</table>\n",
              "</div>"
            ],
            "text/plain": [
              "  score_hidden  ... edited\n",
              "0        False  ...  False\n",
              "1        False  ...  False\n",
              "2        False  ...  False\n",
              "3        False  ...  False\n",
              "4        False  ...  False\n",
              "\n",
              "[5 rows x 12 columns]"
            ]
          },
          "metadata": {
            "tags": []
          },
          "execution_count": 132
        }
      ]
    },
    {
      "cell_type": "code",
      "metadata": {
        "id": "x2Pswd6GkatU"
      },
      "source": [
        "df[['score','downs','gilded','created_utc','retrieved_on']] = df[['score','downs','gilded','created_utc','retrieved_on']].astype('int')"
      ],
      "execution_count": 133,
      "outputs": []
    },
    {
      "cell_type": "code",
      "metadata": {
        "colab": {
          "base_uri": "https://localhost:8080/"
        },
        "id": "i_pvzLAIk2_E",
        "outputId": "cde9abc5-362b-4392-b4a3-7bbc912d1523"
      },
      "source": [
        "df.info()"
      ],
      "execution_count": 134,
      "outputs": [
        {
          "output_type": "stream",
          "text": [
            "<class 'pandas.core.frame.DataFrame'>\n",
            "Int64Index: 199931 entries, 0 to 200089\n",
            "Data columns (total 12 columns):\n",
            " #   Column            Non-Null Count   Dtype  \n",
            "---  ------            --------------   -----  \n",
            " 0   score_hidden      199931 non-null  object \n",
            " 1   body              199931 non-null  object \n",
            " 2   downs             199931 non-null  int64  \n",
            " 3   created_utc       199931 non-null  int64  \n",
            " 4   score             199931 non-null  int64  \n",
            " 5   archived          199931 non-null  object \n",
            " 6   subreddit         199931 non-null  object \n",
            " 7   gilded            199931 non-null  int64  \n",
            " 8   retrieved_on      199931 non-null  int64  \n",
            " 9   ups               199931 non-null  float64\n",
            " 10  controversiality  199931 non-null  float64\n",
            " 11  edited            199931 non-null  object \n",
            "dtypes: float64(2), int64(5), object(5)\n",
            "memory usage: 19.8+ MB\n"
          ],
          "name": "stdout"
        }
      ]
    },
    {
      "cell_type": "code",
      "metadata": {
        "colab": {
          "base_uri": "https://localhost:8080/",
          "height": 396
        },
        "id": "4JSON_LLk4kl",
        "outputId": "47498ce8-e9e2-4e3c-9c02-8a53fe6683de"
      },
      "source": [
        "plt.figure(figsize=(20,6))\r\n",
        "sns.heatmap(df.corr(),annot=True)"
      ],
      "execution_count": 135,
      "outputs": [
        {
          "output_type": "execute_result",
          "data": {
            "text/plain": [
              "<matplotlib.axes._subplots.AxesSubplot at 0x7f5ce4a12908>"
            ]
          },
          "metadata": {
            "tags": []
          },
          "execution_count": 135
        },
        {
          "output_type": "display_data",
          "data": {
            "image/png": "[encoded data removed]",
            "text/plain": [
              "<Figure size 1440x432 with 2 Axes>"
            ]
          },
          "metadata": {
            "tags": [],
            "needs_background": "light"
          }
        }
      ]
    },
    {
      "cell_type": "code",
      "metadata": {
        "colab": {
          "base_uri": "https://localhost:8080/",
          "height": 404
        },
        "id": "aCEJhMPxl3a4",
        "outputId": "60a2e3d0-c618-4462-b18f-762e2568f72b"
      },
      "source": [
        "plt.figure(figsize=(8,6))\r\n",
        "plt.hist(df['ups'], bins=np.arange(0,40,1), alpha=0.5, label=\"Upvotes\");\r\n",
        "plt.title('Upvote Frequency');\r\n",
        "plt.xlabel('Upvotes');\r\n",
        "plt.ylabel('Frequency');\r\n",
        "plt.grid(False)"
      ],
      "execution_count": 136,
      "outputs": [
        {
          "output_type": "display_data",
          "data": {
            "image/png": "[encoded data removed]",
            "text/plain": [
              "<Figure size 576x432 with 1 Axes>"
            ]
          },
          "metadata": {
            "tags": [],
            "needs_background": "light"
          }
        }
      ]
    },
    {
      "cell_type": "code",
      "metadata": {
        "colab": {
          "base_uri": "https://localhost:8080/",
          "height": 404
        },
        "id": "8EPakb4EmiOx",
        "outputId": "a3a81fa7-40d2-403c-a3af-69635787a9a6"
      },
      "source": [
        "plt.figure(figsize=(12,6))\r\n",
        "plt.scatter(df['created_utc'], df['ups']);\r\n",
        "plt.title('Time and Upvotes');\r\n",
        "plt.xlabel('Time (UTC)');\r\n",
        "plt.ylabel('Upvotes');\r\n",
        "plt.ylim(ymin=-0.1);\r\n",
        "ax = plt.gca();\r\n",
        "ax.xaxis.grid(False)"
      ],
      "execution_count": 137,
      "outputs": [
        {
          "output_type": "display_data",
          "data": {
            "image/png": "[encoded data removed]",
            "text/plain": [
              "<Figure size 864x432 with 1 Axes>"
            ]
          },
          "metadata": {
            "tags": [],
            "needs_background": "light"
          }
        }
      ]
    },
    {
      "cell_type": "code",
      "metadata": {
        "colab": {
          "base_uri": "https://localhost:8080/",
          "height": 404
        },
        "id": "zm1zOkQhJHaw",
        "outputId": "b9ff59cc-ae6e-4f64-fcc0-f094b769046d"
      },
      "source": [
        "plt.figure(figsize=(12,6))\r\n",
        "plt.scatter(df['retrieved_on'], df['ups']);\r\n",
        "plt.title('Time and Upvotes');\r\n",
        "plt.xlabel('Time (on)');\r\n",
        "plt.ylabel('Upvotes');\r\n",
        "plt.ylim(ymin=-0.1);\r\n",
        "ax = plt.gca();\r\n",
        "ax.xaxis.grid(False)"
      ],
      "execution_count": 138,
      "outputs": [
        {
          "output_type": "display_data",
          "data": {
            "image/png": "[encoded data removed]",
            "text/plain": [
              "<Figure size 864x432 with 1 Axes>"
            ]
          },
          "metadata": {
            "tags": [],
            "needs_background": "light"
          }
        }
      ]
    },
    {
      "cell_type": "code",
      "metadata": {
        "colab": {
          "base_uri": "https://localhost:8080/"
        },
        "id": "vnpL-T_9Chfh",
        "outputId": "bb567f2d-41c7-4d4f-94ca-3be612a9d9ca"
      },
      "source": [
        "subreddit_=df['subreddit'].value_counts(ascending=False)\r\n",
        "subreddit_"
      ],
      "execution_count": 139,
      "outputs": [
        {
          "output_type": "execute_result",
          "data": {
            "text/plain": [
              "AskReddit     15587\n",
              "CFB            6430\n",
              "funny          4145\n",
              "pics           3481\n",
              "nba            3351\n",
              "              ...  \n",
              "quiz              1\n",
              "SillyDildo        1\n",
              "WPWestEU          1\n",
              "TheStrokes        1\n",
              "Aggregat0r        1\n",
              "Name: subreddit, Length: 6693, dtype: int64"
            ]
          },
          "metadata": {
            "tags": []
          },
          "execution_count": 139
        }
      ]
    },
    {
      "cell_type": "code",
      "metadata": {
        "colab": {
          "base_uri": "https://localhost:8080/",
          "height": 352
        },
        "id": "xorWgl68Chcq",
        "outputId": "664c354c-fc8b-4eae-9e7c-efaa694f6c67"
      },
      "source": [
        "plt.figure(figsize=(11,4))\r\n",
        "sns.boxplot(subreddit_)"
      ],
      "execution_count": 140,
      "outputs": [
        {
          "output_type": "stream",
          "text": [
            "/usr/local/lib/python3.6/dist-packages/seaborn/_decorators.py:43: FutureWarning: Pass the following variable as a keyword arg: x. From version 0.12, the only valid positional argument will be `data`, and passing other arguments without an explicit keyword will result in an error or misinterpretation.\n",
            "  FutureWarning\n"
          ],
          "name": "stderr"
        },
        {
          "output_type": "execute_result",
          "data": {
            "text/plain": [
              "<matplotlib.axes._subplots.AxesSubplot at 0x7f5ce7318048>"
            ]
          },
          "metadata": {
            "tags": []
          },
          "execution_count": 140
        },
        {
          "output_type": "display_data",
          "data": {
            "image/png": "[encoded data removed]",
            "text/plain": [
              "<Figure size 792x288 with 1 Axes>"
            ]
          },
          "metadata": {
            "tags": [],
            "needs_background": "light"
          }
        }
      ]
    },
    {
      "cell_type": "code",
      "metadata": {
        "colab": {
          "base_uri": "https://localhost:8080/",
          "height": 352
        },
        "id": "g5_S5YQ-ChaD",
        "outputId": "13e63f4d-5cde-4f3a-91ef-5df66e9266db"
      },
      "source": [
        "sns.scatterplot(df.ups,df.score)"
      ],
      "execution_count": 141,
      "outputs": [
        {
          "output_type": "stream",
          "text": [
            "/usr/local/lib/python3.6/dist-packages/seaborn/_decorators.py:43: FutureWarning: Pass the following variables as keyword args: x, y. From version 0.12, the only valid positional argument will be `data`, and passing other arguments without an explicit keyword will result in an error or misinterpretation.\n",
            "  FutureWarning\n"
          ],
          "name": "stderr"
        },
        {
          "output_type": "execute_result",
          "data": {
            "text/plain": [
              "<matplotlib.axes._subplots.AxesSubplot at 0x7f5ce49dab70>"
            ]
          },
          "metadata": {
            "tags": []
          },
          "execution_count": 141
        },
        {
          "output_type": "display_data",
          "data": {
            "image/png": "[encoded data removed]",
            "text/plain": [
              "<Figure size 432x288 with 1 Axes>"
            ]
          },
          "metadata": {
            "tags": [],
            "needs_background": "light"
          }
        }
      ]
    },
    {
      "cell_type": "code",
      "metadata": {
        "colab": {
          "base_uri": "https://localhost:8080/"
        },
        "id": "CSk4qAxuEa_J",
        "outputId": "c7df6e8d-d405-4917-d2ef-835972d3492e"
      },
      "source": [
        "df.columns"
      ],
      "execution_count": 142,
      "outputs": [
        {
          "output_type": "execute_result",
          "data": {
            "text/plain": [
              "Index(['score_hidden', 'body', 'downs', 'created_utc', 'score', 'archived',\n",
              "       'subreddit', 'gilded', 'retrieved_on', 'ups', 'controversiality',\n",
              "       'edited'],\n",
              "      dtype='object')"
            ]
          },
          "metadata": {
            "tags": []
          },
          "execution_count": 142
        }
      ]
    },
    {
      "cell_type": "code",
      "metadata": {
        "colab": {
          "base_uri": "https://localhost:8080/"
        },
        "id": "Cbxvl-uwEa56",
        "outputId": "665bf17b-bab4-41f7-f30f-e93806047652"
      },
      "source": [
        "df['score_hidden'].value_counts()"
      ],
      "execution_count": 143,
      "outputs": [
        {
          "output_type": "execute_result",
          "data": {
            "text/plain": [
              "False    199186\n",
              "True        745\n",
              "Name: score_hidden, dtype: int64"
            ]
          },
          "metadata": {
            "tags": []
          },
          "execution_count": 143
        }
      ]
    },
    {
      "cell_type": "code",
      "metadata": {
        "colab": {
          "base_uri": "https://localhost:8080/"
        },
        "id": "wZgz6cEoEa0f",
        "outputId": "dc8ed341-34fb-4fbe-efca-da8adda5f865"
      },
      "source": [
        "df['body'].value_counts()"
      ],
      "execution_count": 144,
      "outputs": [
        {
          "output_type": "execute_result",
          "data": {
            "text/plain": [
              "[deleted]                                                                                                                                                                                                                                                                                                                                                                                                                                                      12917\n",
              "Hi there, looks like you're wanting to discuss something related to the new year; thankfully, we have a dedicated thread for that! [Go here to participate!](http://redd.it/2qxd1t)  Happy holidays!\\n\\n*[I am a bot](/r/AutoModerator/comments/q11pu/what_is_automoderator/), and this action was performed automatically. Please [contact the moderators of this subreddit](/message/compose?to=%2Fr%2FAskReddit) if you have any questions or concerns.*      212\n",
              "Thanks!                                                                                                                                                                                                                                                                                                                                                                                                                                                          101\n",
              "Sent!                                                                                                                                                                                                                                                                                                                                                                                                                                                             75\n",
              "Thank you!                                                                                                                                                                                                                                                                                                                                                                                                                                                        65\n",
              "                                                                                                                                                                                                                                                                                                                                                                                                                                                               ...  \n",
              "Can i deposit a treecko?                                                                                                                                                                                                                                                                                                                                                                                                                                           1\n",
              "those subs are generally shit if you dare to not circlejerk the op, once I pointed out to the self called feminist on that sub that the issue she's complaining about affects both genders and excluding the half of the population doesn't help the issue she immediately started personally attacking me and using such authorities on the subject as \"my male friend thinks you are this and that\"                                                              1\n",
              "If you noticed the color of the units attacking, all the land forces were red, meaning that they were all my units for that push. The only exception was the 3 stack of KPz T-72M, and inf later. You can also look at the points on the right, where the counter goes from 300 to 1700, next to my name.                                                                                                                                                          1\n",
              "[Faith's Shield](http://magiccards.info/scans/en/dka/7.jpg) was the actual card name. Had to do a bit of legwork to find it, though in retrospect Google Image Search would have worked.                                                                                                                                                                                                                                                                           1\n",
              "Maybe he's intimidated by your good looks.                                                                                                                                                                                                                                                                                                                                                                                                                         1\n",
              "Name: body, Length: 182169, dtype: int64"
            ]
          },
          "metadata": {
            "tags": []
          },
          "execution_count": 144
        }
      ]
    },
    {
      "cell_type": "code",
      "metadata": {
        "colab": {
          "base_uri": "https://localhost:8080/"
        },
        "id": "dnCkAWznEawr",
        "outputId": "f8c9c3bb-2323-4633-8ce4-13a17c79b24e"
      },
      "source": [
        "df['archived'].value_counts()"
      ],
      "execution_count": 145,
      "outputs": [
        {
          "output_type": "execute_result",
          "data": {
            "text/plain": [
              "False    196454\n",
              "False      3477\n",
              "Name: archived, dtype: int64"
            ]
          },
          "metadata": {
            "tags": []
          },
          "execution_count": 145
        }
      ]
    },
    {
      "cell_type": "code",
      "metadata": {
        "colab": {
          "base_uri": "https://localhost:8080/"
        },
        "id": "N8IPwtJDEaox",
        "outputId": "792c6e22-68ad-40e2-afaf-3a5fe041094d"
      },
      "source": [
        "df['gilded'].value_counts()"
      ],
      "execution_count": 146,
      "outputs": [
        {
          "output_type": "execute_result",
          "data": {
            "text/plain": [
              "0    199795\n",
              "1       134\n",
              "2         2\n",
              "Name: gilded, dtype: int64"
            ]
          },
          "metadata": {
            "tags": []
          },
          "execution_count": 146
        }
      ]
    },
    {
      "cell_type": "code",
      "metadata": {
        "colab": {
          "base_uri": "https://localhost:8080/",
          "height": 404
        },
        "id": "lKTIWRQAImoR",
        "outputId": "90b572fc-329d-4f6c-9ec9-7e5f9231fbf5"
      },
      "source": [
        "plt.figure(figsize=(12,6))\r\n",
        "plt.hist(df['gilded'], bins=np.arange(1,5,1), alpha=0.5, label=\"Gilded\");\r\n",
        "plt.title('Guilded Frequency');\r\n",
        "plt.xlabel('Number of Golds');\r\n",
        "plt.ylabel('Occurences');\r\n",
        "plt.grid(False)"
      ],
      "execution_count": 147,
      "outputs": [
        {
          "output_type": "display_data",
          "data": {
            "image/png": "[encoded data removed]",
            "text/plain": [
              "<Figure size 864x432 with 1 Axes>"
            ]
          },
          "metadata": {
            "tags": [],
            "needs_background": "light"
          }
        }
      ]
    },
    {
      "cell_type": "code",
      "metadata": {
        "colab": {
          "base_uri": "https://localhost:8080/"
        },
        "id": "sjQShYjtEae2",
        "outputId": "b13c5622-b1ff-4211-de0a-d80fdf97dd1f"
      },
      "source": [
        "df['ups'].value_counts()"
      ],
      "execution_count": 148,
      "outputs": [
        {
          "output_type": "execute_result",
          "data": {
            "text/plain": [
              " 1.0       93254\n",
              " 2.0       36411\n",
              " 3.0       17173\n",
              " 0.0        8560\n",
              " 4.0        6141\n",
              "           ...  \n",
              " 605.0         1\n",
              " 560.0         1\n",
              "-302.0         1\n",
              " 1114.0        1\n",
              " 258.0         1\n",
              "Name: ups, Length: 542, dtype: int64"
            ]
          },
          "metadata": {
            "tags": []
          },
          "execution_count": 148
        }
      ]
    },
    {
      "cell_type": "code",
      "metadata": {
        "colab": {
          "base_uri": "https://localhost:8080/"
        },
        "id": "p4Ca3ZvoChWJ",
        "outputId": "33b40f65-18e6-4fff-bea5-b5079edfe304"
      },
      "source": [
        "df['edited'].value_counts()"
      ],
      "execution_count": 149,
      "outputs": [
        {
          "output_type": "execute_result",
          "data": {
            "text/plain": [
              "False         194610\n",
              "1420077948         4\n",
              "1420074025         3\n",
              "1420092308         3\n",
              "1420079477         3\n",
              "               ...  \n",
              "1420084318         1\n",
              "1420070959         1\n",
              "1420124601         1\n",
              "1420076173         1\n",
              "1420076759         1\n",
              "Name: edited, Length: 5001, dtype: int64"
            ]
          },
          "metadata": {
            "tags": []
          },
          "execution_count": 149
        }
      ]
    },
    {
      "cell_type": "code",
      "metadata": {
        "colab": {
          "base_uri": "https://localhost:8080/",
          "height": 287
        },
        "id": "RJW4qFzpEasJ",
        "outputId": "c50241bf-88f5-4794-9a09-b9366b97afcb"
      },
      "source": [
        "df.describe()"
      ],
      "execution_count": 150,
      "outputs": [
        {
          "output_type": "execute_result",
          "data": {
            "text/html": [
              "<div>\n",
              "<style scoped>\n",
              "    .dataframe tbody tr th:only-of-type {\n",
              "        vertical-align: middle;\n",
              "    }\n",
              "\n",
              "    .dataframe tbody tr th {\n",
              "        vertical-align: top;\n",
              "    }\n",
              "\n",
              "    .dataframe thead th {\n",
              "        text-align: right;\n",
              "    }\n",
              "</style>\n",
              "<table border=\"1\" class=\"dataframe\">\n",
              "  <thead>\n",
              "    <tr style=\"text-align: right;\">\n",
              "      <th></th>\n",
              "      <th>downs</th>\n",
              "      <th>created_utc</th>\n",
              "      <th>score</th>\n",
              "      <th>gilded</th>\n",
              "      <th>retrieved_on</th>\n",
              "      <th>ups</th>\n",
              "      <th>controversiality</th>\n",
              "    </tr>\n",
              "  </thead>\n",
              "  <tbody>\n",
              "    <tr>\n",
              "      <th>count</th>\n",
              "      <td>199931.0</td>\n",
              "      <td>1.999310e+05</td>\n",
              "      <td>199931.000000</td>\n",
              "      <td>199931.000000</td>\n",
              "      <td>1.999310e+05</td>\n",
              "      <td>199931.000000</td>\n",
              "      <td>199931.0</td>\n",
              "    </tr>\n",
              "    <tr>\n",
              "      <th>mean</th>\n",
              "      <td>0.0</td>\n",
              "      <td>1.420081e+09</td>\n",
              "      <td>4.354047</td>\n",
              "      <td>0.000690</td>\n",
              "      <td>1.425122e+09</td>\n",
              "      <td>4.354047</td>\n",
              "      <td>0.0</td>\n",
              "    </tr>\n",
              "    <tr>\n",
              "      <th>std</th>\n",
              "      <td>0.0</td>\n",
              "      <td>6.849003e+03</td>\n",
              "      <td>30.951330</td>\n",
              "      <td>0.026642</td>\n",
              "      <td>1.174182e+03</td>\n",
              "      <td>30.951330</td>\n",
              "      <td>0.0</td>\n",
              "    </tr>\n",
              "    <tr>\n",
              "      <th>min</th>\n",
              "      <td>0.0</td>\n",
              "      <td>1.420070e+09</td>\n",
              "      <td>-353.000000</td>\n",
              "      <td>0.000000</td>\n",
              "      <td>1.425120e+09</td>\n",
              "      <td>-353.000000</td>\n",
              "      <td>0.0</td>\n",
              "    </tr>\n",
              "    <tr>\n",
              "      <th>25%</th>\n",
              "      <td>0.0</td>\n",
              "      <td>1.420075e+09</td>\n",
              "      <td>1.000000</td>\n",
              "      <td>0.000000</td>\n",
              "      <td>1.425121e+09</td>\n",
              "      <td>1.000000</td>\n",
              "      <td>0.0</td>\n",
              "    </tr>\n",
              "    <tr>\n",
              "      <th>50%</th>\n",
              "      <td>0.0</td>\n",
              "      <td>1.420081e+09</td>\n",
              "      <td>1.000000</td>\n",
              "      <td>0.000000</td>\n",
              "      <td>1.425122e+09</td>\n",
              "      <td>1.000000</td>\n",
              "      <td>0.0</td>\n",
              "    </tr>\n",
              "    <tr>\n",
              "      <th>75%</th>\n",
              "      <td>0.0</td>\n",
              "      <td>1.420087e+09</td>\n",
              "      <td>3.000000</td>\n",
              "      <td>0.000000</td>\n",
              "      <td>1.425123e+09</td>\n",
              "      <td>3.000000</td>\n",
              "      <td>0.0</td>\n",
              "    </tr>\n",
              "    <tr>\n",
              "      <th>max</th>\n",
              "      <td>0.0</td>\n",
              "      <td>1.420094e+09</td>\n",
              "      <td>3967.000000</td>\n",
              "      <td>2.000000</td>\n",
              "      <td>1.425124e+09</td>\n",
              "      <td>3967.000000</td>\n",
              "      <td>0.0</td>\n",
              "    </tr>\n",
              "  </tbody>\n",
              "</table>\n",
              "</div>"
            ],
            "text/plain": [
              "          downs   created_utc  ...            ups  controversiality\n",
              "count  199931.0  1.999310e+05  ...  199931.000000          199931.0\n",
              "mean        0.0  1.420081e+09  ...       4.354047               0.0\n",
              "std         0.0  6.849003e+03  ...      30.951330               0.0\n",
              "min         0.0  1.420070e+09  ...    -353.000000               0.0\n",
              "25%         0.0  1.420075e+09  ...       1.000000               0.0\n",
              "50%         0.0  1.420081e+09  ...       1.000000               0.0\n",
              "75%         0.0  1.420087e+09  ...       3.000000               0.0\n",
              "max         0.0  1.420094e+09  ...    3967.000000               0.0\n",
              "\n",
              "[8 rows x 7 columns]"
            ]
          },
          "metadata": {
            "tags": []
          },
          "execution_count": 150
        }
      ]
    },
    {
      "cell_type": "code",
      "metadata": {
        "colab": {
          "base_uri": "https://localhost:8080/",
          "height": 167
        },
        "id": "m9VnWzDFChQY",
        "outputId": "65cf75c7-d2af-46c9-bffb-c0f4c1795ae3"
      },
      "source": [
        "df.describe(include='object')"
      ],
      "execution_count": 151,
      "outputs": [
        {
          "output_type": "execute_result",
          "data": {
            "text/html": [
              "<div>\n",
              "<style scoped>\n",
              "    .dataframe tbody tr th:only-of-type {\n",
              "        vertical-align: middle;\n",
              "    }\n",
              "\n",
              "    .dataframe tbody tr th {\n",
              "        vertical-align: top;\n",
              "    }\n",
              "\n",
              "    .dataframe thead th {\n",
              "        text-align: right;\n",
              "    }\n",
              "</style>\n",
              "<table border=\"1\" class=\"dataframe\">\n",
              "  <thead>\n",
              "    <tr style=\"text-align: right;\">\n",
              "      <th></th>\n",
              "      <th>score_hidden</th>\n",
              "      <th>body</th>\n",
              "      <th>archived</th>\n",
              "      <th>subreddit</th>\n",
              "      <th>edited</th>\n",
              "    </tr>\n",
              "  </thead>\n",
              "  <tbody>\n",
              "    <tr>\n",
              "      <th>count</th>\n",
              "      <td>199931</td>\n",
              "      <td>199931</td>\n",
              "      <td>199931</td>\n",
              "      <td>199931</td>\n",
              "      <td>199931</td>\n",
              "    </tr>\n",
              "    <tr>\n",
              "      <th>unique</th>\n",
              "      <td>2</td>\n",
              "      <td>182169</td>\n",
              "      <td>2</td>\n",
              "      <td>6693</td>\n",
              "      <td>5001</td>\n",
              "    </tr>\n",
              "    <tr>\n",
              "      <th>top</th>\n",
              "      <td>False</td>\n",
              "      <td>[deleted]</td>\n",
              "      <td>False</td>\n",
              "      <td>AskReddit</td>\n",
              "      <td>False</td>\n",
              "    </tr>\n",
              "    <tr>\n",
              "      <th>freq</th>\n",
              "      <td>199186</td>\n",
              "      <td>12917</td>\n",
              "      <td>196454</td>\n",
              "      <td>15587</td>\n",
              "      <td>194610</td>\n",
              "    </tr>\n",
              "  </tbody>\n",
              "</table>\n",
              "</div>"
            ],
            "text/plain": [
              "       score_hidden       body archived  subreddit  edited\n",
              "count        199931     199931   199931     199931  199931\n",
              "unique            2     182169        2       6693    5001\n",
              "top           False  [deleted]    False  AskReddit   False\n",
              "freq         199186      12917   196454      15587  194610"
            ]
          },
          "metadata": {
            "tags": []
          },
          "execution_count": 151
        }
      ]
    },
    {
      "cell_type": "code",
      "metadata": {
        "id": "6jQ8EthMHrSL"
      },
      "source": [
        "df['character_count'] = df['body'].map(lambda x : len(x))"
      ],
      "execution_count": 152,
      "outputs": []
    },
    {
      "cell_type": "code",
      "metadata": {
        "colab": {
          "base_uri": "https://localhost:8080/",
          "height": 404
        },
        "id": "4p4q7urfHrPa",
        "outputId": "cdb61d65-c1ee-422d-d23d-3ae0ab76d256"
      },
      "source": [
        "plt.figure(figsize=(15,6))\r\n",
        "plt.hist(df['character_count'], bins=np.arange(1,2000,10), alpha=0.5, label=\"Character Lengths\");\r\n",
        "plt.title('Parent Comment Lengths');\r\n",
        "plt.xlabel('Characters');\r\n",
        "plt.ylabel('Occurences');\r\n",
        "plt.grid(False);"
      ],
      "execution_count": 153,
      "outputs": [
        {
          "output_type": "display_data",
          "data": {
            "image/png": "[encoded data removed]",
            "text/plain": [
              "<Figure size 1080x432 with 1 Axes>"
            ]
          },
          "metadata": {
            "tags": [],
            "needs_background": "light"
          }
        }
      ]
    },
    {
      "cell_type": "code",
      "metadata": {
        "colab": {
          "base_uri": "https://localhost:8080/",
          "height": 404
        },
        "id": "KxC0w5RIHrE6",
        "outputId": "08fa10bd-5985-4037-b4d4-b4a596465c26"
      },
      "source": [
        "plt.figure(figsize=(18,6))\r\n",
        "plt.hist(df['character_count'], bins=np.arange(1,100,1), alpha=0.5, label=\"Character Lengths\");\r\n",
        "plt.title('Parent Comment Lengths (Zoom)');\r\n",
        "plt.xlabel('Characters');\r\n",
        "plt.ylabel('Occurences');\r\n",
        "ax = plt.gca()\r\n",
        "ax.xaxis.grid(False)"
      ],
      "execution_count": 154,
      "outputs": [
        {
          "output_type": "display_data",
          "data": {
            "image/png": "[encoded data removed]",
            "text/plain": [
              "<Figure size 1296x432 with 1 Axes>"
            ]
          },
          "metadata": {
            "tags": [],
            "needs_background": "light"
          }
        }
      ]
    },
    {
      "cell_type": "code",
      "metadata": {
        "id": "gCsWBhEtmnHv"
      },
      "source": [
        "from datetime import datetime"
      ],
      "execution_count": 155,
      "outputs": []
    },
    {
      "cell_type": "code",
      "metadata": {
        "colab": {
          "base_uri": "https://localhost:8080/"
        },
        "id": "AJdBCef6ruBu",
        "outputId": "f1685152-9ba0-4df5-be4c-4f1d44eac2c1"
      },
      "source": [
        "datetime.fromtimestamp(df.created_utc[0])"
      ],
      "execution_count": 156,
      "outputs": [
        {
          "output_type": "execute_result",
          "data": {
            "text/plain": [
              "datetime.datetime(2015, 1, 1, 0, 32, 12)"
            ]
          },
          "metadata": {
            "tags": []
          },
          "execution_count": 156
        }
      ]
    },
    {
      "cell_type": "code",
      "metadata": {
        "id": "fuu5ifEO1cDX"
      },
      "source": [
        "df.created_utc = df.created_utc.apply(lambda x: datetime.fromtimestamp(x))"
      ],
      "execution_count": 157,
      "outputs": []
    },
    {
      "cell_type": "code",
      "metadata": {
        "colab": {
          "base_uri": "https://localhost:8080/"
        },
        "id": "CmcytMxC1hJa",
        "outputId": "846ffe19-5766-480f-94d5-023047554035"
      },
      "source": [
        "df.created_utc"
      ],
      "execution_count": 158,
      "outputs": [
        {
          "output_type": "execute_result",
          "data": {
            "text/plain": [
              "0        2015-01-01 00:32:12\n",
              "1        2015-01-01 01:42:35\n",
              "2        2015-01-01 00:44:06\n",
              "3        2015-01-01 03:02:30\n",
              "4        2015-01-01 06:11:51\n",
              "                 ...        \n",
              "200085   2015-01-01 06:20:51\n",
              "200086   2015-01-01 02:57:51\n",
              "200087   2015-01-01 00:41:01\n",
              "200088   2015-01-01 03:09:02\n",
              "200089   2015-01-01 05:42:19\n",
              "Name: created_utc, Length: 199931, dtype: datetime64[ns]"
            ]
          },
          "metadata": {
            "tags": []
          },
          "execution_count": 158
        }
      ]
    },
    {
      "cell_type": "code",
      "metadata": {
        "colab": {
          "base_uri": "https://localhost:8080/"
        },
        "id": "zlsV2FhQ1jtq",
        "outputId": "818a3418-159b-4f10-cafd-4e7c57c01d09"
      },
      "source": [
        "df['created_utc_year'] = df.created_utc.dt.year\r\n",
        "df['created_utc_month'] = df.created_utc.dt.month\r\n",
        "df['created_utc_week'] = df.created_utc.dt.week\r\n",
        "df['created_utc_day'] = df.created_utc.dt.day\r\n",
        "df['created_utc_hour'] = df.created_utc.dt.hour\r\n",
        "df['created_utc_minute'] = df.created_utc.dt.minute\r\n",
        "df['created_utc_dayofweek'] = df.created_utc.dt.dayofweek"
      ],
      "execution_count": 159,
      "outputs": [
        {
          "output_type": "stream",
          "text": [
            "/usr/local/lib/python3.6/dist-packages/ipykernel_launcher.py:3: FutureWarning: Series.dt.weekofyear and Series.dt.week have been deprecated.  Please use Series.dt.isocalendar().week instead.\n",
            "  This is separate from the ipykernel package so we can avoid doing imports until\n"
          ],
          "name": "stderr"
        }
      ]
    },
    {
      "cell_type": "code",
      "metadata": {
        "id": "qanJX7f31rnU"
      },
      "source": [
        "df.drop('created_utc',axis=1,inplace=True)"
      ],
      "execution_count": 160,
      "outputs": []
    },
    {
      "cell_type": "code",
      "metadata": {
        "colab": {
          "base_uri": "https://localhost:8080/"
        },
        "id": "CpovPOQR2eQn",
        "outputId": "0183af25-c40b-46a7-f053-0ef4ff8fff6e"
      },
      "source": [
        "datetime.fromtimestamp(df.retrieved_on[0])"
      ],
      "execution_count": 161,
      "outputs": [
        {
          "output_type": "execute_result",
          "data": {
            "text/plain": [
              "datetime.datetime(2015, 2, 28, 11, 44, 42)"
            ]
          },
          "metadata": {
            "tags": []
          },
          "execution_count": 161
        }
      ]
    },
    {
      "cell_type": "code",
      "metadata": {
        "id": "Y5Z7E6Ls2t0I"
      },
      "source": [
        "df.retrieved_on = df.retrieved_on.apply(lambda x: datetime.fromtimestamp(x))"
      ],
      "execution_count": 162,
      "outputs": []
    },
    {
      "cell_type": "code",
      "metadata": {
        "colab": {
          "base_uri": "https://localhost:8080/"
        },
        "id": "liXHcRpo2wvl",
        "outputId": "eb2d291f-2d6a-4c82-f6f6-640fb6aa2513"
      },
      "source": [
        "df.retrieved_on"
      ],
      "execution_count": 163,
      "outputs": [
        {
          "output_type": "execute_result",
          "data": {
            "text/plain": [
              "0        2015-02-28 11:44:42\n",
              "1        2015-02-28 11:30:56\n",
              "2        2015-02-28 11:42:20\n",
              "3        2015-02-28 11:16:31\n",
              "4        2015-02-28 10:47:07\n",
              "                 ...        \n",
              "200085   2015-02-28 10:45:54\n",
              "200086   2015-02-28 11:17:19\n",
              "200087   2015-02-28 11:42:56\n",
              "200088   2015-02-28 11:15:26\n",
              "200089   2015-02-28 10:51:17\n",
              "Name: retrieved_on, Length: 199931, dtype: datetime64[ns]"
            ]
          },
          "metadata": {
            "tags": []
          },
          "execution_count": 163
        }
      ]
    },
    {
      "cell_type": "code",
      "metadata": {
        "colab": {
          "base_uri": "https://localhost:8080/"
        },
        "id": "7zCbakog21w2",
        "outputId": "be56ae6a-44e3-4934-a91d-d4e11943a601"
      },
      "source": [
        "df['retrieved_on_year'] = df.retrieved_on.dt.year\r\n",
        "df['retrieved_on_month'] = df.retrieved_on.dt.month\r\n",
        "df['retrieved_on_week'] = df.retrieved_on.dt.week\r\n",
        "df['retrieved_on_day'] = df.retrieved_on.dt.day\r\n",
        "df['retrieved_on_hour'] = df.retrieved_on.dt.hour\r\n",
        "df['retrieved_on_minute'] = df.retrieved_on.dt.minute\r\n",
        "df['retrieved_on_dayofweek'] = df.retrieved_on.dt.dayofweek"
      ],
      "execution_count": 164,
      "outputs": [
        {
          "output_type": "stream",
          "text": [
            "/usr/local/lib/python3.6/dist-packages/ipykernel_launcher.py:3: FutureWarning: Series.dt.weekofyear and Series.dt.week have been deprecated.  Please use Series.dt.isocalendar().week instead.\n",
            "  This is separate from the ipykernel package so we can avoid doing imports until\n"
          ],
          "name": "stderr"
        }
      ]
    },
    {
      "cell_type": "code",
      "metadata": {
        "id": "VuTYSNaU26YU"
      },
      "source": [
        "df.drop('retrieved_on',axis=1,inplace=True)"
      ],
      "execution_count": 165,
      "outputs": []
    },
    {
      "cell_type": "code",
      "metadata": {
        "colab": {
          "base_uri": "https://localhost:8080/",
          "height": 921
        },
        "id": "HjpIZs7V5mC7",
        "outputId": "73988a4a-4cca-4324-d98a-8aa2f26e3ddd"
      },
      "source": [
        "sns.pairplot(df[['downs', 'score', 'subreddit','gilded', 'ups', 'controversiality', 'edited']])"
      ],
      "execution_count": null,
      "outputs": [
        {
          "output_type": "execute_result",
          "data": {
            "text/plain": [
              "<seaborn.axisgrid.PairGrid at 0x7f65257b5b38>"
            ]
          },
          "metadata": {
            "tags": []
          },
          "execution_count": 50
        },
        {
          "output_type": "display_data",
          "data": {
            "image/png": "[encoded data removed]",
            "text/plain": [
              "<Figure size 900x900 with 30 Axes>"
            ]
          },
          "metadata": {
            "tags": [],
            "needs_background": "light"
          }
        }
      ]
    },
    {
      "cell_type": "code",
      "metadata": {
        "colab": {
          "base_uri": "https://localhost:8080/"
        },
        "id": "qeAnpu5bLz7g",
        "outputId": "c498dce6-59b7-47fe-f6be-36464c687c5c"
      },
      "source": [
        "df['archived'].value_counts()"
      ],
      "execution_count": null,
      "outputs": [
        {
          "output_type": "execute_result",
          "data": {
            "text/plain": [
              "False    196454\n",
              "False      3477\n",
              "Name: archived, dtype: int64"
            ]
          },
          "metadata": {
            "tags": []
          },
          "execution_count": 50
        }
      ]
    },
    {
      "cell_type": "code",
      "metadata": {
        "id": "IAaOwhkt6WYd"
      },
      "source": [
        "df1 = df"
      ],
      "execution_count": null,
      "outputs": []
    },
    {
      "cell_type": "code",
      "metadata": {
        "colab": {
          "base_uri": "https://localhost:8080/",
          "height": 406
        },
        "id": "VcDc2y9_aSbR",
        "outputId": "34b5f8c5-f0d3-4060-ae40-a6e3200ac69f"
      },
      "source": [
        "dummy = pd.get_dummies(df[['archived','score_hidden']],drop_first=True)\r\n",
        "dummy"
      ],
      "execution_count": null,
      "outputs": [
        {
          "output_type": "execute_result",
          "data": {
            "text/html": [
              "<div>\n",
              "<style scoped>\n",
              "    .dataframe tbody tr th:only-of-type {\n",
              "        vertical-align: middle;\n",
              "    }\n",
              "\n",
              "    .dataframe tbody tr th {\n",
              "        vertical-align: top;\n",
              "    }\n",
              "\n",
              "    .dataframe thead th {\n",
              "        text-align: right;\n",
              "    }\n",
              "</style>\n",
              "<table border=\"1\" class=\"dataframe\">\n",
              "  <thead>\n",
              "    <tr style=\"text-align: right;\">\n",
              "      <th></th>\n",
              "      <th>archived_False</th>\n",
              "      <th>score_hidden_True</th>\n",
              "    </tr>\n",
              "  </thead>\n",
              "  <tbody>\n",
              "    <tr>\n",
              "      <th>0</th>\n",
              "      <td>1</td>\n",
              "      <td>0</td>\n",
              "    </tr>\n",
              "    <tr>\n",
              "      <th>1</th>\n",
              "      <td>1</td>\n",
              "      <td>0</td>\n",
              "    </tr>\n",
              "    <tr>\n",
              "      <th>2</th>\n",
              "      <td>1</td>\n",
              "      <td>0</td>\n",
              "    </tr>\n",
              "    <tr>\n",
              "      <th>3</th>\n",
              "      <td>1</td>\n",
              "      <td>0</td>\n",
              "    </tr>\n",
              "    <tr>\n",
              "      <th>4</th>\n",
              "      <td>1</td>\n",
              "      <td>0</td>\n",
              "    </tr>\n",
              "    <tr>\n",
              "      <th>...</th>\n",
              "      <td>...</td>\n",
              "      <td>...</td>\n",
              "    </tr>\n",
              "    <tr>\n",
              "      <th>200085</th>\n",
              "      <td>0</td>\n",
              "      <td>0</td>\n",
              "    </tr>\n",
              "    <tr>\n",
              "      <th>200086</th>\n",
              "      <td>0</td>\n",
              "      <td>0</td>\n",
              "    </tr>\n",
              "    <tr>\n",
              "      <th>200087</th>\n",
              "      <td>0</td>\n",
              "      <td>0</td>\n",
              "    </tr>\n",
              "    <tr>\n",
              "      <th>200088</th>\n",
              "      <td>0</td>\n",
              "      <td>0</td>\n",
              "    </tr>\n",
              "    <tr>\n",
              "      <th>200089</th>\n",
              "      <td>0</td>\n",
              "      <td>0</td>\n",
              "    </tr>\n",
              "  </tbody>\n",
              "</table>\n",
              "<p>199931 rows × 2 columns</p>\n",
              "</div>"
            ],
            "text/plain": [
              "        archived_False  score_hidden_True\n",
              "0                    1                  0\n",
              "1                    1                  0\n",
              "2                    1                  0\n",
              "3                    1                  0\n",
              "4                    1                  0\n",
              "...                ...                ...\n",
              "200085               0                  0\n",
              "200086               0                  0\n",
              "200087               0                  0\n",
              "200088               0                  0\n",
              "200089               0                  0\n",
              "\n",
              "[199931 rows x 2 columns]"
            ]
          },
          "metadata": {
            "tags": []
          },
          "execution_count": 52
        }
      ]
    },
    {
      "cell_type": "code",
      "metadata": {
        "id": "3gV55c0HaeG5"
      },
      "source": [
        "df = pd.concat([df,dummy],axis=1)\r\n",
        "df.drop(['archived','score_hidden'],axis=1,inplace=True)"
      ],
      "execution_count": null,
      "outputs": []
    },
    {
      "cell_type": "code",
      "metadata": {
        "id": "vtjvcwprbKyM"
      },
      "source": [
        "df.drop('edited',axis=1,inplace=True)"
      ],
      "execution_count": null,
      "outputs": []
    },
    {
      "cell_type": "code",
      "metadata": {
        "colab": {
          "base_uri": "https://localhost:8080/",
          "height": 584
        },
        "id": "YAV2OPo_iS8N",
        "outputId": "4a78f70b-b547-4a07-ea30-f97290759c31"
      },
      "source": [
        "df.head()"
      ],
      "execution_count": null,
      "outputs": [
        {
          "output_type": "execute_result",
          "data": {
            "text/html": [
              "<div>\n",
              "<style scoped>\n",
              "    .dataframe tbody tr th:only-of-type {\n",
              "        vertical-align: middle;\n",
              "    }\n",
              "\n",
              "    .dataframe tbody tr th {\n",
              "        vertical-align: top;\n",
              "    }\n",
              "\n",
              "    .dataframe thead th {\n",
              "        text-align: right;\n",
              "    }\n",
              "</style>\n",
              "<table border=\"1\" class=\"dataframe\">\n",
              "  <thead>\n",
              "    <tr style=\"text-align: right;\">\n",
              "      <th></th>\n",
              "      <th>body</th>\n",
              "      <th>downs</th>\n",
              "      <th>score</th>\n",
              "      <th>subreddit</th>\n",
              "      <th>gilded</th>\n",
              "      <th>ups</th>\n",
              "      <th>controversiality</th>\n",
              "      <th>character_count</th>\n",
              "      <th>created_utc_year</th>\n",
              "      <th>created_utc_month</th>\n",
              "      <th>created_utc_week</th>\n",
              "      <th>created_utc_day</th>\n",
              "      <th>created_utc_hour</th>\n",
              "      <th>created_utc_minute</th>\n",
              "      <th>created_utc_dayofweek</th>\n",
              "      <th>retrieved_on_year</th>\n",
              "      <th>retrieved_on_month</th>\n",
              "      <th>retrieved_on_week</th>\n",
              "      <th>retrieved_on_day</th>\n",
              "      <th>retrieved_on_hour</th>\n",
              "      <th>retrieved_on_minute</th>\n",
              "      <th>retrieved_on_dayofweek</th>\n",
              "      <th>archived_False</th>\n",
              "      <th>score_hidden_True</th>\n",
              "    </tr>\n",
              "  </thead>\n",
              "  <tbody>\n",
              "    <tr>\n",
              "      <th>0</th>\n",
              "      <td>Damn near everything belongs to the Lizards.</td>\n",
              "      <td>0</td>\n",
              "      <td>3</td>\n",
              "      <td>skyrim</td>\n",
              "      <td>0</td>\n",
              "      <td>3.0</td>\n",
              "      <td>0.0</td>\n",
              "      <td>44</td>\n",
              "      <td>2015</td>\n",
              "      <td>1</td>\n",
              "      <td>1</td>\n",
              "      <td>1</td>\n",
              "      <td>0</td>\n",
              "      <td>32</td>\n",
              "      <td>3</td>\n",
              "      <td>2015</td>\n",
              "      <td>2</td>\n",
              "      <td>9</td>\n",
              "      <td>28</td>\n",
              "      <td>11</td>\n",
              "      <td>44</td>\n",
              "      <td>5</td>\n",
              "      <td>1</td>\n",
              "      <td>0</td>\n",
              "    </tr>\n",
              "    <tr>\n",
              "      <th>1</th>\n",
              "      <td>He does, I'd be backing away very slowly...</td>\n",
              "      <td>0</td>\n",
              "      <td>1</td>\n",
              "      <td>pic</td>\n",
              "      <td>0</td>\n",
              "      <td>1.0</td>\n",
              "      <td>0.0</td>\n",
              "      <td>43</td>\n",
              "      <td>2015</td>\n",
              "      <td>1</td>\n",
              "      <td>1</td>\n",
              "      <td>1</td>\n",
              "      <td>1</td>\n",
              "      <td>42</td>\n",
              "      <td>3</td>\n",
              "      <td>2015</td>\n",
              "      <td>2</td>\n",
              "      <td>9</td>\n",
              "      <td>28</td>\n",
              "      <td>11</td>\n",
              "      <td>30</td>\n",
              "      <td>5</td>\n",
              "      <td>1</td>\n",
              "      <td>0</td>\n",
              "    </tr>\n",
              "    <tr>\n",
              "      <th>2</th>\n",
              "      <td>I weigh 285, I guarantee ya I could grab that ...</td>\n",
              "      <td>0</td>\n",
              "      <td>-29</td>\n",
              "      <td>fatpeoplehate</td>\n",
              "      <td>0</td>\n",
              "      <td>-29.0</td>\n",
              "      <td>0.0</td>\n",
              "      <td>83</td>\n",
              "      <td>2015</td>\n",
              "      <td>1</td>\n",
              "      <td>1</td>\n",
              "      <td>1</td>\n",
              "      <td>0</td>\n",
              "      <td>44</td>\n",
              "      <td>3</td>\n",
              "      <td>2015</td>\n",
              "      <td>2</td>\n",
              "      <td>9</td>\n",
              "      <td>28</td>\n",
              "      <td>11</td>\n",
              "      <td>42</td>\n",
              "      <td>5</td>\n",
              "      <td>1</td>\n",
              "      <td>0</td>\n",
              "    </tr>\n",
              "    <tr>\n",
              "      <th>3</th>\n",
              "      <td>\"This is warm. This is mine.\"</td>\n",
              "      <td>0</td>\n",
              "      <td>130</td>\n",
              "      <td>AnimalsBeingJerks</td>\n",
              "      <td>0</td>\n",
              "      <td>130.0</td>\n",
              "      <td>0.0</td>\n",
              "      <td>29</td>\n",
              "      <td>2015</td>\n",
              "      <td>1</td>\n",
              "      <td>1</td>\n",
              "      <td>1</td>\n",
              "      <td>3</td>\n",
              "      <td>2</td>\n",
              "      <td>3</td>\n",
              "      <td>2015</td>\n",
              "      <td>2</td>\n",
              "      <td>9</td>\n",
              "      <td>28</td>\n",
              "      <td>11</td>\n",
              "      <td>16</td>\n",
              "      <td>5</td>\n",
              "      <td>1</td>\n",
              "      <td>0</td>\n",
              "    </tr>\n",
              "    <tr>\n",
              "      <th>4</th>\n",
              "      <td>Look the baby's father is already ugly as hell...</td>\n",
              "      <td>0</td>\n",
              "      <td>16</td>\n",
              "      <td>ffxiv</td>\n",
              "      <td>0</td>\n",
              "      <td>16.0</td>\n",
              "      <td>0.0</td>\n",
              "      <td>259</td>\n",
              "      <td>2015</td>\n",
              "      <td>1</td>\n",
              "      <td>1</td>\n",
              "      <td>1</td>\n",
              "      <td>6</td>\n",
              "      <td>11</td>\n",
              "      <td>3</td>\n",
              "      <td>2015</td>\n",
              "      <td>2</td>\n",
              "      <td>9</td>\n",
              "      <td>28</td>\n",
              "      <td>10</td>\n",
              "      <td>47</td>\n",
              "      <td>5</td>\n",
              "      <td>1</td>\n",
              "      <td>0</td>\n",
              "    </tr>\n",
              "  </tbody>\n",
              "</table>\n",
              "</div>"
            ],
            "text/plain": [
              "                                                body  ...  score_hidden_True\n",
              "0       Damn near everything belongs to the Lizards.  ...                  0\n",
              "1        He does, I'd be backing away very slowly...  ...                  0\n",
              "2  I weigh 285, I guarantee ya I could grab that ...  ...                  0\n",
              "3                      \"This is warm. This is mine.\"  ...                  0\n",
              "4  Look the baby's father is already ugly as hell...  ...                  0\n",
              "\n",
              "[5 rows x 24 columns]"
            ]
          },
          "metadata": {
            "tags": []
          },
          "execution_count": 55
        }
      ]
    },
    {
      "cell_type": "code",
      "metadata": {
        "colab": {
          "base_uri": "https://localhost:8080/"
        },
        "id": "qHXgntRSfp7A",
        "outputId": "d66037da-0c08-452e-cce9-4b13662d005e"
      },
      "source": [
        "len(df.columns)"
      ],
      "execution_count": null,
      "outputs": [
        {
          "output_type": "execute_result",
          "data": {
            "text/plain": [
              "24"
            ]
          },
          "metadata": {
            "tags": []
          },
          "execution_count": 56
        }
      ]
    },
    {
      "cell_type": "code",
      "metadata": {
        "colab": {
          "base_uri": "https://localhost:8080/",
          "height": 406
        },
        "id": "tyGEby3EbTko",
        "outputId": "d24045a0-7506-48a3-b9d9-7d2e6de61d67"
      },
      "source": [
        "df.select_dtypes(include=['object'])"
      ],
      "execution_count": null,
      "outputs": [
        {
          "output_type": "execute_result",
          "data": {
            "text/html": [
              "<div>\n",
              "<style scoped>\n",
              "    .dataframe tbody tr th:only-of-type {\n",
              "        vertical-align: middle;\n",
              "    }\n",
              "\n",
              "    .dataframe tbody tr th {\n",
              "        vertical-align: top;\n",
              "    }\n",
              "\n",
              "    .dataframe thead th {\n",
              "        text-align: right;\n",
              "    }\n",
              "</style>\n",
              "<table border=\"1\" class=\"dataframe\">\n",
              "  <thead>\n",
              "    <tr style=\"text-align: right;\">\n",
              "      <th></th>\n",
              "      <th>body</th>\n",
              "      <th>subreddit</th>\n",
              "    </tr>\n",
              "  </thead>\n",
              "  <tbody>\n",
              "    <tr>\n",
              "      <th>0</th>\n",
              "      <td>Damn near everything belongs to the Lizards.</td>\n",
              "      <td>skyrim</td>\n",
              "    </tr>\n",
              "    <tr>\n",
              "      <th>1</th>\n",
              "      <td>He does, I'd be backing away very slowly...</td>\n",
              "      <td>pic</td>\n",
              "    </tr>\n",
              "    <tr>\n",
              "      <th>2</th>\n",
              "      <td>I weigh 285, I guarantee ya I could grab that ...</td>\n",
              "      <td>fatpeoplehate</td>\n",
              "    </tr>\n",
              "    <tr>\n",
              "      <th>3</th>\n",
              "      <td>\"This is warm. This is mine.\"</td>\n",
              "      <td>AnimalsBeingJerks</td>\n",
              "    </tr>\n",
              "    <tr>\n",
              "      <th>4</th>\n",
              "      <td>Look the baby's father is already ugly as hell...</td>\n",
              "      <td>ffxiv</td>\n",
              "    </tr>\n",
              "    <tr>\n",
              "      <th>...</th>\n",
              "      <td>...</td>\n",
              "      <td>...</td>\n",
              "    </tr>\n",
              "    <tr>\n",
              "      <th>200085</th>\n",
              "      <td>wow. The first source seems like dogshit. But ...</td>\n",
              "      <td>news</td>\n",
              "    </tr>\n",
              "    <tr>\n",
              "      <th>200086</th>\n",
              "      <td>There isn't much of a difference. In a lot def...</td>\n",
              "      <td>AskWomen</td>\n",
              "    </tr>\n",
              "    <tr>\n",
              "      <th>200087</th>\n",
              "      <td>Lamy Safari, Cross Bailey, Lamy 2000, and the ...</td>\n",
              "      <td>fountainpens</td>\n",
              "    </tr>\n",
              "    <tr>\n",
              "      <th>200088</th>\n",
              "      <td>Also, maybe you guys can socialize while accom...</td>\n",
              "      <td>introvert</td>\n",
              "    </tr>\n",
              "    <tr>\n",
              "      <th>200089</th>\n",
              "      <td>* Cazz yule as kripp</td>\n",
              "      <td>nl_Kripparrian</td>\n",
              "    </tr>\n",
              "  </tbody>\n",
              "</table>\n",
              "<p>199931 rows × 2 columns</p>\n",
              "</div>"
            ],
            "text/plain": [
              "                                                     body          subreddit\n",
              "0            Damn near everything belongs to the Lizards.             skyrim\n",
              "1             He does, I'd be backing away very slowly...                pic\n",
              "2       I weigh 285, I guarantee ya I could grab that ...      fatpeoplehate\n",
              "3                           \"This is warm. This is mine.\"  AnimalsBeingJerks\n",
              "4       Look the baby's father is already ugly as hell...              ffxiv\n",
              "...                                                   ...                ...\n",
              "200085  wow. The first source seems like dogshit. But ...               news\n",
              "200086  There isn't much of a difference. In a lot def...           AskWomen\n",
              "200087  Lamy Safari, Cross Bailey, Lamy 2000, and the ...       fountainpens\n",
              "200088  Also, maybe you guys can socialize while accom...          introvert\n",
              "200089                               * Cazz yule as kripp     nl_Kripparrian\n",
              "\n",
              "[199931 rows x 2 columns]"
            ]
          },
          "metadata": {
            "tags": []
          },
          "execution_count": 57
        }
      ]
    },
    {
      "cell_type": "code",
      "metadata": {
        "id": "YKSw_dI1bXvF"
      },
      "source": [
        "import nltk"
      ],
      "execution_count": null,
      "outputs": []
    },
    {
      "cell_type": "code",
      "metadata": {
        "colab": {
          "base_uri": "https://localhost:8080/"
        },
        "id": "IpUJPQO9c8ge",
        "outputId": "5c5f9dd7-7c4e-4285-dc61-7c5a41939d36"
      },
      "source": [
        "nltk.download('stopwords')"
      ],
      "execution_count": null,
      "outputs": [
        {
          "output_type": "stream",
          "text": [
            "[nltk_data] Downloading package stopwords to /root/nltk_data...\n",
            "[nltk_data]   Unzipping corpora/stopwords.zip.\n"
          ],
          "name": "stdout"
        },
        {
          "output_type": "execute_result",
          "data": {
            "text/plain": [
              "True"
            ]
          },
          "metadata": {
            "tags": []
          },
          "execution_count": 59
        }
      ]
    },
    {
      "cell_type": "code",
      "metadata": {
        "colab": {
          "base_uri": "https://localhost:8080/"
        },
        "id": "W1Y7N4z6c7YY",
        "outputId": "b7688248-d8c6-463a-d07f-360180dbcf2c"
      },
      "source": [
        "nltk.download('punkt')"
      ],
      "execution_count": null,
      "outputs": [
        {
          "output_type": "stream",
          "text": [
            "[nltk_data] Downloading package punkt to /root/nltk_data...\n",
            "[nltk_data]   Unzipping tokenizers/punkt.zip.\n"
          ],
          "name": "stdout"
        },
        {
          "output_type": "execute_result",
          "data": {
            "text/plain": [
              "True"
            ]
          },
          "metadata": {
            "tags": []
          },
          "execution_count": 60
        }
      ]
    },
    {
      "cell_type": "code",
      "metadata": {
        "id": "KahQ-NqDbplD"
      },
      "source": [
        "from nltk.corpus import stopwords\r\n",
        "# Initialize the stopwords\r\n",
        "stoplist = stopwords.words('english')"
      ],
      "execution_count": null,
      "outputs": []
    },
    {
      "cell_type": "code",
      "metadata": {
        "id": "u57XIMCJb4tc"
      },
      "source": [
        "import gensim"
      ],
      "execution_count": null,
      "outputs": []
    },
    {
      "cell_type": "code",
      "metadata": {
        "id": "FidK32gocNH3"
      },
      "source": [
        "from gensim.models import Word2Vec"
      ],
      "execution_count": null,
      "outputs": []
    },
    {
      "cell_type": "code",
      "metadata": {
        "id": "3VGpqU-HcPxF"
      },
      "source": [
        "sentences = [nltk.word_tokenize(words) for words in df1.body]"
      ],
      "execution_count": null,
      "outputs": []
    },
    {
      "cell_type": "code",
      "metadata": {
        "id": "654iTaMOcTdQ"
      },
      "source": [
        "model = Word2Vec(sentences,min_count=1)"
      ],
      "execution_count": null,
      "outputs": []
    },
    {
      "cell_type": "code",
      "metadata": {
        "colab": {
          "base_uri": "https://localhost:8080/"
        },
        "id": "9xSOecRHdvIa",
        "outputId": "d4679379-5d39-4c32-8ffc-a0d680d12dbd"
      },
      "source": [
        "ordered_vocab = [(term, voc.index, voc.count) for term, voc in model.wv.vocab.items()]\r\n",
        "ordered_vocab = sorted(ordered_vocab, key=lambda k: k[2])\r\n",
        "ordered_terms, term_indices, term_counts = zip(*ordered_vocab)\r\n",
        "word_vectors = pd.DataFrame(model.wv.syn0[term_indices, :], index=ordered_terms)"
      ],
      "execution_count": null,
      "outputs": [
        {
          "output_type": "stream",
          "text": [
            "/usr/local/lib/python3.6/dist-packages/ipykernel_launcher.py:4: DeprecationWarning: Call to deprecated `syn0` (Attribute will be removed in 4.0.0, use self.wv.vectors instead).\n",
            "  after removing the cwd from sys.path.\n"
          ],
          "name": "stderr"
        }
      ]
    },
    {
      "cell_type": "code",
      "metadata": {
        "colab": {
          "base_uri": "https://localhost:8080/",
          "height": 426
        },
        "id": "oFEtg0eueJN0",
        "outputId": "c003f87f-7456-4e63-cbac-65d005574242"
      },
      "source": [
        "word_vectors"
      ],
      "execution_count": null,
      "outputs": [
        {
          "output_type": "execute_result",
          "data": {
            "text/html": [
              "<div>\n",
              "<style scoped>\n",
              "    .dataframe tbody tr th:only-of-type {\n",
              "        vertical-align: middle;\n",
              "    }\n",
              "\n",
              "    .dataframe tbody tr th {\n",
              "        vertical-align: top;\n",
              "    }\n",
              "\n",
              "    .dataframe thead th {\n",
              "        text-align: right;\n",
              "    }\n",
              "</style>\n",
              "<table border=\"1\" class=\"dataframe\">\n",
              "  <thead>\n",
              "    <tr style=\"text-align: right;\">\n",
              "      <th></th>\n",
              "      <th>0</th>\n",
              "      <th>1</th>\n",
              "      <th>2</th>\n",
              "      <th>3</th>\n",
              "      <th>4</th>\n",
              "      <th>5</th>\n",
              "      <th>6</th>\n",
              "      <th>7</th>\n",
              "      <th>8</th>\n",
              "      <th>9</th>\n",
              "      <th>10</th>\n",
              "      <th>11</th>\n",
              "      <th>12</th>\n",
              "      <th>13</th>\n",
              "      <th>14</th>\n",
              "      <th>15</th>\n",
              "      <th>16</th>\n",
              "      <th>17</th>\n",
              "      <th>18</th>\n",
              "      <th>19</th>\n",
              "      <th>20</th>\n",
              "      <th>21</th>\n",
              "      <th>22</th>\n",
              "      <th>23</th>\n",
              "      <th>24</th>\n",
              "      <th>25</th>\n",
              "      <th>26</th>\n",
              "      <th>27</th>\n",
              "      <th>28</th>\n",
              "      <th>29</th>\n",
              "      <th>30</th>\n",
              "      <th>31</th>\n",
              "      <th>32</th>\n",
              "      <th>33</th>\n",
              "      <th>34</th>\n",
              "      <th>35</th>\n",
              "      <th>36</th>\n",
              "      <th>37</th>\n",
              "      <th>38</th>\n",
              "      <th>39</th>\n",
              "      <th>...</th>\n",
              "      <th>60</th>\n",
              "      <th>61</th>\n",
              "      <th>62</th>\n",
              "      <th>63</th>\n",
              "      <th>64</th>\n",
              "      <th>65</th>\n",
              "      <th>66</th>\n",
              "      <th>67</th>\n",
              "      <th>68</th>\n",
              "      <th>69</th>\n",
              "      <th>70</th>\n",
              "      <th>71</th>\n",
              "      <th>72</th>\n",
              "      <th>73</th>\n",
              "      <th>74</th>\n",
              "      <th>75</th>\n",
              "      <th>76</th>\n",
              "      <th>77</th>\n",
              "      <th>78</th>\n",
              "      <th>79</th>\n",
              "      <th>80</th>\n",
              "      <th>81</th>\n",
              "      <th>82</th>\n",
              "      <th>83</th>\n",
              "      <th>84</th>\n",
              "      <th>85</th>\n",
              "      <th>86</th>\n",
              "      <th>87</th>\n",
              "      <th>88</th>\n",
              "      <th>89</th>\n",
              "      <th>90</th>\n",
              "      <th>91</th>\n",
              "      <th>92</th>\n",
              "      <th>93</th>\n",
              "      <th>94</th>\n",
              "      <th>95</th>\n",
              "      <th>96</th>\n",
              "      <th>97</th>\n",
              "      <th>98</th>\n",
              "      <th>99</th>\n",
              "    </tr>\n",
              "  </thead>\n",
              "  <tbody>\n",
              "    <tr>\n",
              "      <th>putz</th>\n",
              "      <td>-0.002455</td>\n",
              "      <td>-0.013684</td>\n",
              "      <td>0.004209</td>\n",
              "      <td>0.016556</td>\n",
              "      <td>-0.011971</td>\n",
              "      <td>0.005433</td>\n",
              "      <td>0.008935</td>\n",
              "      <td>-0.003368</td>\n",
              "      <td>0.005476</td>\n",
              "      <td>0.001693</td>\n",
              "      <td>-0.007061</td>\n",
              "      <td>-0.019890</td>\n",
              "      <td>-0.012826</td>\n",
              "      <td>0.001660</td>\n",
              "      <td>-0.016959</td>\n",
              "      <td>0.004492</td>\n",
              "      <td>0.019156</td>\n",
              "      <td>-0.009628</td>\n",
              "      <td>-0.007020</td>\n",
              "      <td>0.006998</td>\n",
              "      <td>-0.000334</td>\n",
              "      <td>-0.006541</td>\n",
              "      <td>0.008309</td>\n",
              "      <td>-0.008340</td>\n",
              "      <td>-0.015653</td>\n",
              "      <td>-0.000495</td>\n",
              "      <td>-0.004572</td>\n",
              "      <td>0.005116</td>\n",
              "      <td>-0.027673</td>\n",
              "      <td>0.019699</td>\n",
              "      <td>-0.014705</td>\n",
              "      <td>-0.004281</td>\n",
              "      <td>-0.011230</td>\n",
              "      <td>-0.000353</td>\n",
              "      <td>0.009490</td>\n",
              "      <td>0.008627</td>\n",
              "      <td>0.012446</td>\n",
              "      <td>-0.012153</td>\n",
              "      <td>-0.011446</td>\n",
              "      <td>0.003917</td>\n",
              "      <td>...</td>\n",
              "      <td>-0.004472</td>\n",
              "      <td>0.010512</td>\n",
              "      <td>-0.001841</td>\n",
              "      <td>-0.014096</td>\n",
              "      <td>-0.003491</td>\n",
              "      <td>0.003538</td>\n",
              "      <td>0.016938</td>\n",
              "      <td>-0.005875</td>\n",
              "      <td>-0.016579</td>\n",
              "      <td>-0.009976</td>\n",
              "      <td>0.005995</td>\n",
              "      <td>0.010751</td>\n",
              "      <td>-0.003874</td>\n",
              "      <td>-0.022471</td>\n",
              "      <td>0.008966</td>\n",
              "      <td>0.009354</td>\n",
              "      <td>0.005786</td>\n",
              "      <td>-0.001806</td>\n",
              "      <td>0.005443</td>\n",
              "      <td>-0.004219</td>\n",
              "      <td>-0.000416</td>\n",
              "      <td>0.008154</td>\n",
              "      <td>0.010394</td>\n",
              "      <td>0.021241</td>\n",
              "      <td>0.009063</td>\n",
              "      <td>-0.018724</td>\n",
              "      <td>0.000736</td>\n",
              "      <td>-0.009620</td>\n",
              "      <td>0.018924</td>\n",
              "      <td>0.012083</td>\n",
              "      <td>0.003670</td>\n",
              "      <td>0.005175</td>\n",
              "      <td>0.010130</td>\n",
              "      <td>0.007038</td>\n",
              "      <td>0.011265</td>\n",
              "      <td>-0.002826</td>\n",
              "      <td>0.004939</td>\n",
              "      <td>-0.001973</td>\n",
              "      <td>0.003591</td>\n",
              "      <td>-0.005495</td>\n",
              "    </tr>\n",
              "    <tr>\n",
              "      <th>knee-cap</th>\n",
              "      <td>0.002236</td>\n",
              "      <td>0.005004</td>\n",
              "      <td>-0.022228</td>\n",
              "      <td>-0.023699</td>\n",
              "      <td>0.013524</td>\n",
              "      <td>0.002412</td>\n",
              "      <td>0.013493</td>\n",
              "      <td>0.006755</td>\n",
              "      <td>-0.000829</td>\n",
              "      <td>0.028552</td>\n",
              "      <td>-0.006379</td>\n",
              "      <td>-0.030454</td>\n",
              "      <td>-0.001209</td>\n",
              "      <td>-0.016817</td>\n",
              "      <td>-0.006624</td>\n",
              "      <td>-0.003926</td>\n",
              "      <td>0.023035</td>\n",
              "      <td>-0.010528</td>\n",
              "      <td>-0.022669</td>\n",
              "      <td>0.038932</td>\n",
              "      <td>-0.007011</td>\n",
              "      <td>-0.001395</td>\n",
              "      <td>0.012973</td>\n",
              "      <td>-0.003777</td>\n",
              "      <td>-0.007502</td>\n",
              "      <td>0.007278</td>\n",
              "      <td>-0.019304</td>\n",
              "      <td>-0.009873</td>\n",
              "      <td>0.001798</td>\n",
              "      <td>0.033959</td>\n",
              "      <td>-0.017126</td>\n",
              "      <td>-0.006738</td>\n",
              "      <td>-0.005311</td>\n",
              "      <td>0.007848</td>\n",
              "      <td>0.016041</td>\n",
              "      <td>0.002984</td>\n",
              "      <td>0.010646</td>\n",
              "      <td>-0.002774</td>\n",
              "      <td>-0.017904</td>\n",
              "      <td>-0.002558</td>\n",
              "      <td>...</td>\n",
              "      <td>-0.000765</td>\n",
              "      <td>-0.022914</td>\n",
              "      <td>0.001195</td>\n",
              "      <td>-0.011407</td>\n",
              "      <td>0.003761</td>\n",
              "      <td>0.003557</td>\n",
              "      <td>0.013097</td>\n",
              "      <td>0.007812</td>\n",
              "      <td>-0.008791</td>\n",
              "      <td>-0.022155</td>\n",
              "      <td>0.012078</td>\n",
              "      <td>0.008467</td>\n",
              "      <td>0.009285</td>\n",
              "      <td>-0.022991</td>\n",
              "      <td>0.019942</td>\n",
              "      <td>0.034217</td>\n",
              "      <td>-0.047597</td>\n",
              "      <td>-0.019006</td>\n",
              "      <td>-0.001361</td>\n",
              "      <td>-0.000418</td>\n",
              "      <td>-0.000920</td>\n",
              "      <td>0.018715</td>\n",
              "      <td>-0.010152</td>\n",
              "      <td>0.015324</td>\n",
              "      <td>-0.003190</td>\n",
              "      <td>-0.009846</td>\n",
              "      <td>0.018215</td>\n",
              "      <td>0.024552</td>\n",
              "      <td>0.008736</td>\n",
              "      <td>0.022166</td>\n",
              "      <td>0.032547</td>\n",
              "      <td>0.007327</td>\n",
              "      <td>-0.001626</td>\n",
              "      <td>0.028324</td>\n",
              "      <td>-0.002603</td>\n",
              "      <td>0.000727</td>\n",
              "      <td>0.007593</td>\n",
              "      <td>-0.003807</td>\n",
              "      <td>0.021340</td>\n",
              "      <td>-0.026920</td>\n",
              "    </tr>\n",
              "    <tr>\n",
              "      <th>sperged</th>\n",
              "      <td>0.031641</td>\n",
              "      <td>0.034210</td>\n",
              "      <td>0.011131</td>\n",
              "      <td>0.006555</td>\n",
              "      <td>-0.031496</td>\n",
              "      <td>-0.002594</td>\n",
              "      <td>0.004476</td>\n",
              "      <td>-0.001463</td>\n",
              "      <td>0.014069</td>\n",
              "      <td>-0.000425</td>\n",
              "      <td>-0.026850</td>\n",
              "      <td>-0.020480</td>\n",
              "      <td>-0.013670</td>\n",
              "      <td>0.004386</td>\n",
              "      <td>-0.004091</td>\n",
              "      <td>0.021404</td>\n",
              "      <td>0.027538</td>\n",
              "      <td>-0.008291</td>\n",
              "      <td>-0.007207</td>\n",
              "      <td>0.050315</td>\n",
              "      <td>-0.014856</td>\n",
              "      <td>0.003288</td>\n",
              "      <td>0.019014</td>\n",
              "      <td>-0.005837</td>\n",
              "      <td>0.014539</td>\n",
              "      <td>0.004520</td>\n",
              "      <td>-0.008696</td>\n",
              "      <td>-0.002057</td>\n",
              "      <td>0.006952</td>\n",
              "      <td>0.019436</td>\n",
              "      <td>-0.034519</td>\n",
              "      <td>-0.000084</td>\n",
              "      <td>-0.003908</td>\n",
              "      <td>-0.015063</td>\n",
              "      <td>0.028111</td>\n",
              "      <td>0.007244</td>\n",
              "      <td>-0.002716</td>\n",
              "      <td>-0.018049</td>\n",
              "      <td>0.001744</td>\n",
              "      <td>-0.009603</td>\n",
              "      <td>...</td>\n",
              "      <td>-0.047200</td>\n",
              "      <td>0.002122</td>\n",
              "      <td>0.009352</td>\n",
              "      <td>-0.028376</td>\n",
              "      <td>0.005081</td>\n",
              "      <td>0.003176</td>\n",
              "      <td>-0.001998</td>\n",
              "      <td>-0.021892</td>\n",
              "      <td>-0.019915</td>\n",
              "      <td>-0.017652</td>\n",
              "      <td>-0.001388</td>\n",
              "      <td>-0.005602</td>\n",
              "      <td>-0.014057</td>\n",
              "      <td>0.025217</td>\n",
              "      <td>0.002820</td>\n",
              "      <td>0.019371</td>\n",
              "      <td>-0.031358</td>\n",
              "      <td>-0.030498</td>\n",
              "      <td>-0.016480</td>\n",
              "      <td>-0.009365</td>\n",
              "      <td>0.007682</td>\n",
              "      <td>0.008890</td>\n",
              "      <td>-0.007271</td>\n",
              "      <td>0.000240</td>\n",
              "      <td>-0.014101</td>\n",
              "      <td>-0.017363</td>\n",
              "      <td>-0.006284</td>\n",
              "      <td>0.018665</td>\n",
              "      <td>-0.018259</td>\n",
              "      <td>0.014588</td>\n",
              "      <td>0.018277</td>\n",
              "      <td>0.005537</td>\n",
              "      <td>-0.012822</td>\n",
              "      <td>0.021440</td>\n",
              "      <td>0.000742</td>\n",
              "      <td>0.012992</td>\n",
              "      <td>-0.015682</td>\n",
              "      <td>0.016040</td>\n",
              "      <td>0.031243</td>\n",
              "      <td>-0.009032</td>\n",
              "    </tr>\n",
              "    <tr>\n",
              "      <th>statments</th>\n",
              "      <td>0.000286</td>\n",
              "      <td>0.012766</td>\n",
              "      <td>0.013990</td>\n",
              "      <td>-0.005638</td>\n",
              "      <td>-0.011525</td>\n",
              "      <td>0.000663</td>\n",
              "      <td>0.007408</td>\n",
              "      <td>0.002586</td>\n",
              "      <td>0.012271</td>\n",
              "      <td>0.005570</td>\n",
              "      <td>-0.017541</td>\n",
              "      <td>-0.017611</td>\n",
              "      <td>-0.003277</td>\n",
              "      <td>0.002263</td>\n",
              "      <td>0.004933</td>\n",
              "      <td>0.000768</td>\n",
              "      <td>0.008274</td>\n",
              "      <td>-0.016280</td>\n",
              "      <td>-0.011921</td>\n",
              "      <td>0.024331</td>\n",
              "      <td>0.006650</td>\n",
              "      <td>0.010352</td>\n",
              "      <td>0.020165</td>\n",
              "      <td>-0.005671</td>\n",
              "      <td>-0.019388</td>\n",
              "      <td>-0.001393</td>\n",
              "      <td>-0.018864</td>\n",
              "      <td>-0.008255</td>\n",
              "      <td>-0.000623</td>\n",
              "      <td>0.000099</td>\n",
              "      <td>0.003470</td>\n",
              "      <td>-0.007731</td>\n",
              "      <td>0.006234</td>\n",
              "      <td>-0.002684</td>\n",
              "      <td>0.020193</td>\n",
              "      <td>0.000124</td>\n",
              "      <td>0.018646</td>\n",
              "      <td>-0.008440</td>\n",
              "      <td>-0.015413</td>\n",
              "      <td>0.007304</td>\n",
              "      <td>...</td>\n",
              "      <td>-0.013526</td>\n",
              "      <td>-0.015257</td>\n",
              "      <td>-0.002434</td>\n",
              "      <td>-0.002061</td>\n",
              "      <td>0.006292</td>\n",
              "      <td>0.006183</td>\n",
              "      <td>-0.004924</td>\n",
              "      <td>0.027534</td>\n",
              "      <td>-0.031950</td>\n",
              "      <td>-0.020429</td>\n",
              "      <td>0.019556</td>\n",
              "      <td>-0.000107</td>\n",
              "      <td>0.014160</td>\n",
              "      <td>-0.016923</td>\n",
              "      <td>-0.009244</td>\n",
              "      <td>-0.000270</td>\n",
              "      <td>0.001431</td>\n",
              "      <td>-0.018549</td>\n",
              "      <td>0.007716</td>\n",
              "      <td>0.023023</td>\n",
              "      <td>0.006846</td>\n",
              "      <td>0.004413</td>\n",
              "      <td>-0.013366</td>\n",
              "      <td>-0.002901</td>\n",
              "      <td>-0.012479</td>\n",
              "      <td>-0.013462</td>\n",
              "      <td>0.004292</td>\n",
              "      <td>0.001139</td>\n",
              "      <td>0.008489</td>\n",
              "      <td>0.019101</td>\n",
              "      <td>0.004968</td>\n",
              "      <td>-0.023624</td>\n",
              "      <td>-0.003427</td>\n",
              "      <td>0.010470</td>\n",
              "      <td>0.010591</td>\n",
              "      <td>-0.020896</td>\n",
              "      <td>0.003992</td>\n",
              "      <td>-0.002565</td>\n",
              "      <td>0.033186</td>\n",
              "      <td>-0.015562</td>\n",
              "    </tr>\n",
              "    <tr>\n",
              "      <th>marvelverse</th>\n",
              "      <td>0.001921</td>\n",
              "      <td>0.018765</td>\n",
              "      <td>0.000057</td>\n",
              "      <td>-0.017486</td>\n",
              "      <td>0.011343</td>\n",
              "      <td>0.000991</td>\n",
              "      <td>-0.001676</td>\n",
              "      <td>-0.001276</td>\n",
              "      <td>-0.010631</td>\n",
              "      <td>-0.011337</td>\n",
              "      <td>-0.030506</td>\n",
              "      <td>-0.004904</td>\n",
              "      <td>0.013125</td>\n",
              "      <td>-0.000452</td>\n",
              "      <td>0.013973</td>\n",
              "      <td>0.015623</td>\n",
              "      <td>-0.000446</td>\n",
              "      <td>0.009256</td>\n",
              "      <td>0.002526</td>\n",
              "      <td>-0.000722</td>\n",
              "      <td>-0.006987</td>\n",
              "      <td>-0.012327</td>\n",
              "      <td>-0.012063</td>\n",
              "      <td>0.006588</td>\n",
              "      <td>0.004014</td>\n",
              "      <td>0.004165</td>\n",
              "      <td>-0.017090</td>\n",
              "      <td>-0.005872</td>\n",
              "      <td>-0.013899</td>\n",
              "      <td>-0.008563</td>\n",
              "      <td>-0.008074</td>\n",
              "      <td>-0.000091</td>\n",
              "      <td>0.010809</td>\n",
              "      <td>-0.005909</td>\n",
              "      <td>-0.008001</td>\n",
              "      <td>0.011245</td>\n",
              "      <td>0.009923</td>\n",
              "      <td>-0.003273</td>\n",
              "      <td>0.007219</td>\n",
              "      <td>-0.021244</td>\n",
              "      <td>...</td>\n",
              "      <td>-0.024225</td>\n",
              "      <td>0.003830</td>\n",
              "      <td>-0.006218</td>\n",
              "      <td>0.021337</td>\n",
              "      <td>0.005783</td>\n",
              "      <td>0.008630</td>\n",
              "      <td>0.002812</td>\n",
              "      <td>-0.002610</td>\n",
              "      <td>-0.003517</td>\n",
              "      <td>-0.010916</td>\n",
              "      <td>-0.007743</td>\n",
              "      <td>-0.011457</td>\n",
              "      <td>-0.010208</td>\n",
              "      <td>0.013068</td>\n",
              "      <td>-0.000114</td>\n",
              "      <td>0.012596</td>\n",
              "      <td>0.008701</td>\n",
              "      <td>0.002930</td>\n",
              "      <td>-0.006267</td>\n",
              "      <td>0.001245</td>\n",
              "      <td>-0.005934</td>\n",
              "      <td>0.008319</td>\n",
              "      <td>0.010495</td>\n",
              "      <td>-0.007274</td>\n",
              "      <td>0.006935</td>\n",
              "      <td>0.001067</td>\n",
              "      <td>0.000900</td>\n",
              "      <td>-0.000236</td>\n",
              "      <td>-0.000637</td>\n",
              "      <td>0.014474</td>\n",
              "      <td>0.007917</td>\n",
              "      <td>0.003000</td>\n",
              "      <td>0.005210</td>\n",
              "      <td>0.017866</td>\n",
              "      <td>0.008785</td>\n",
              "      <td>0.009423</td>\n",
              "      <td>0.020099</td>\n",
              "      <td>-0.017193</td>\n",
              "      <td>0.007590</td>\n",
              "      <td>0.008857</td>\n",
              "    </tr>\n",
              "    <tr>\n",
              "      <th>...</th>\n",
              "      <td>...</td>\n",
              "      <td>...</td>\n",
              "      <td>...</td>\n",
              "      <td>...</td>\n",
              "      <td>...</td>\n",
              "      <td>...</td>\n",
              "      <td>...</td>\n",
              "      <td>...</td>\n",
              "      <td>...</td>\n",
              "      <td>...</td>\n",
              "      <td>...</td>\n",
              "      <td>...</td>\n",
              "      <td>...</td>\n",
              "      <td>...</td>\n",
              "      <td>...</td>\n",
              "      <td>...</td>\n",
              "      <td>...</td>\n",
              "      <td>...</td>\n",
              "      <td>...</td>\n",
              "      <td>...</td>\n",
              "      <td>...</td>\n",
              "      <td>...</td>\n",
              "      <td>...</td>\n",
              "      <td>...</td>\n",
              "      <td>...</td>\n",
              "      <td>...</td>\n",
              "      <td>...</td>\n",
              "      <td>...</td>\n",
              "      <td>...</td>\n",
              "      <td>...</td>\n",
              "      <td>...</td>\n",
              "      <td>...</td>\n",
              "      <td>...</td>\n",
              "      <td>...</td>\n",
              "      <td>...</td>\n",
              "      <td>...</td>\n",
              "      <td>...</td>\n",
              "      <td>...</td>\n",
              "      <td>...</td>\n",
              "      <td>...</td>\n",
              "      <td>...</td>\n",
              "      <td>...</td>\n",
              "      <td>...</td>\n",
              "      <td>...</td>\n",
              "      <td>...</td>\n",
              "      <td>...</td>\n",
              "      <td>...</td>\n",
              "      <td>...</td>\n",
              "      <td>...</td>\n",
              "      <td>...</td>\n",
              "      <td>...</td>\n",
              "      <td>...</td>\n",
              "      <td>...</td>\n",
              "      <td>...</td>\n",
              "      <td>...</td>\n",
              "      <td>...</td>\n",
              "      <td>...</td>\n",
              "      <td>...</td>\n",
              "      <td>...</td>\n",
              "      <td>...</td>\n",
              "      <td>...</td>\n",
              "      <td>...</td>\n",
              "      <td>...</td>\n",
              "      <td>...</td>\n",
              "      <td>...</td>\n",
              "      <td>...</td>\n",
              "      <td>...</td>\n",
              "      <td>...</td>\n",
              "      <td>...</td>\n",
              "      <td>...</td>\n",
              "      <td>...</td>\n",
              "      <td>...</td>\n",
              "      <td>...</td>\n",
              "      <td>...</td>\n",
              "      <td>...</td>\n",
              "      <td>...</td>\n",
              "      <td>...</td>\n",
              "      <td>...</td>\n",
              "      <td>...</td>\n",
              "      <td>...</td>\n",
              "      <td>...</td>\n",
              "    </tr>\n",
              "    <tr>\n",
              "      <th>to</th>\n",
              "      <td>-5.975111</td>\n",
              "      <td>1.737847</td>\n",
              "      <td>-1.954432</td>\n",
              "      <td>1.843301</td>\n",
              "      <td>-1.838171</td>\n",
              "      <td>0.441321</td>\n",
              "      <td>-2.091292</td>\n",
              "      <td>2.214795</td>\n",
              "      <td>2.423063</td>\n",
              "      <td>0.719316</td>\n",
              "      <td>0.636770</td>\n",
              "      <td>-0.351962</td>\n",
              "      <td>-0.551999</td>\n",
              "      <td>0.205470</td>\n",
              "      <td>0.808312</td>\n",
              "      <td>0.941102</td>\n",
              "      <td>1.084043</td>\n",
              "      <td>-0.414773</td>\n",
              "      <td>-0.042087</td>\n",
              "      <td>-0.405882</td>\n",
              "      <td>-0.346824</td>\n",
              "      <td>-1.427480</td>\n",
              "      <td>-3.151088</td>\n",
              "      <td>1.856874</td>\n",
              "      <td>-1.492634</td>\n",
              "      <td>1.337367</td>\n",
              "      <td>-4.527727</td>\n",
              "      <td>-2.688470</td>\n",
              "      <td>0.291716</td>\n",
              "      <td>1.765134</td>\n",
              "      <td>-1.946523</td>\n",
              "      <td>2.152600</td>\n",
              "      <td>0.262380</td>\n",
              "      <td>1.647303</td>\n",
              "      <td>-1.052728</td>\n",
              "      <td>-4.170058</td>\n",
              "      <td>0.223846</td>\n",
              "      <td>-0.709821</td>\n",
              "      <td>1.375976</td>\n",
              "      <td>0.284074</td>\n",
              "      <td>...</td>\n",
              "      <td>2.111251</td>\n",
              "      <td>-2.558303</td>\n",
              "      <td>-0.957589</td>\n",
              "      <td>0.964763</td>\n",
              "      <td>0.638249</td>\n",
              "      <td>2.134663</td>\n",
              "      <td>-2.931060</td>\n",
              "      <td>-1.053257</td>\n",
              "      <td>6.171402</td>\n",
              "      <td>-1.492967</td>\n",
              "      <td>-0.112972</td>\n",
              "      <td>-1.723663</td>\n",
              "      <td>0.998499</td>\n",
              "      <td>0.261857</td>\n",
              "      <td>-1.572712</td>\n",
              "      <td>-0.912306</td>\n",
              "      <td>0.258107</td>\n",
              "      <td>1.878440</td>\n",
              "      <td>2.626360</td>\n",
              "      <td>-0.639610</td>\n",
              "      <td>-3.405676</td>\n",
              "      <td>0.942659</td>\n",
              "      <td>2.032239</td>\n",
              "      <td>-0.911864</td>\n",
              "      <td>0.912093</td>\n",
              "      <td>2.239741</td>\n",
              "      <td>-4.203801</td>\n",
              "      <td>3.181182</td>\n",
              "      <td>1.934638</td>\n",
              "      <td>-0.477408</td>\n",
              "      <td>0.069358</td>\n",
              "      <td>2.321951</td>\n",
              "      <td>-1.211975</td>\n",
              "      <td>-0.833249</td>\n",
              "      <td>-1.207910</td>\n",
              "      <td>1.002598</td>\n",
              "      <td>0.787963</td>\n",
              "      <td>-0.549663</td>\n",
              "      <td>-0.701191</td>\n",
              "      <td>1.755806</td>\n",
              "    </tr>\n",
              "    <tr>\n",
              "      <th>I</th>\n",
              "      <td>-3.028549</td>\n",
              "      <td>0.151878</td>\n",
              "      <td>-1.453797</td>\n",
              "      <td>1.572490</td>\n",
              "      <td>0.891080</td>\n",
              "      <td>-0.421890</td>\n",
              "      <td>1.186723</td>\n",
              "      <td>0.746778</td>\n",
              "      <td>1.817839</td>\n",
              "      <td>1.429849</td>\n",
              "      <td>-0.061552</td>\n",
              "      <td>0.488621</td>\n",
              "      <td>0.619131</td>\n",
              "      <td>2.741023</td>\n",
              "      <td>2.499974</td>\n",
              "      <td>-1.243441</td>\n",
              "      <td>-1.018681</td>\n",
              "      <td>0.910303</td>\n",
              "      <td>-4.215549</td>\n",
              "      <td>-0.530619</td>\n",
              "      <td>0.079900</td>\n",
              "      <td>0.063057</td>\n",
              "      <td>1.057345</td>\n",
              "      <td>1.307750</td>\n",
              "      <td>-1.841095</td>\n",
              "      <td>-0.066884</td>\n",
              "      <td>-0.535655</td>\n",
              "      <td>1.073581</td>\n",
              "      <td>-2.406671</td>\n",
              "      <td>0.842522</td>\n",
              "      <td>-1.255660</td>\n",
              "      <td>2.274523</td>\n",
              "      <td>-3.393185</td>\n",
              "      <td>4.348245</td>\n",
              "      <td>-1.538555</td>\n",
              "      <td>-0.946535</td>\n",
              "      <td>-3.266390</td>\n",
              "      <td>-0.216785</td>\n",
              "      <td>1.629115</td>\n",
              "      <td>0.502899</td>\n",
              "      <td>...</td>\n",
              "      <td>1.878713</td>\n",
              "      <td>-1.990229</td>\n",
              "      <td>-0.862231</td>\n",
              "      <td>3.593217</td>\n",
              "      <td>-0.900008</td>\n",
              "      <td>0.075900</td>\n",
              "      <td>0.870120</td>\n",
              "      <td>-2.130166</td>\n",
              "      <td>2.277742</td>\n",
              "      <td>-1.474615</td>\n",
              "      <td>0.178983</td>\n",
              "      <td>0.505003</td>\n",
              "      <td>1.668705</td>\n",
              "      <td>1.978191</td>\n",
              "      <td>0.159968</td>\n",
              "      <td>-0.359750</td>\n",
              "      <td>-0.532666</td>\n",
              "      <td>-0.857395</td>\n",
              "      <td>3.821323</td>\n",
              "      <td>1.127094</td>\n",
              "      <td>2.069949</td>\n",
              "      <td>0.423491</td>\n",
              "      <td>3.225169</td>\n",
              "      <td>-2.080857</td>\n",
              "      <td>3.451809</td>\n",
              "      <td>-1.856087</td>\n",
              "      <td>-1.592429</td>\n",
              "      <td>5.044234</td>\n",
              "      <td>3.255149</td>\n",
              "      <td>-1.354695</td>\n",
              "      <td>1.653301</td>\n",
              "      <td>3.534794</td>\n",
              "      <td>-0.577750</td>\n",
              "      <td>-2.636136</td>\n",
              "      <td>-0.697295</td>\n",
              "      <td>0.486389</td>\n",
              "      <td>0.711485</td>\n",
              "      <td>-1.886060</td>\n",
              "      <td>-1.057810</td>\n",
              "      <td>1.895353</td>\n",
              "    </tr>\n",
              "    <tr>\n",
              "      <th>the</th>\n",
              "      <td>-1.953294</td>\n",
              "      <td>1.421453</td>\n",
              "      <td>-1.530675</td>\n",
              "      <td>2.527549</td>\n",
              "      <td>-1.026127</td>\n",
              "      <td>0.639382</td>\n",
              "      <td>0.711216</td>\n",
              "      <td>-0.533989</td>\n",
              "      <td>1.646397</td>\n",
              "      <td>3.151472</td>\n",
              "      <td>1.139748</td>\n",
              "      <td>-0.410660</td>\n",
              "      <td>-0.982978</td>\n",
              "      <td>0.866673</td>\n",
              "      <td>-0.351680</td>\n",
              "      <td>-0.810371</td>\n",
              "      <td>1.799398</td>\n",
              "      <td>1.336616</td>\n",
              "      <td>-1.448578</td>\n",
              "      <td>-0.031943</td>\n",
              "      <td>-2.685539</td>\n",
              "      <td>-2.178937</td>\n",
              "      <td>-1.276466</td>\n",
              "      <td>0.887155</td>\n",
              "      <td>-4.487031</td>\n",
              "      <td>-1.695044</td>\n",
              "      <td>-0.158139</td>\n",
              "      <td>-1.689740</td>\n",
              "      <td>-0.229131</td>\n",
              "      <td>2.816188</td>\n",
              "      <td>0.906471</td>\n",
              "      <td>2.139535</td>\n",
              "      <td>1.970407</td>\n",
              "      <td>0.456845</td>\n",
              "      <td>-3.817196</td>\n",
              "      <td>-0.181158</td>\n",
              "      <td>-0.938403</td>\n",
              "      <td>-2.648128</td>\n",
              "      <td>1.938165</td>\n",
              "      <td>-0.613533</td>\n",
              "      <td>...</td>\n",
              "      <td>-0.406425</td>\n",
              "      <td>-0.396568</td>\n",
              "      <td>-0.336465</td>\n",
              "      <td>0.369533</td>\n",
              "      <td>-2.694166</td>\n",
              "      <td>-1.161446</td>\n",
              "      <td>-1.172923</td>\n",
              "      <td>-0.431550</td>\n",
              "      <td>6.223951</td>\n",
              "      <td>-2.613295</td>\n",
              "      <td>-0.474082</td>\n",
              "      <td>0.828051</td>\n",
              "      <td>0.087359</td>\n",
              "      <td>2.172813</td>\n",
              "      <td>-0.432304</td>\n",
              "      <td>0.261351</td>\n",
              "      <td>-2.340102</td>\n",
              "      <td>-1.436080</td>\n",
              "      <td>2.387913</td>\n",
              "      <td>0.032054</td>\n",
              "      <td>-0.792984</td>\n",
              "      <td>-3.053725</td>\n",
              "      <td>1.826812</td>\n",
              "      <td>0.194623</td>\n",
              "      <td>-0.197701</td>\n",
              "      <td>0.179604</td>\n",
              "      <td>-3.174728</td>\n",
              "      <td>4.100907</td>\n",
              "      <td>1.064597</td>\n",
              "      <td>0.831708</td>\n",
              "      <td>1.629997</td>\n",
              "      <td>1.924907</td>\n",
              "      <td>-0.416058</td>\n",
              "      <td>0.287439</td>\n",
              "      <td>-0.890142</td>\n",
              "      <td>1.887411</td>\n",
              "      <td>1.188785</td>\n",
              "      <td>0.118239</td>\n",
              "      <td>-4.361227</td>\n",
              "      <td>0.680060</td>\n",
              "    </tr>\n",
              "    <tr>\n",
              "      <th>,</th>\n",
              "      <td>-1.581415</td>\n",
              "      <td>2.592686</td>\n",
              "      <td>-0.908246</td>\n",
              "      <td>1.538352</td>\n",
              "      <td>-0.169021</td>\n",
              "      <td>1.651217</td>\n",
              "      <td>-0.274253</td>\n",
              "      <td>-1.149500</td>\n",
              "      <td>1.785232</td>\n",
              "      <td>-0.389971</td>\n",
              "      <td>0.327921</td>\n",
              "      <td>0.236743</td>\n",
              "      <td>-0.223948</td>\n",
              "      <td>0.864025</td>\n",
              "      <td>1.095649</td>\n",
              "      <td>0.221646</td>\n",
              "      <td>1.129547</td>\n",
              "      <td>-0.075163</td>\n",
              "      <td>-1.366493</td>\n",
              "      <td>-1.357758</td>\n",
              "      <td>-0.333699</td>\n",
              "      <td>-0.991141</td>\n",
              "      <td>-2.577211</td>\n",
              "      <td>1.261099</td>\n",
              "      <td>-1.337153</td>\n",
              "      <td>-0.190519</td>\n",
              "      <td>-1.169295</td>\n",
              "      <td>-1.196756</td>\n",
              "      <td>0.012208</td>\n",
              "      <td>-0.204846</td>\n",
              "      <td>-1.633398</td>\n",
              "      <td>2.500886</td>\n",
              "      <td>0.960225</td>\n",
              "      <td>1.877372</td>\n",
              "      <td>-3.422560</td>\n",
              "      <td>0.216148</td>\n",
              "      <td>0.380777</td>\n",
              "      <td>-0.255343</td>\n",
              "      <td>-0.193491</td>\n",
              "      <td>0.808130</td>\n",
              "      <td>...</td>\n",
              "      <td>2.018820</td>\n",
              "      <td>-0.746342</td>\n",
              "      <td>-0.449940</td>\n",
              "      <td>1.101635</td>\n",
              "      <td>-0.778559</td>\n",
              "      <td>0.190766</td>\n",
              "      <td>-0.533386</td>\n",
              "      <td>0.505528</td>\n",
              "      <td>1.117951</td>\n",
              "      <td>-2.227299</td>\n",
              "      <td>0.013198</td>\n",
              "      <td>0.813781</td>\n",
              "      <td>1.761354</td>\n",
              "      <td>0.905441</td>\n",
              "      <td>-1.599533</td>\n",
              "      <td>-0.603455</td>\n",
              "      <td>-1.132853</td>\n",
              "      <td>0.132213</td>\n",
              "      <td>2.114191</td>\n",
              "      <td>-1.494362</td>\n",
              "      <td>0.500952</td>\n",
              "      <td>-1.375242</td>\n",
              "      <td>0.895133</td>\n",
              "      <td>-0.444660</td>\n",
              "      <td>0.664799</td>\n",
              "      <td>-0.115455</td>\n",
              "      <td>-2.245289</td>\n",
              "      <td>2.882595</td>\n",
              "      <td>2.150261</td>\n",
              "      <td>1.176487</td>\n",
              "      <td>0.125584</td>\n",
              "      <td>0.968974</td>\n",
              "      <td>1.879738</td>\n",
              "      <td>-0.692751</td>\n",
              "      <td>0.982845</td>\n",
              "      <td>1.438120</td>\n",
              "      <td>0.229272</td>\n",
              "      <td>-0.518984</td>\n",
              "      <td>-2.105303</td>\n",
              "      <td>3.219027</td>\n",
              "    </tr>\n",
              "    <tr>\n",
              "      <th>.</th>\n",
              "      <td>-3.291379</td>\n",
              "      <td>1.448070</td>\n",
              "      <td>-2.536314</td>\n",
              "      <td>0.460678</td>\n",
              "      <td>1.232057</td>\n",
              "      <td>1.288952</td>\n",
              "      <td>-0.008562</td>\n",
              "      <td>2.191388</td>\n",
              "      <td>1.798370</td>\n",
              "      <td>2.139058</td>\n",
              "      <td>0.672482</td>\n",
              "      <td>0.777472</td>\n",
              "      <td>-0.190983</td>\n",
              "      <td>2.316394</td>\n",
              "      <td>1.414665</td>\n",
              "      <td>-0.739405</td>\n",
              "      <td>-0.462440</td>\n",
              "      <td>-0.784649</td>\n",
              "      <td>-0.618844</td>\n",
              "      <td>-0.306141</td>\n",
              "      <td>0.146263</td>\n",
              "      <td>-1.037501</td>\n",
              "      <td>-2.955845</td>\n",
              "      <td>1.993732</td>\n",
              "      <td>-0.631884</td>\n",
              "      <td>0.568518</td>\n",
              "      <td>-0.346816</td>\n",
              "      <td>-2.458892</td>\n",
              "      <td>0.136144</td>\n",
              "      <td>3.389473</td>\n",
              "      <td>-0.100648</td>\n",
              "      <td>3.496719</td>\n",
              "      <td>1.502130</td>\n",
              "      <td>2.945649</td>\n",
              "      <td>0.098501</td>\n",
              "      <td>0.775064</td>\n",
              "      <td>-0.763068</td>\n",
              "      <td>2.301710</td>\n",
              "      <td>2.223269</td>\n",
              "      <td>-1.818895</td>\n",
              "      <td>...</td>\n",
              "      <td>2.109268</td>\n",
              "      <td>-0.274950</td>\n",
              "      <td>-0.273112</td>\n",
              "      <td>-1.478767</td>\n",
              "      <td>-1.221522</td>\n",
              "      <td>-0.033443</td>\n",
              "      <td>-1.920020</td>\n",
              "      <td>0.161039</td>\n",
              "      <td>-0.929091</td>\n",
              "      <td>0.148887</td>\n",
              "      <td>-1.226576</td>\n",
              "      <td>-0.608100</td>\n",
              "      <td>0.230467</td>\n",
              "      <td>2.130878</td>\n",
              "      <td>-1.162296</td>\n",
              "      <td>0.059652</td>\n",
              "      <td>-1.327522</td>\n",
              "      <td>-0.968940</td>\n",
              "      <td>2.525218</td>\n",
              "      <td>-0.102568</td>\n",
              "      <td>-0.758144</td>\n",
              "      <td>-2.472287</td>\n",
              "      <td>0.733920</td>\n",
              "      <td>0.267990</td>\n",
              "      <td>0.333516</td>\n",
              "      <td>-1.220908</td>\n",
              "      <td>-4.084217</td>\n",
              "      <td>2.155512</td>\n",
              "      <td>-0.303604</td>\n",
              "      <td>2.056489</td>\n",
              "      <td>-0.180632</td>\n",
              "      <td>1.552899</td>\n",
              "      <td>-0.013640</td>\n",
              "      <td>-1.711639</td>\n",
              "      <td>0.074469</td>\n",
              "      <td>2.687359</td>\n",
              "      <td>1.876580</td>\n",
              "      <td>0.832590</td>\n",
              "      <td>-1.476885</td>\n",
              "      <td>1.239464</td>\n",
              "    </tr>\n",
              "  </tbody>\n",
              "</table>\n",
              "<p>202982 rows × 100 columns</p>\n",
              "</div>"
            ],
            "text/plain": [
              "                   0         1         2   ...        97        98        99\n",
              "putz        -0.002455 -0.013684  0.004209  ... -0.001973  0.003591 -0.005495\n",
              "knee-cap     0.002236  0.005004 -0.022228  ... -0.003807  0.021340 -0.026920\n",
              "sperged      0.031641  0.034210  0.011131  ...  0.016040  0.031243 -0.009032\n",
              "statments    0.000286  0.012766  0.013990  ... -0.002565  0.033186 -0.015562\n",
              "marvelverse  0.001921  0.018765  0.000057  ... -0.017193  0.007590  0.008857\n",
              "...               ...       ...       ...  ...       ...       ...       ...\n",
              "to          -5.975111  1.737847 -1.954432  ... -0.549663 -0.701191  1.755806\n",
              "I           -3.028549  0.151878 -1.453797  ... -1.886060 -1.057810  1.895353\n",
              "the         -1.953294  1.421453 -1.530675  ...  0.118239 -4.361227  0.680060\n",
              ",           -1.581415  2.592686 -0.908246  ... -0.518984 -2.105303  3.219027\n",
              ".           -3.291379  1.448070 -2.536314  ...  0.832590 -1.476885  1.239464\n",
              "\n",
              "[202982 rows x 100 columns]"
            ]
          },
          "metadata": {
            "tags": []
          },
          "execution_count": 67
        }
      ]
    },
    {
      "cell_type": "code",
      "metadata": {
        "id": "YxSLWXB1eM-o"
      },
      "source": [
        "df2 = df"
      ],
      "execution_count": null,
      "outputs": []
    },
    {
      "cell_type": "code",
      "metadata": {
        "colab": {
          "base_uri": "https://localhost:8080/"
        },
        "id": "xe6wMLgzeQ2m",
        "outputId": "dcd0c172-75e7-4192-9a40-c3ba18d9db1a"
      },
      "source": [
        "df2.shape"
      ],
      "execution_count": null,
      "outputs": [
        {
          "output_type": "execute_result",
          "data": {
            "text/plain": [
              "(199931, 24)"
            ]
          },
          "metadata": {
            "tags": []
          },
          "execution_count": 69
        }
      ]
    },
    {
      "cell_type": "code",
      "metadata": {
        "id": "Mtn6IgIGeTOn"
      },
      "source": [
        "word_vectors.drop(word_vectors.tail(3051).index,inplace=True)"
      ],
      "execution_count": null,
      "outputs": []
    },
    {
      "cell_type": "code",
      "metadata": {
        "colab": {
          "base_uri": "https://localhost:8080/"
        },
        "id": "7T7CqcZ2eWKq",
        "outputId": "91a03764-ad26-46ab-96eb-ba2a979a0632"
      },
      "source": [
        "word_vectors.shape"
      ],
      "execution_count": null,
      "outputs": [
        {
          "output_type": "execute_result",
          "data": {
            "text/plain": [
              "(199931, 100)"
            ]
          },
          "metadata": {
            "tags": []
          },
          "execution_count": 71
        }
      ]
    },
    {
      "cell_type": "code",
      "metadata": {
        "id": "8hRXempUeYcV"
      },
      "source": [
        "indices = word_vectors.index"
      ],
      "execution_count": null,
      "outputs": []
    },
    {
      "cell_type": "code",
      "metadata": {
        "colab": {
          "base_uri": "https://localhost:8080/"
        },
        "id": "UVbgJ-ttecIT",
        "outputId": "319d8254-c863-4cb5-f5c8-d9f3921d12a3"
      },
      "source": [
        "indices"
      ],
      "execution_count": null,
      "outputs": [
        {
          "output_type": "execute_result",
          "data": {
            "text/plain": [
              "Index(['putz', 'knee-cap', 'sperged', 'statments', 'marvelverse', '43.65',\n",
              "       '2619', '2147', '2091', '/u/Transcendentist',\n",
              "       ...\n",
              "       'factors', 'latest', 'valuable', 'repost', 'significantly', 'Hard',\n",
              "       'famous', 'dislike', 'audience', 'hat'],\n",
              "      dtype='object', length=199931)"
            ]
          },
          "metadata": {
            "tags": []
          },
          "execution_count": 73
        }
      ]
    },
    {
      "cell_type": "code",
      "metadata": {
        "colab": {
          "base_uri": "https://localhost:8080/",
          "height": 426
        },
        "id": "aVtMitTIeeyW",
        "outputId": "264e406f-90f5-40a4-bac0-abb0387d2c47"
      },
      "source": [
        "word_vectors"
      ],
      "execution_count": null,
      "outputs": [
        {
          "output_type": "execute_result",
          "data": {
            "text/html": [
              "<div>\n",
              "<style scoped>\n",
              "    .dataframe tbody tr th:only-of-type {\n",
              "        vertical-align: middle;\n",
              "    }\n",
              "\n",
              "    .dataframe tbody tr th {\n",
              "        vertical-align: top;\n",
              "    }\n",
              "\n",
              "    .dataframe thead th {\n",
              "        text-align: right;\n",
              "    }\n",
              "</style>\n",
              "<table border=\"1\" class=\"dataframe\">\n",
              "  <thead>\n",
              "    <tr style=\"text-align: right;\">\n",
              "      <th></th>\n",
              "      <th>0</th>\n",
              "      <th>1</th>\n",
              "      <th>2</th>\n",
              "      <th>3</th>\n",
              "      <th>4</th>\n",
              "      <th>5</th>\n",
              "      <th>6</th>\n",
              "      <th>7</th>\n",
              "      <th>8</th>\n",
              "      <th>9</th>\n",
              "      <th>10</th>\n",
              "      <th>11</th>\n",
              "      <th>12</th>\n",
              "      <th>13</th>\n",
              "      <th>14</th>\n",
              "      <th>15</th>\n",
              "      <th>16</th>\n",
              "      <th>17</th>\n",
              "      <th>18</th>\n",
              "      <th>19</th>\n",
              "      <th>20</th>\n",
              "      <th>21</th>\n",
              "      <th>22</th>\n",
              "      <th>23</th>\n",
              "      <th>24</th>\n",
              "      <th>25</th>\n",
              "      <th>26</th>\n",
              "      <th>27</th>\n",
              "      <th>28</th>\n",
              "      <th>29</th>\n",
              "      <th>30</th>\n",
              "      <th>31</th>\n",
              "      <th>32</th>\n",
              "      <th>33</th>\n",
              "      <th>34</th>\n",
              "      <th>35</th>\n",
              "      <th>36</th>\n",
              "      <th>37</th>\n",
              "      <th>38</th>\n",
              "      <th>39</th>\n",
              "      <th>...</th>\n",
              "      <th>60</th>\n",
              "      <th>61</th>\n",
              "      <th>62</th>\n",
              "      <th>63</th>\n",
              "      <th>64</th>\n",
              "      <th>65</th>\n",
              "      <th>66</th>\n",
              "      <th>67</th>\n",
              "      <th>68</th>\n",
              "      <th>69</th>\n",
              "      <th>70</th>\n",
              "      <th>71</th>\n",
              "      <th>72</th>\n",
              "      <th>73</th>\n",
              "      <th>74</th>\n",
              "      <th>75</th>\n",
              "      <th>76</th>\n",
              "      <th>77</th>\n",
              "      <th>78</th>\n",
              "      <th>79</th>\n",
              "      <th>80</th>\n",
              "      <th>81</th>\n",
              "      <th>82</th>\n",
              "      <th>83</th>\n",
              "      <th>84</th>\n",
              "      <th>85</th>\n",
              "      <th>86</th>\n",
              "      <th>87</th>\n",
              "      <th>88</th>\n",
              "      <th>89</th>\n",
              "      <th>90</th>\n",
              "      <th>91</th>\n",
              "      <th>92</th>\n",
              "      <th>93</th>\n",
              "      <th>94</th>\n",
              "      <th>95</th>\n",
              "      <th>96</th>\n",
              "      <th>97</th>\n",
              "      <th>98</th>\n",
              "      <th>99</th>\n",
              "    </tr>\n",
              "  </thead>\n",
              "  <tbody>\n",
              "    <tr>\n",
              "      <th>putz</th>\n",
              "      <td>-0.002455</td>\n",
              "      <td>-0.013684</td>\n",
              "      <td>0.004209</td>\n",
              "      <td>0.016556</td>\n",
              "      <td>-0.011971</td>\n",
              "      <td>0.005433</td>\n",
              "      <td>0.008935</td>\n",
              "      <td>-0.003368</td>\n",
              "      <td>0.005476</td>\n",
              "      <td>0.001693</td>\n",
              "      <td>-0.007061</td>\n",
              "      <td>-0.019890</td>\n",
              "      <td>-0.012826</td>\n",
              "      <td>0.001660</td>\n",
              "      <td>-0.016959</td>\n",
              "      <td>0.004492</td>\n",
              "      <td>0.019156</td>\n",
              "      <td>-0.009628</td>\n",
              "      <td>-0.007020</td>\n",
              "      <td>0.006998</td>\n",
              "      <td>-0.000334</td>\n",
              "      <td>-0.006541</td>\n",
              "      <td>0.008309</td>\n",
              "      <td>-0.008340</td>\n",
              "      <td>-0.015653</td>\n",
              "      <td>-0.000495</td>\n",
              "      <td>-0.004572</td>\n",
              "      <td>0.005116</td>\n",
              "      <td>-0.027673</td>\n",
              "      <td>0.019699</td>\n",
              "      <td>-0.014705</td>\n",
              "      <td>-0.004281</td>\n",
              "      <td>-0.011230</td>\n",
              "      <td>-0.000353</td>\n",
              "      <td>0.009490</td>\n",
              "      <td>0.008627</td>\n",
              "      <td>0.012446</td>\n",
              "      <td>-0.012153</td>\n",
              "      <td>-0.011446</td>\n",
              "      <td>0.003917</td>\n",
              "      <td>...</td>\n",
              "      <td>-0.004472</td>\n",
              "      <td>0.010512</td>\n",
              "      <td>-0.001841</td>\n",
              "      <td>-0.014096</td>\n",
              "      <td>-0.003491</td>\n",
              "      <td>0.003538</td>\n",
              "      <td>0.016938</td>\n",
              "      <td>-0.005875</td>\n",
              "      <td>-0.016579</td>\n",
              "      <td>-0.009976</td>\n",
              "      <td>0.005995</td>\n",
              "      <td>0.010751</td>\n",
              "      <td>-0.003874</td>\n",
              "      <td>-0.022471</td>\n",
              "      <td>0.008966</td>\n",
              "      <td>0.009354</td>\n",
              "      <td>0.005786</td>\n",
              "      <td>-0.001806</td>\n",
              "      <td>0.005443</td>\n",
              "      <td>-0.004219</td>\n",
              "      <td>-0.000416</td>\n",
              "      <td>0.008154</td>\n",
              "      <td>0.010394</td>\n",
              "      <td>0.021241</td>\n",
              "      <td>0.009063</td>\n",
              "      <td>-0.018724</td>\n",
              "      <td>0.000736</td>\n",
              "      <td>-0.009620</td>\n",
              "      <td>0.018924</td>\n",
              "      <td>0.012083</td>\n",
              "      <td>0.003670</td>\n",
              "      <td>0.005175</td>\n",
              "      <td>0.010130</td>\n",
              "      <td>0.007038</td>\n",
              "      <td>0.011265</td>\n",
              "      <td>-0.002826</td>\n",
              "      <td>0.004939</td>\n",
              "      <td>-0.001973</td>\n",
              "      <td>0.003591</td>\n",
              "      <td>-0.005495</td>\n",
              "    </tr>\n",
              "    <tr>\n",
              "      <th>knee-cap</th>\n",
              "      <td>0.002236</td>\n",
              "      <td>0.005004</td>\n",
              "      <td>-0.022228</td>\n",
              "      <td>-0.023699</td>\n",
              "      <td>0.013524</td>\n",
              "      <td>0.002412</td>\n",
              "      <td>0.013493</td>\n",
              "      <td>0.006755</td>\n",
              "      <td>-0.000829</td>\n",
              "      <td>0.028552</td>\n",
              "      <td>-0.006379</td>\n",
              "      <td>-0.030454</td>\n",
              "      <td>-0.001209</td>\n",
              "      <td>-0.016817</td>\n",
              "      <td>-0.006624</td>\n",
              "      <td>-0.003926</td>\n",
              "      <td>0.023035</td>\n",
              "      <td>-0.010528</td>\n",
              "      <td>-0.022669</td>\n",
              "      <td>0.038932</td>\n",
              "      <td>-0.007011</td>\n",
              "      <td>-0.001395</td>\n",
              "      <td>0.012973</td>\n",
              "      <td>-0.003777</td>\n",
              "      <td>-0.007502</td>\n",
              "      <td>0.007278</td>\n",
              "      <td>-0.019304</td>\n",
              "      <td>-0.009873</td>\n",
              "      <td>0.001798</td>\n",
              "      <td>0.033959</td>\n",
              "      <td>-0.017126</td>\n",
              "      <td>-0.006738</td>\n",
              "      <td>-0.005311</td>\n",
              "      <td>0.007848</td>\n",
              "      <td>0.016041</td>\n",
              "      <td>0.002984</td>\n",
              "      <td>0.010646</td>\n",
              "      <td>-0.002774</td>\n",
              "      <td>-0.017904</td>\n",
              "      <td>-0.002558</td>\n",
              "      <td>...</td>\n",
              "      <td>-0.000765</td>\n",
              "      <td>-0.022914</td>\n",
              "      <td>0.001195</td>\n",
              "      <td>-0.011407</td>\n",
              "      <td>0.003761</td>\n",
              "      <td>0.003557</td>\n",
              "      <td>0.013097</td>\n",
              "      <td>0.007812</td>\n",
              "      <td>-0.008791</td>\n",
              "      <td>-0.022155</td>\n",
              "      <td>0.012078</td>\n",
              "      <td>0.008467</td>\n",
              "      <td>0.009285</td>\n",
              "      <td>-0.022991</td>\n",
              "      <td>0.019942</td>\n",
              "      <td>0.034217</td>\n",
              "      <td>-0.047597</td>\n",
              "      <td>-0.019006</td>\n",
              "      <td>-0.001361</td>\n",
              "      <td>-0.000418</td>\n",
              "      <td>-0.000920</td>\n",
              "      <td>0.018715</td>\n",
              "      <td>-0.010152</td>\n",
              "      <td>0.015324</td>\n",
              "      <td>-0.003190</td>\n",
              "      <td>-0.009846</td>\n",
              "      <td>0.018215</td>\n",
              "      <td>0.024552</td>\n",
              "      <td>0.008736</td>\n",
              "      <td>0.022166</td>\n",
              "      <td>0.032547</td>\n",
              "      <td>0.007327</td>\n",
              "      <td>-0.001626</td>\n",
              "      <td>0.028324</td>\n",
              "      <td>-0.002603</td>\n",
              "      <td>0.000727</td>\n",
              "      <td>0.007593</td>\n",
              "      <td>-0.003807</td>\n",
              "      <td>0.021340</td>\n",
              "      <td>-0.026920</td>\n",
              "    </tr>\n",
              "    <tr>\n",
              "      <th>sperged</th>\n",
              "      <td>0.031641</td>\n",
              "      <td>0.034210</td>\n",
              "      <td>0.011131</td>\n",
              "      <td>0.006555</td>\n",
              "      <td>-0.031496</td>\n",
              "      <td>-0.002594</td>\n",
              "      <td>0.004476</td>\n",
              "      <td>-0.001463</td>\n",
              "      <td>0.014069</td>\n",
              "      <td>-0.000425</td>\n",
              "      <td>-0.026850</td>\n",
              "      <td>-0.020480</td>\n",
              "      <td>-0.013670</td>\n",
              "      <td>0.004386</td>\n",
              "      <td>-0.004091</td>\n",
              "      <td>0.021404</td>\n",
              "      <td>0.027538</td>\n",
              "      <td>-0.008291</td>\n",
              "      <td>-0.007207</td>\n",
              "      <td>0.050315</td>\n",
              "      <td>-0.014856</td>\n",
              "      <td>0.003288</td>\n",
              "      <td>0.019014</td>\n",
              "      <td>-0.005837</td>\n",
              "      <td>0.014539</td>\n",
              "      <td>0.004520</td>\n",
              "      <td>-0.008696</td>\n",
              "      <td>-0.002057</td>\n",
              "      <td>0.006952</td>\n",
              "      <td>0.019436</td>\n",
              "      <td>-0.034519</td>\n",
              "      <td>-0.000084</td>\n",
              "      <td>-0.003908</td>\n",
              "      <td>-0.015063</td>\n",
              "      <td>0.028111</td>\n",
              "      <td>0.007244</td>\n",
              "      <td>-0.002716</td>\n",
              "      <td>-0.018049</td>\n",
              "      <td>0.001744</td>\n",
              "      <td>-0.009603</td>\n",
              "      <td>...</td>\n",
              "      <td>-0.047200</td>\n",
              "      <td>0.002122</td>\n",
              "      <td>0.009352</td>\n",
              "      <td>-0.028376</td>\n",
              "      <td>0.005081</td>\n",
              "      <td>0.003176</td>\n",
              "      <td>-0.001998</td>\n",
              "      <td>-0.021892</td>\n",
              "      <td>-0.019915</td>\n",
              "      <td>-0.017652</td>\n",
              "      <td>-0.001388</td>\n",
              "      <td>-0.005602</td>\n",
              "      <td>-0.014057</td>\n",
              "      <td>0.025217</td>\n",
              "      <td>0.002820</td>\n",
              "      <td>0.019371</td>\n",
              "      <td>-0.031358</td>\n",
              "      <td>-0.030498</td>\n",
              "      <td>-0.016480</td>\n",
              "      <td>-0.009365</td>\n",
              "      <td>0.007682</td>\n",
              "      <td>0.008890</td>\n",
              "      <td>-0.007271</td>\n",
              "      <td>0.000240</td>\n",
              "      <td>-0.014101</td>\n",
              "      <td>-0.017363</td>\n",
              "      <td>-0.006284</td>\n",
              "      <td>0.018665</td>\n",
              "      <td>-0.018259</td>\n",
              "      <td>0.014588</td>\n",
              "      <td>0.018277</td>\n",
              "      <td>0.005537</td>\n",
              "      <td>-0.012822</td>\n",
              "      <td>0.021440</td>\n",
              "      <td>0.000742</td>\n",
              "      <td>0.012992</td>\n",
              "      <td>-0.015682</td>\n",
              "      <td>0.016040</td>\n",
              "      <td>0.031243</td>\n",
              "      <td>-0.009032</td>\n",
              "    </tr>\n",
              "    <tr>\n",
              "      <th>statments</th>\n",
              "      <td>0.000286</td>\n",
              "      <td>0.012766</td>\n",
              "      <td>0.013990</td>\n",
              "      <td>-0.005638</td>\n",
              "      <td>-0.011525</td>\n",
              "      <td>0.000663</td>\n",
              "      <td>0.007408</td>\n",
              "      <td>0.002586</td>\n",
              "      <td>0.012271</td>\n",
              "      <td>0.005570</td>\n",
              "      <td>-0.017541</td>\n",
              "      <td>-0.017611</td>\n",
              "      <td>-0.003277</td>\n",
              "      <td>0.002263</td>\n",
              "      <td>0.004933</td>\n",
              "      <td>0.000768</td>\n",
              "      <td>0.008274</td>\n",
              "      <td>-0.016280</td>\n",
              "      <td>-0.011921</td>\n",
              "      <td>0.024331</td>\n",
              "      <td>0.006650</td>\n",
              "      <td>0.010352</td>\n",
              "      <td>0.020165</td>\n",
              "      <td>-0.005671</td>\n",
              "      <td>-0.019388</td>\n",
              "      <td>-0.001393</td>\n",
              "      <td>-0.018864</td>\n",
              "      <td>-0.008255</td>\n",
              "      <td>-0.000623</td>\n",
              "      <td>0.000099</td>\n",
              "      <td>0.003470</td>\n",
              "      <td>-0.007731</td>\n",
              "      <td>0.006234</td>\n",
              "      <td>-0.002684</td>\n",
              "      <td>0.020193</td>\n",
              "      <td>0.000124</td>\n",
              "      <td>0.018646</td>\n",
              "      <td>-0.008440</td>\n",
              "      <td>-0.015413</td>\n",
              "      <td>0.007304</td>\n",
              "      <td>...</td>\n",
              "      <td>-0.013526</td>\n",
              "      <td>-0.015257</td>\n",
              "      <td>-0.002434</td>\n",
              "      <td>-0.002061</td>\n",
              "      <td>0.006292</td>\n",
              "      <td>0.006183</td>\n",
              "      <td>-0.004924</td>\n",
              "      <td>0.027534</td>\n",
              "      <td>-0.031950</td>\n",
              "      <td>-0.020429</td>\n",
              "      <td>0.019556</td>\n",
              "      <td>-0.000107</td>\n",
              "      <td>0.014160</td>\n",
              "      <td>-0.016923</td>\n",
              "      <td>-0.009244</td>\n",
              "      <td>-0.000270</td>\n",
              "      <td>0.001431</td>\n",
              "      <td>-0.018549</td>\n",
              "      <td>0.007716</td>\n",
              "      <td>0.023023</td>\n",
              "      <td>0.006846</td>\n",
              "      <td>0.004413</td>\n",
              "      <td>-0.013366</td>\n",
              "      <td>-0.002901</td>\n",
              "      <td>-0.012479</td>\n",
              "      <td>-0.013462</td>\n",
              "      <td>0.004292</td>\n",
              "      <td>0.001139</td>\n",
              "      <td>0.008489</td>\n",
              "      <td>0.019101</td>\n",
              "      <td>0.004968</td>\n",
              "      <td>-0.023624</td>\n",
              "      <td>-0.003427</td>\n",
              "      <td>0.010470</td>\n",
              "      <td>0.010591</td>\n",
              "      <td>-0.020896</td>\n",
              "      <td>0.003992</td>\n",
              "      <td>-0.002565</td>\n",
              "      <td>0.033186</td>\n",
              "      <td>-0.015562</td>\n",
              "    </tr>\n",
              "    <tr>\n",
              "      <th>marvelverse</th>\n",
              "      <td>0.001921</td>\n",
              "      <td>0.018765</td>\n",
              "      <td>0.000057</td>\n",
              "      <td>-0.017486</td>\n",
              "      <td>0.011343</td>\n",
              "      <td>0.000991</td>\n",
              "      <td>-0.001676</td>\n",
              "      <td>-0.001276</td>\n",
              "      <td>-0.010631</td>\n",
              "      <td>-0.011337</td>\n",
              "      <td>-0.030506</td>\n",
              "      <td>-0.004904</td>\n",
              "      <td>0.013125</td>\n",
              "      <td>-0.000452</td>\n",
              "      <td>0.013973</td>\n",
              "      <td>0.015623</td>\n",
              "      <td>-0.000446</td>\n",
              "      <td>0.009256</td>\n",
              "      <td>0.002526</td>\n",
              "      <td>-0.000722</td>\n",
              "      <td>-0.006987</td>\n",
              "      <td>-0.012327</td>\n",
              "      <td>-0.012063</td>\n",
              "      <td>0.006588</td>\n",
              "      <td>0.004014</td>\n",
              "      <td>0.004165</td>\n",
              "      <td>-0.017090</td>\n",
              "      <td>-0.005872</td>\n",
              "      <td>-0.013899</td>\n",
              "      <td>-0.008563</td>\n",
              "      <td>-0.008074</td>\n",
              "      <td>-0.000091</td>\n",
              "      <td>0.010809</td>\n",
              "      <td>-0.005909</td>\n",
              "      <td>-0.008001</td>\n",
              "      <td>0.011245</td>\n",
              "      <td>0.009923</td>\n",
              "      <td>-0.003273</td>\n",
              "      <td>0.007219</td>\n",
              "      <td>-0.021244</td>\n",
              "      <td>...</td>\n",
              "      <td>-0.024225</td>\n",
              "      <td>0.003830</td>\n",
              "      <td>-0.006218</td>\n",
              "      <td>0.021337</td>\n",
              "      <td>0.005783</td>\n",
              "      <td>0.008630</td>\n",
              "      <td>0.002812</td>\n",
              "      <td>-0.002610</td>\n",
              "      <td>-0.003517</td>\n",
              "      <td>-0.010916</td>\n",
              "      <td>-0.007743</td>\n",
              "      <td>-0.011457</td>\n",
              "      <td>-0.010208</td>\n",
              "      <td>0.013068</td>\n",
              "      <td>-0.000114</td>\n",
              "      <td>0.012596</td>\n",
              "      <td>0.008701</td>\n",
              "      <td>0.002930</td>\n",
              "      <td>-0.006267</td>\n",
              "      <td>0.001245</td>\n",
              "      <td>-0.005934</td>\n",
              "      <td>0.008319</td>\n",
              "      <td>0.010495</td>\n",
              "      <td>-0.007274</td>\n",
              "      <td>0.006935</td>\n",
              "      <td>0.001067</td>\n",
              "      <td>0.000900</td>\n",
              "      <td>-0.000236</td>\n",
              "      <td>-0.000637</td>\n",
              "      <td>0.014474</td>\n",
              "      <td>0.007917</td>\n",
              "      <td>0.003000</td>\n",
              "      <td>0.005210</td>\n",
              "      <td>0.017866</td>\n",
              "      <td>0.008785</td>\n",
              "      <td>0.009423</td>\n",
              "      <td>0.020099</td>\n",
              "      <td>-0.017193</td>\n",
              "      <td>0.007590</td>\n",
              "      <td>0.008857</td>\n",
              "    </tr>\n",
              "    <tr>\n",
              "      <th>...</th>\n",
              "      <td>...</td>\n",
              "      <td>...</td>\n",
              "      <td>...</td>\n",
              "      <td>...</td>\n",
              "      <td>...</td>\n",
              "      <td>...</td>\n",
              "      <td>...</td>\n",
              "      <td>...</td>\n",
              "      <td>...</td>\n",
              "      <td>...</td>\n",
              "      <td>...</td>\n",
              "      <td>...</td>\n",
              "      <td>...</td>\n",
              "      <td>...</td>\n",
              "      <td>...</td>\n",
              "      <td>...</td>\n",
              "      <td>...</td>\n",
              "      <td>...</td>\n",
              "      <td>...</td>\n",
              "      <td>...</td>\n",
              "      <td>...</td>\n",
              "      <td>...</td>\n",
              "      <td>...</td>\n",
              "      <td>...</td>\n",
              "      <td>...</td>\n",
              "      <td>...</td>\n",
              "      <td>...</td>\n",
              "      <td>...</td>\n",
              "      <td>...</td>\n",
              "      <td>...</td>\n",
              "      <td>...</td>\n",
              "      <td>...</td>\n",
              "      <td>...</td>\n",
              "      <td>...</td>\n",
              "      <td>...</td>\n",
              "      <td>...</td>\n",
              "      <td>...</td>\n",
              "      <td>...</td>\n",
              "      <td>...</td>\n",
              "      <td>...</td>\n",
              "      <td>...</td>\n",
              "      <td>...</td>\n",
              "      <td>...</td>\n",
              "      <td>...</td>\n",
              "      <td>...</td>\n",
              "      <td>...</td>\n",
              "      <td>...</td>\n",
              "      <td>...</td>\n",
              "      <td>...</td>\n",
              "      <td>...</td>\n",
              "      <td>...</td>\n",
              "      <td>...</td>\n",
              "      <td>...</td>\n",
              "      <td>...</td>\n",
              "      <td>...</td>\n",
              "      <td>...</td>\n",
              "      <td>...</td>\n",
              "      <td>...</td>\n",
              "      <td>...</td>\n",
              "      <td>...</td>\n",
              "      <td>...</td>\n",
              "      <td>...</td>\n",
              "      <td>...</td>\n",
              "      <td>...</td>\n",
              "      <td>...</td>\n",
              "      <td>...</td>\n",
              "      <td>...</td>\n",
              "      <td>...</td>\n",
              "      <td>...</td>\n",
              "      <td>...</td>\n",
              "      <td>...</td>\n",
              "      <td>...</td>\n",
              "      <td>...</td>\n",
              "      <td>...</td>\n",
              "      <td>...</td>\n",
              "      <td>...</td>\n",
              "      <td>...</td>\n",
              "      <td>...</td>\n",
              "      <td>...</td>\n",
              "      <td>...</td>\n",
              "      <td>...</td>\n",
              "    </tr>\n",
              "    <tr>\n",
              "      <th>Hard</th>\n",
              "      <td>-0.701792</td>\n",
              "      <td>-0.068700</td>\n",
              "      <td>0.003221</td>\n",
              "      <td>-0.630091</td>\n",
              "      <td>-0.150833</td>\n",
              "      <td>-0.457007</td>\n",
              "      <td>0.181798</td>\n",
              "      <td>0.856184</td>\n",
              "      <td>-0.494565</td>\n",
              "      <td>-0.634306</td>\n",
              "      <td>-0.514647</td>\n",
              "      <td>-0.586140</td>\n",
              "      <td>-0.214433</td>\n",
              "      <td>-0.388888</td>\n",
              "      <td>0.251948</td>\n",
              "      <td>-0.153123</td>\n",
              "      <td>0.611838</td>\n",
              "      <td>-0.371532</td>\n",
              "      <td>-0.097076</td>\n",
              "      <td>0.539211</td>\n",
              "      <td>-0.065807</td>\n",
              "      <td>-0.690242</td>\n",
              "      <td>0.392008</td>\n",
              "      <td>-0.347755</td>\n",
              "      <td>0.916460</td>\n",
              "      <td>0.880636</td>\n",
              "      <td>-0.445320</td>\n",
              "      <td>-0.340959</td>\n",
              "      <td>-0.215333</td>\n",
              "      <td>0.132704</td>\n",
              "      <td>-0.160135</td>\n",
              "      <td>-0.170187</td>\n",
              "      <td>-0.276883</td>\n",
              "      <td>-0.108134</td>\n",
              "      <td>0.300926</td>\n",
              "      <td>0.229885</td>\n",
              "      <td>-0.341835</td>\n",
              "      <td>-0.531943</td>\n",
              "      <td>0.375695</td>\n",
              "      <td>0.287320</td>\n",
              "      <td>...</td>\n",
              "      <td>-0.449253</td>\n",
              "      <td>-0.206308</td>\n",
              "      <td>0.090247</td>\n",
              "      <td>-0.602068</td>\n",
              "      <td>-0.385248</td>\n",
              "      <td>-0.422119</td>\n",
              "      <td>-0.200690</td>\n",
              "      <td>-0.036755</td>\n",
              "      <td>-0.292490</td>\n",
              "      <td>-0.724911</td>\n",
              "      <td>0.452455</td>\n",
              "      <td>0.472513</td>\n",
              "      <td>-0.342052</td>\n",
              "      <td>-0.431866</td>\n",
              "      <td>0.757903</td>\n",
              "      <td>0.078950</td>\n",
              "      <td>-0.095346</td>\n",
              "      <td>-0.091534</td>\n",
              "      <td>-0.205721</td>\n",
              "      <td>0.008307</td>\n",
              "      <td>-0.072663</td>\n",
              "      <td>-0.654841</td>\n",
              "      <td>0.110914</td>\n",
              "      <td>-0.246485</td>\n",
              "      <td>-0.107754</td>\n",
              "      <td>-0.523906</td>\n",
              "      <td>0.167749</td>\n",
              "      <td>0.637935</td>\n",
              "      <td>0.559279</td>\n",
              "      <td>-0.041810</td>\n",
              "      <td>-0.441748</td>\n",
              "      <td>0.448758</td>\n",
              "      <td>0.030976</td>\n",
              "      <td>0.768315</td>\n",
              "      <td>0.135335</td>\n",
              "      <td>-1.070862</td>\n",
              "      <td>-0.268332</td>\n",
              "      <td>0.077572</td>\n",
              "      <td>0.205371</td>\n",
              "      <td>-0.484490</td>\n",
              "    </tr>\n",
              "    <tr>\n",
              "      <th>famous</th>\n",
              "      <td>-0.281324</td>\n",
              "      <td>0.750466</td>\n",
              "      <td>0.077268</td>\n",
              "      <td>-0.140879</td>\n",
              "      <td>-0.270734</td>\n",
              "      <td>-0.059698</td>\n",
              "      <td>-0.064896</td>\n",
              "      <td>0.397849</td>\n",
              "      <td>-0.012965</td>\n",
              "      <td>-0.195723</td>\n",
              "      <td>-0.126260</td>\n",
              "      <td>-0.159563</td>\n",
              "      <td>0.509748</td>\n",
              "      <td>-0.570857</td>\n",
              "      <td>0.123109</td>\n",
              "      <td>-0.412672</td>\n",
              "      <td>0.514124</td>\n",
              "      <td>0.166184</td>\n",
              "      <td>0.245793</td>\n",
              "      <td>0.026623</td>\n",
              "      <td>-0.154675</td>\n",
              "      <td>-0.524015</td>\n",
              "      <td>0.409003</td>\n",
              "      <td>0.284815</td>\n",
              "      <td>-0.129229</td>\n",
              "      <td>0.349914</td>\n",
              "      <td>-0.440028</td>\n",
              "      <td>-0.485316</td>\n",
              "      <td>0.483198</td>\n",
              "      <td>0.489370</td>\n",
              "      <td>-0.829855</td>\n",
              "      <td>0.358919</td>\n",
              "      <td>-0.417398</td>\n",
              "      <td>-0.092765</td>\n",
              "      <td>-0.103267</td>\n",
              "      <td>-0.013751</td>\n",
              "      <td>0.209940</td>\n",
              "      <td>-0.009080</td>\n",
              "      <td>0.324570</td>\n",
              "      <td>-0.669323</td>\n",
              "      <td>...</td>\n",
              "      <td>-0.307690</td>\n",
              "      <td>-0.079529</td>\n",
              "      <td>-0.104118</td>\n",
              "      <td>0.143001</td>\n",
              "      <td>-0.482254</td>\n",
              "      <td>-0.282056</td>\n",
              "      <td>0.122859</td>\n",
              "      <td>0.711082</td>\n",
              "      <td>-0.369245</td>\n",
              "      <td>-0.762874</td>\n",
              "      <td>0.161658</td>\n",
              "      <td>-0.215992</td>\n",
              "      <td>-0.052916</td>\n",
              "      <td>-0.056149</td>\n",
              "      <td>-0.212481</td>\n",
              "      <td>-0.480762</td>\n",
              "      <td>0.429463</td>\n",
              "      <td>-0.418726</td>\n",
              "      <td>0.273902</td>\n",
              "      <td>0.306224</td>\n",
              "      <td>-0.273810</td>\n",
              "      <td>-0.161746</td>\n",
              "      <td>-0.529370</td>\n",
              "      <td>-0.081879</td>\n",
              "      <td>0.028244</td>\n",
              "      <td>-0.322906</td>\n",
              "      <td>-0.113187</td>\n",
              "      <td>0.752260</td>\n",
              "      <td>0.212473</td>\n",
              "      <td>0.853502</td>\n",
              "      <td>-0.111472</td>\n",
              "      <td>-0.108598</td>\n",
              "      <td>-0.332097</td>\n",
              "      <td>0.286858</td>\n",
              "      <td>0.058429</td>\n",
              "      <td>0.029809</td>\n",
              "      <td>0.195013</td>\n",
              "      <td>0.064291</td>\n",
              "      <td>0.024369</td>\n",
              "      <td>-0.565616</td>\n",
              "    </tr>\n",
              "    <tr>\n",
              "      <th>dislike</th>\n",
              "      <td>0.527109</td>\n",
              "      <td>0.787019</td>\n",
              "      <td>0.180941</td>\n",
              "      <td>0.336485</td>\n",
              "      <td>0.011546</td>\n",
              "      <td>0.235915</td>\n",
              "      <td>-0.043835</td>\n",
              "      <td>0.673639</td>\n",
              "      <td>-0.465951</td>\n",
              "      <td>-0.177188</td>\n",
              "      <td>-0.187870</td>\n",
              "      <td>0.192838</td>\n",
              "      <td>0.106847</td>\n",
              "      <td>0.070308</td>\n",
              "      <td>0.217623</td>\n",
              "      <td>0.185148</td>\n",
              "      <td>0.040886</td>\n",
              "      <td>-0.297810</td>\n",
              "      <td>-0.278130</td>\n",
              "      <td>-0.118877</td>\n",
              "      <td>0.090925</td>\n",
              "      <td>-0.266631</td>\n",
              "      <td>0.844140</td>\n",
              "      <td>1.465131</td>\n",
              "      <td>-0.655826</td>\n",
              "      <td>-0.058242</td>\n",
              "      <td>-0.639069</td>\n",
              "      <td>0.089773</td>\n",
              "      <td>-0.792772</td>\n",
              "      <td>-0.213948</td>\n",
              "      <td>0.078117</td>\n",
              "      <td>-0.040533</td>\n",
              "      <td>-0.702509</td>\n",
              "      <td>-0.110415</td>\n",
              "      <td>-0.044059</td>\n",
              "      <td>0.004518</td>\n",
              "      <td>-0.182653</td>\n",
              "      <td>-0.053507</td>\n",
              "      <td>0.101053</td>\n",
              "      <td>-0.109093</td>\n",
              "      <td>...</td>\n",
              "      <td>-0.118781</td>\n",
              "      <td>-0.528389</td>\n",
              "      <td>-0.307677</td>\n",
              "      <td>0.288515</td>\n",
              "      <td>0.076598</td>\n",
              "      <td>0.243853</td>\n",
              "      <td>-0.125529</td>\n",
              "      <td>0.621533</td>\n",
              "      <td>-0.189135</td>\n",
              "      <td>-0.368151</td>\n",
              "      <td>-0.116203</td>\n",
              "      <td>0.150219</td>\n",
              "      <td>-0.020470</td>\n",
              "      <td>0.270454</td>\n",
              "      <td>-0.574086</td>\n",
              "      <td>0.072470</td>\n",
              "      <td>0.540530</td>\n",
              "      <td>-0.416300</td>\n",
              "      <td>0.089172</td>\n",
              "      <td>0.352694</td>\n",
              "      <td>-0.120505</td>\n",
              "      <td>-0.139028</td>\n",
              "      <td>-0.461727</td>\n",
              "      <td>-0.066935</td>\n",
              "      <td>-0.531964</td>\n",
              "      <td>0.648085</td>\n",
              "      <td>-0.397473</td>\n",
              "      <td>-0.011637</td>\n",
              "      <td>0.033797</td>\n",
              "      <td>0.580084</td>\n",
              "      <td>-0.538234</td>\n",
              "      <td>0.234097</td>\n",
              "      <td>0.221831</td>\n",
              "      <td>0.206100</td>\n",
              "      <td>0.127653</td>\n",
              "      <td>-0.042232</td>\n",
              "      <td>-0.153798</td>\n",
              "      <td>0.566152</td>\n",
              "      <td>0.766764</td>\n",
              "      <td>-0.177217</td>\n",
              "    </tr>\n",
              "    <tr>\n",
              "      <th>audience</th>\n",
              "      <td>-0.290053</td>\n",
              "      <td>0.344304</td>\n",
              "      <td>0.580991</td>\n",
              "      <td>-0.163298</td>\n",
              "      <td>-0.294500</td>\n",
              "      <td>-0.433321</td>\n",
              "      <td>0.140204</td>\n",
              "      <td>-0.137861</td>\n",
              "      <td>-0.305470</td>\n",
              "      <td>-0.028978</td>\n",
              "      <td>-0.419783</td>\n",
              "      <td>-0.414992</td>\n",
              "      <td>0.602687</td>\n",
              "      <td>0.311394</td>\n",
              "      <td>0.398679</td>\n",
              "      <td>0.240792</td>\n",
              "      <td>-0.061750</td>\n",
              "      <td>-0.212037</td>\n",
              "      <td>0.068624</td>\n",
              "      <td>0.087060</td>\n",
              "      <td>-0.018217</td>\n",
              "      <td>-0.278727</td>\n",
              "      <td>0.146269</td>\n",
              "      <td>-0.052113</td>\n",
              "      <td>-0.298977</td>\n",
              "      <td>0.005556</td>\n",
              "      <td>-0.580692</td>\n",
              "      <td>-0.387099</td>\n",
              "      <td>0.047413</td>\n",
              "      <td>-0.102547</td>\n",
              "      <td>-0.690109</td>\n",
              "      <td>0.396560</td>\n",
              "      <td>-0.300344</td>\n",
              "      <td>-0.153189</td>\n",
              "      <td>-0.163856</td>\n",
              "      <td>-0.604398</td>\n",
              "      <td>0.082493</td>\n",
              "      <td>0.053142</td>\n",
              "      <td>0.491849</td>\n",
              "      <td>0.035112</td>\n",
              "      <td>...</td>\n",
              "      <td>-0.071385</td>\n",
              "      <td>0.090343</td>\n",
              "      <td>-0.044817</td>\n",
              "      <td>-0.065574</td>\n",
              "      <td>-0.552144</td>\n",
              "      <td>0.027328</td>\n",
              "      <td>-0.317460</td>\n",
              "      <td>0.364146</td>\n",
              "      <td>0.108404</td>\n",
              "      <td>-0.638396</td>\n",
              "      <td>-0.760614</td>\n",
              "      <td>0.664165</td>\n",
              "      <td>0.510276</td>\n",
              "      <td>0.498042</td>\n",
              "      <td>0.151525</td>\n",
              "      <td>-0.070881</td>\n",
              "      <td>0.256292</td>\n",
              "      <td>-0.522988</td>\n",
              "      <td>0.636699</td>\n",
              "      <td>0.438107</td>\n",
              "      <td>-0.790373</td>\n",
              "      <td>-0.221202</td>\n",
              "      <td>-0.241626</td>\n",
              "      <td>0.205605</td>\n",
              "      <td>0.125045</td>\n",
              "      <td>-0.105348</td>\n",
              "      <td>-0.169177</td>\n",
              "      <td>1.168244</td>\n",
              "      <td>0.505435</td>\n",
              "      <td>0.497396</td>\n",
              "      <td>0.347460</td>\n",
              "      <td>0.372463</td>\n",
              "      <td>0.111549</td>\n",
              "      <td>-0.028817</td>\n",
              "      <td>0.441861</td>\n",
              "      <td>0.223853</td>\n",
              "      <td>0.901028</td>\n",
              "      <td>-0.164146</td>\n",
              "      <td>-0.156726</td>\n",
              "      <td>0.176210</td>\n",
              "    </tr>\n",
              "    <tr>\n",
              "      <th>hat</th>\n",
              "      <td>0.229389</td>\n",
              "      <td>0.124459</td>\n",
              "      <td>0.203553</td>\n",
              "      <td>-0.095644</td>\n",
              "      <td>-0.072814</td>\n",
              "      <td>0.024995</td>\n",
              "      <td>0.156544</td>\n",
              "      <td>0.467511</td>\n",
              "      <td>-0.092513</td>\n",
              "      <td>-0.693547</td>\n",
              "      <td>-0.169353</td>\n",
              "      <td>-0.246361</td>\n",
              "      <td>-0.093029</td>\n",
              "      <td>-0.333114</td>\n",
              "      <td>0.111069</td>\n",
              "      <td>-0.253974</td>\n",
              "      <td>0.251270</td>\n",
              "      <td>-0.223658</td>\n",
              "      <td>0.094035</td>\n",
              "      <td>0.834776</td>\n",
              "      <td>0.040944</td>\n",
              "      <td>-0.353637</td>\n",
              "      <td>0.622619</td>\n",
              "      <td>-0.155911</td>\n",
              "      <td>0.349623</td>\n",
              "      <td>0.477030</td>\n",
              "      <td>-0.099177</td>\n",
              "      <td>-0.499837</td>\n",
              "      <td>-0.102429</td>\n",
              "      <td>0.466041</td>\n",
              "      <td>-0.699193</td>\n",
              "      <td>0.259911</td>\n",
              "      <td>-0.192410</td>\n",
              "      <td>0.227831</td>\n",
              "      <td>0.370913</td>\n",
              "      <td>0.273447</td>\n",
              "      <td>-0.078488</td>\n",
              "      <td>-0.367545</td>\n",
              "      <td>0.269694</td>\n",
              "      <td>-0.228556</td>\n",
              "      <td>...</td>\n",
              "      <td>-0.007687</td>\n",
              "      <td>-0.076360</td>\n",
              "      <td>-0.393790</td>\n",
              "      <td>0.498608</td>\n",
              "      <td>0.520850</td>\n",
              "      <td>0.130180</td>\n",
              "      <td>-0.235330</td>\n",
              "      <td>-0.089421</td>\n",
              "      <td>0.042050</td>\n",
              "      <td>-0.351040</td>\n",
              "      <td>0.327610</td>\n",
              "      <td>0.197072</td>\n",
              "      <td>0.277820</td>\n",
              "      <td>-0.401087</td>\n",
              "      <td>0.495847</td>\n",
              "      <td>-0.040841</td>\n",
              "      <td>-0.121303</td>\n",
              "      <td>-0.172725</td>\n",
              "      <td>0.520627</td>\n",
              "      <td>0.045848</td>\n",
              "      <td>-0.182100</td>\n",
              "      <td>-0.021128</td>\n",
              "      <td>-0.199498</td>\n",
              "      <td>0.056065</td>\n",
              "      <td>0.118188</td>\n",
              "      <td>-0.518905</td>\n",
              "      <td>-0.084745</td>\n",
              "      <td>1.122586</td>\n",
              "      <td>0.157182</td>\n",
              "      <td>0.008973</td>\n",
              "      <td>0.181542</td>\n",
              "      <td>0.371711</td>\n",
              "      <td>0.525879</td>\n",
              "      <td>0.064718</td>\n",
              "      <td>-0.044072</td>\n",
              "      <td>0.271636</td>\n",
              "      <td>0.297060</td>\n",
              "      <td>0.516086</td>\n",
              "      <td>-0.133054</td>\n",
              "      <td>-0.330902</td>\n",
              "    </tr>\n",
              "  </tbody>\n",
              "</table>\n",
              "<p>199931 rows × 100 columns</p>\n",
              "</div>"
            ],
            "text/plain": [
              "                   0         1         2   ...        97        98        99\n",
              "putz        -0.002455 -0.013684  0.004209  ... -0.001973  0.003591 -0.005495\n",
              "knee-cap     0.002236  0.005004 -0.022228  ... -0.003807  0.021340 -0.026920\n",
              "sperged      0.031641  0.034210  0.011131  ...  0.016040  0.031243 -0.009032\n",
              "statments    0.000286  0.012766  0.013990  ... -0.002565  0.033186 -0.015562\n",
              "marvelverse  0.001921  0.018765  0.000057  ... -0.017193  0.007590  0.008857\n",
              "...               ...       ...       ...  ...       ...       ...       ...\n",
              "Hard        -0.701792 -0.068700  0.003221  ...  0.077572  0.205371 -0.484490\n",
              "famous      -0.281324  0.750466  0.077268  ...  0.064291  0.024369 -0.565616\n",
              "dislike      0.527109  0.787019  0.180941  ...  0.566152  0.766764 -0.177217\n",
              "audience    -0.290053  0.344304  0.580991  ... -0.164146 -0.156726  0.176210\n",
              "hat          0.229389  0.124459  0.203553  ...  0.516086 -0.133054 -0.330902\n",
              "\n",
              "[199931 rows x 100 columns]"
            ]
          },
          "metadata": {
            "tags": []
          },
          "execution_count": 74
        }
      ]
    },
    {
      "cell_type": "code",
      "metadata": {
        "colab": {
          "base_uri": "https://localhost:8080/"
        },
        "id": "__Gaea58egsq",
        "outputId": "4b803059-9ed3-42a3-dab0-a990ee5ad75e"
      },
      "source": [
        "df2.shape"
      ],
      "execution_count": null,
      "outputs": [
        {
          "output_type": "execute_result",
          "data": {
            "text/plain": [
              "(199931, 24)"
            ]
          },
          "metadata": {
            "tags": []
          },
          "execution_count": 75
        }
      ]
    },
    {
      "cell_type": "code",
      "metadata": {
        "colab": {
          "base_uri": "https://localhost:8080/"
        },
        "id": "7TDepvU5ejr8",
        "outputId": "f44c373e-eaf4-4cf3-8a57-371e32465467"
      },
      "source": [
        "word_vectors.shape"
      ],
      "execution_count": null,
      "outputs": [
        {
          "output_type": "execute_result",
          "data": {
            "text/plain": [
              "(199931, 100)"
            ]
          },
          "metadata": {
            "tags": []
          },
          "execution_count": 76
        }
      ]
    },
    {
      "cell_type": "code",
      "metadata": {
        "id": "6sZzeGGaem3w"
      },
      "source": [
        "df3 = pd.DataFrame(np.hstack([df2,word_vectors]))"
      ],
      "execution_count": null,
      "outputs": []
    },
    {
      "cell_type": "code",
      "metadata": {
        "colab": {
          "base_uri": "https://localhost:8080/"
        },
        "id": "tgFl2_M_epRr",
        "outputId": "21623fc7-30f1-412d-c19b-827f380d4aba"
      },
      "source": [
        "df3.shape"
      ],
      "execution_count": null,
      "outputs": [
        {
          "output_type": "execute_result",
          "data": {
            "text/plain": [
              "(199931, 124)"
            ]
          },
          "metadata": {
            "tags": []
          },
          "execution_count": 78
        }
      ]
    },
    {
      "cell_type": "code",
      "metadata": {
        "colab": {
          "base_uri": "https://localhost:8080/"
        },
        "id": "cUWpNKgRerlN",
        "outputId": "6e63893a-5220-4234-974b-785bddae9393"
      },
      "source": [
        "df3.isnull().any().sum()"
      ],
      "execution_count": null,
      "outputs": [
        {
          "output_type": "execute_result",
          "data": {
            "text/plain": [
              "0"
            ]
          },
          "metadata": {
            "tags": []
          },
          "execution_count": 79
        }
      ]
    },
    {
      "cell_type": "code",
      "metadata": {
        "id": "DggCHXA3qI7Z"
      },
      "source": [
        "column_indices = range(123)\r\n",
        "new_names = df2.columns\r\n",
        "old_names = df3.columns[column_indices]\r\n",
        "df3.rename(columns=dict(zip(old_names, new_names)), inplace=True)"
      ],
      "execution_count": null,
      "outputs": []
    },
    {
      "cell_type": "code",
      "metadata": {
        "id": "ByuJMpZmqLQ4"
      },
      "source": [
        "df3.drop(['body','subreddit'],axis=1,inplace=True)"
      ],
      "execution_count": null,
      "outputs": []
    },
    {
      "cell_type": "code",
      "metadata": {
        "id": "iP6Yt2NzqO88"
      },
      "source": [
        "df4 = df3"
      ],
      "execution_count": null,
      "outputs": []
    },
    {
      "cell_type": "code",
      "metadata": {
        "id": "DPx8eBRoqRq_"
      },
      "source": [
        "from sklearn.model_selection import train_test_split\r\n",
        "from sklearn.linear_model import LinearRegression\r\n",
        "from sklearn.neighbors import KNeighborsRegressor\r\n"
      ],
      "execution_count": null,
      "outputs": []
    },
    {
      "cell_type": "code",
      "metadata": {
        "id": "BHoX6cLVrB4e"
      },
      "source": [
        "X = df4.drop('ups',axis=1)\r\n",
        "y = df4['ups']"
      ],
      "execution_count": null,
      "outputs": []
    },
    {
      "cell_type": "code",
      "metadata": {
        "id": "gS25Xb58rDy7"
      },
      "source": [
        "X_train, X_test, y_train, y_test = train_test_split(X,y,random_state=42,test_size=0.3)"
      ],
      "execution_count": null,
      "outputs": []
    },
    {
      "cell_type": "code",
      "metadata": {
        "colab": {
          "base_uri": "https://localhost:8080/"
        },
        "id": "LVIgpY0QrUuk",
        "outputId": "82cc5071-3b6e-4c6c-f29e-ab5d9ef09c5b"
      },
      "source": [
        "print(X_train.shape)\r\n",
        "print(X_test.shape)"
      ],
      "execution_count": null,
      "outputs": [
        {
          "output_type": "stream",
          "text": [
            "(139951, 121)\n",
            "(59980, 121)\n"
          ],
          "name": "stdout"
        }
      ]
    },
    {
      "cell_type": "code",
      "metadata": {
        "id": "dKRwk2qZrayz"
      },
      "source": [
        "lr = LinearRegression().fit(X_train,y_train)\r\n",
        "lr_pred = lr.predict(X_test)"
      ],
      "execution_count": null,
      "outputs": []
    },
    {
      "cell_type": "code",
      "metadata": {
        "colab": {
          "base_uri": "https://localhost:8080/"
        },
        "id": "hWwFV3EJrnLk",
        "outputId": "35bbc25f-8002-45a6-86b4-02be5c3064c6"
      },
      "source": [
        "lr.score(X_test,y_test)"
      ],
      "execution_count": null,
      "outputs": [
        {
          "output_type": "execute_result",
          "data": {
            "text/plain": [
              "1.0"
            ]
          },
          "metadata": {
            "tags": []
          },
          "execution_count": 88
        }
      ]
    },
    {
      "cell_type": "code",
      "metadata": {
        "colab": {
          "base_uri": "https://localhost:8080/"
        },
        "id": "qQAW_t79ry3d",
        "outputId": "dd5d96da-d8b6-45e7-c137-95cf00c6cbe2"
      },
      "source": [
        "lr.score(X_train,y_train)"
      ],
      "execution_count": null,
      "outputs": [
        {
          "output_type": "execute_result",
          "data": {
            "text/plain": [
              "1.0"
            ]
          },
          "metadata": {
            "tags": []
          },
          "execution_count": 89
        }
      ]
    },
    {
      "cell_type": "code",
      "metadata": {
        "id": "dbQP0pdCr9QG"
      },
      "source": [
        "def lr_predict(downs,score,gilded,controversiality):\r\n",
        "  x = np.zeros(len(X.columns))\r\n",
        "  x[0] = downs\r\n",
        "  x[1] = score\r\n",
        "  x[2] = gilded\r\n",
        "  x[3] = controversiality\r\n",
        "\r\n",
        "  return lr.predict([x])[0]"
      ],
      "execution_count": null,
      "outputs": []
    },
    {
      "cell_type": "code",
      "metadata": {
        "colab": {
          "base_uri": "https://localhost:8080/"
        },
        "id": "Ru53MUTisElT",
        "outputId": "d4824d40-1337-4a6c-dc62-640ec0b257c3"
      },
      "source": [
        "upvotes_predicted = lr_predict(10,150,10,11)\r\n",
        "upvotes_predicted.round()"
      ],
      "execution_count": null,
      "outputs": [
        {
          "output_type": "execute_result",
          "data": {
            "text/plain": [
              "150.0"
            ]
          },
          "metadata": {
            "tags": []
          },
          "execution_count": 91
        }
      ]
    },
    {
      "cell_type": "code",
      "metadata": {
        "colab": {
          "base_uri": "https://localhost:8080/"
        },
        "id": "AxneUCmtsIcg",
        "outputId": "38d766cb-738f-4aa5-f2cc-9ed4b6638934"
      },
      "source": [
        "result = lr_predict(100,1,1,1)\r\n",
        "print(f\"Upvotes predicted is : {result.round()}\")"
      ],
      "execution_count": null,
      "outputs": [
        {
          "output_type": "stream",
          "text": [
            "Upvotes predicted is : 1.0\n"
          ],
          "name": "stdout"
        }
      ]
    },
    {
      "cell_type": "code",
      "metadata": {
        "id": "M2XTld33sMT7"
      },
      "source": [
        "import pickle\r\n",
        "#import joblib"
      ],
      "execution_count": null,
      "outputs": []
    },
    {
      "cell_type": "code",
      "metadata": {
        "id": "BtaHfT2esP6A"
      },
      "source": [
        "with open('linear_model','wb') as f:\r\n",
        "  pickle.dump(lr,f)"
      ],
      "execution_count": null,
      "outputs": []
    },
    {
      "cell_type": "code",
      "metadata": {
        "id": "IeEkNJ5KsSGE"
      },
      "source": [
        "knn = KNeighborsRegressor()\r\n",
        "knn.fit(X_train,y_train)\r\n",
        "knn_pred = knn.predict(X_test)"
      ],
      "execution_count": null,
      "outputs": []
    },
    {
      "cell_type": "code",
      "metadata": {
        "id": "dWcPf3LrsWD1"
      },
      "source": [
        "from sklearn.metrics import mean_squared_error"
      ],
      "execution_count": null,
      "outputs": []
    },
    {
      "cell_type": "code",
      "metadata": {
        "colab": {
          "base_uri": "https://localhost:8080/"
        },
        "id": "A54rupEzsjE-",
        "outputId": "731d4c51-5ee5-49a9-ed15-e3e5965347aa"
      },
      "source": [
        "mean_squared_error(y_test,knn_pred)"
      ],
      "execution_count": null,
      "outputs": [
        {
          "output_type": "execute_result",
          "data": {
            "text/plain": [
              "6.333469823274427"
            ]
          },
          "metadata": {
            "tags": []
          },
          "execution_count": 97
        }
      ]
    },
    {
      "cell_type": "code",
      "metadata": {
        "id": "yLxYBnT_smCk"
      },
      "source": [
        "def knn_predict(downs,score,gilded,controversiality):\r\n",
        "  x = np.zeros(len(X.columns))\r\n",
        "  x[0] = downs\r\n",
        "  x[1] = score\r\n",
        "  x[2] = gilded\r\n",
        "  x[3] = controversiality\r\n",
        "\r\n",
        "  return knn.predict([x])[0]"
      ],
      "execution_count": null,
      "outputs": []
    },
    {
      "cell_type": "code",
      "metadata": {
        "colab": {
          "base_uri": "https://localhost:8080/"
        },
        "id": "RKKCTGOGsq1-",
        "outputId": "6f5aacc2-8f28-49d2-e034-ba4854032df5"
      },
      "source": [
        "single_pred_knn = knn_predict(10,150,10,11)\r\n",
        "\r\n",
        "single_pred_knn"
      ],
      "execution_count": null,
      "outputs": [
        {
          "output_type": "execute_result",
          "data": {
            "text/plain": [
              "144.2"
            ]
          },
          "metadata": {
            "tags": []
          },
          "execution_count": 99
        }
      ]
    },
    {
      "cell_type": "code",
      "metadata": {
        "colab": {
          "base_uri": "https://localhost:8080/"
        },
        "id": "IxoyR-RxsucZ",
        "outputId": "61162bf3-be41-4620-b295-dbc36f04489f"
      },
      "source": [
        "result = knn_predict(100,1,1,1)\r\n",
        "\r\n",
        "print(f\"Upvotes predicted is : {result}\")"
      ],
      "execution_count": null,
      "outputs": [
        {
          "output_type": "stream",
          "text": [
            "Upvotes predicted is : 1.2\n"
          ],
          "name": "stdout"
        }
      ]
    },
    {
      "cell_type": "code",
      "metadata": {
        "id": "hhgBjtENvN0z"
      },
      "source": [
        "from sklearn.metrics import mean_absolute_error"
      ],
      "execution_count": null,
      "outputs": []
    },
    {
      "cell_type": "code",
      "metadata": {
        "colab": {
          "base_uri": "https://localhost:8080/"
        },
        "id": "IGIbPEyCvQNa",
        "outputId": "b9a66c0e-b1d2-4416-cfc4-3e804a6f8408"
      },
      "source": [
        "mean_absolute_error(y_test,knn_pred)"
      ],
      "execution_count": null,
      "outputs": [
        {
          "output_type": "execute_result",
          "data": {
            "text/plain": [
              "0.7653217739246414"
            ]
          },
          "metadata": {
            "tags": []
          },
          "execution_count": 102
        }
      ]
    },
    {
      "cell_type": "code",
      "metadata": {
        "id": "p2uNI4oKsyDO"
      },
      "source": [
        "with open('knn_model','wb') as f:\r\n",
        " pickle.dump(knn,f)"
      ],
      "execution_count": null,
      "outputs": []
    },
    {
      "cell_type": "code",
      "metadata": {
        "id": "uQCpT01hm58j"
      },
      "source": [
        "#model_filename='knn.pkl'\r\n",
        "#joblib.dump(knn,model_filename)"
      ],
      "execution_count": null,
      "outputs": []
    },
    {
      "cell_type": "code",
      "metadata": {
        "id": "Orlbcm1DC6Ri"
      },
      "source": [
        "from sklearn.ensemble import RandomForestRegressor"
      ],
      "execution_count": null,
      "outputs": []
    },
    {
      "cell_type": "code",
      "metadata": {
        "id": "d0nZiRSjDBiR"
      },
      "source": [
        "rfr=RandomForestRegressor()"
      ],
      "execution_count": null,
      "outputs": []
    },
    {
      "cell_type": "code",
      "metadata": {
        "colab": {
          "base_uri": "https://localhost:8080/"
        },
        "id": "hDzEYYx2DQW5",
        "outputId": "46f56dab-143f-4569-9427-a4b48900072e"
      },
      "source": [
        "rfr.fit(X_train,y_train)"
      ],
      "execution_count": null,
      "outputs": [
        {
          "output_type": "execute_result",
          "data": {
            "text/plain": [
              "RandomForestRegressor(bootstrap=True, ccp_alpha=0.0, criterion='mse',\n",
              "                      max_depth=None, max_features='auto', max_leaf_nodes=None,\n",
              "                      max_samples=None, min_impurity_decrease=0.0,\n",
              "                      min_impurity_split=None, min_samples_leaf=1,\n",
              "                      min_samples_split=2, min_weight_fraction_leaf=0.0,\n",
              "                      n_estimators=100, n_jobs=None, oob_score=False,\n",
              "                      random_state=None, verbose=0, warm_start=False)"
            ]
          },
          "metadata": {
            "tags": []
          },
          "execution_count": 107
        }
      ]
    },
    {
      "cell_type": "code",
      "metadata": {
        "id": "WOOSYEViGKf7"
      },
      "source": [
        "rfr_pred = rfr.predict(X_test)"
      ],
      "execution_count": null,
      "outputs": []
    },
    {
      "cell_type": "code",
      "metadata": {
        "colab": {
          "base_uri": "https://localhost:8080/"
        },
        "id": "ellqaRCVHAkd",
        "outputId": "8377a8a4-f09c-4497-cf48-ed734efef136"
      },
      "source": [
        "rfr.score(X_test,y_test)"
      ],
      "execution_count": null,
      "outputs": [
        {
          "output_type": "execute_result",
          "data": {
            "text/plain": [
              "0.997713681946736"
            ]
          },
          "metadata": {
            "tags": []
          },
          "execution_count": 109
        }
      ]
    },
    {
      "cell_type": "code",
      "metadata": {
        "id": "mU_bA2AEKaWe"
      },
      "source": [
        "def rfr_predict(downs,score,gilded,controversiality):\r\n",
        "  x = np.zeros(len(X.columns))\r\n",
        "  x[0] = downs\r\n",
        "  x[1] = score\r\n",
        "  x[2] = gilded\r\n",
        "  x[3] = controversiality\r\n",
        "\r\n",
        "  return rfr.predict([x])[0]"
      ],
      "execution_count": null,
      "outputs": []
    },
    {
      "cell_type": "code",
      "metadata": {
        "colab": {
          "base_uri": "https://localhost:8080/"
        },
        "id": "Ii8-Iz9lKf0H",
        "outputId": "c91d7a01-2f33-41a6-f1f9-f599773cbb11"
      },
      "source": [
        "single_pred_rfr = rfr_predict(10,150,10,11)\r\n",
        "\r\n",
        "single_pred_rfr"
      ],
      "execution_count": null,
      "outputs": [
        {
          "output_type": "execute_result",
          "data": {
            "text/plain": [
              "149.99"
            ]
          },
          "metadata": {
            "tags": []
          },
          "execution_count": 111
        }
      ]
    },
    {
      "cell_type": "code",
      "metadata": {
        "colab": {
          "base_uri": "https://localhost:8080/"
        },
        "id": "XUZMCgmEKmN_",
        "outputId": "26b0cc2a-831a-4a33-c221-b367df244e3a"
      },
      "source": [
        "rfr_result = rfr_predict(100,1,1,1)\r\n",
        "\r\n",
        "print(f\"Upvotes predicted by Random Forest Model is : {rfr_result}\")"
      ],
      "execution_count": null,
      "outputs": [
        {
          "output_type": "stream",
          "text": [
            "Upvotes predicted by Random Forest Model is : 1.0\n"
          ],
          "name": "stdout"
        }
      ]
    },
    {
      "cell_type": "code",
      "metadata": {
        "id": "lhUj-BH2KuCv"
      },
      "source": [
        "from sklearn.metrics import mean_absolute_error"
      ],
      "execution_count": null,
      "outputs": []
    },
    {
      "cell_type": "code",
      "metadata": {
        "colab": {
          "base_uri": "https://localhost:8080/"
        },
        "id": "Paj-yQS5Kw5w",
        "outputId": "34d68c97-6281-4ba1-ddab-b5a93e8f20b2"
      },
      "source": [
        "mean_absolute_error(y_test,rfr_pred)"
      ],
      "execution_count": null,
      "outputs": [
        {
          "output_type": "execute_result",
          "data": {
            "text/plain": [
              "0.019435978659553196"
            ]
          },
          "metadata": {
            "tags": []
          },
          "execution_count": 114
        }
      ]
    },
    {
      "cell_type": "code",
      "metadata": {
        "id": "N3BrKvtfK0TP"
      },
      "source": [
        "#model_filename='rfc.pkl'\r\n",
        "#joblib.dump(rfc,model_filename)"
      ],
      "execution_count": null,
      "outputs": []
    },
    {
      "cell_type": "code",
      "metadata": {
        "id": "x4ZbTbsWK_fR"
      },
      "source": [
        "with open('rfr_model','wb') as f:\r\n",
        "  pickle.dump(rfr,f)"
      ],
      "execution_count": null,
      "outputs": []
    },
    {
      "cell_type": "code",
      "metadata": {
        "id": "7XouT8r4yljl"
      },
      "source": [
        ""
      ],
      "execution_count": null,
      "outputs": []
    }
  ]
}
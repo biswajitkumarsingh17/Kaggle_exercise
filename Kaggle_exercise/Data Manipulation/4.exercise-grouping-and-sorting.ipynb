{
 "cells": [
  {
   "cell_type": "markdown",
   "metadata": {
    "papermill": {
     "duration": 0.026515,
     "end_time": "2020-12-17T03:29:27.013391",
     "exception": false,
     "start_time": "2020-12-17T03:29:26.986876",
     "status": "completed"
    },
    "tags": []
   },
   "source": [
    "**This notebook is an exercise in the [Pandas](https://www.kaggle.com/learn/pandas) course.  You can reference the tutorial at [this link](https://www.kaggle.com/residentmario/grouping-and-sorting).**\n",
    "\n",
    "---\n"
   ]
  },
  {
   "cell_type": "markdown",
   "metadata": {
    "papermill": {
     "duration": 0.014614,
     "end_time": "2020-12-17T03:29:27.044052",
     "exception": false,
     "start_time": "2020-12-17T03:29:27.029438",
     "status": "completed"
    },
    "tags": []
   },
   "source": [
    "# Introduction\n",
    "\n",
    "In these exercises we'll apply groupwise analysis to our dataset.\n",
    "\n",
    "Run the code cell below to load the data before running the exercises."
   ]
  },
  {
   "cell_type": "code",
   "execution_count": 1,
   "metadata": {
    "execution": {
     "iopub.execute_input": "2020-12-17T03:29:27.086543Z",
     "iopub.status.busy": "2020-12-17T03:29:27.085885Z",
     "iopub.status.idle": "2020-12-17T03:29:30.018138Z",
     "shell.execute_reply": "2020-12-17T03:29:30.016772Z"
    },
    "papermill": {
     "duration": 2.958379,
     "end_time": "2020-12-17T03:29:30.018301",
     "exception": false,
     "start_time": "2020-12-17T03:29:27.059922",
     "status": "completed"
    },
    "tags": []
   },
   "outputs": [
    {
     "name": "stdout",
     "output_type": "stream",
     "text": [
      "Setup complete.\n"
     ]
    }
   ],
   "source": [
    "import pandas as pd\n",
    "\n",
    "reviews = pd.read_csv(\"../input/wine-reviews/winemag-data-130k-v2.csv\", index_col=0)\n",
    "#pd.set_option(\"display.max_rows\", 5)\n",
    "\n",
    "from learntools.core import binder; binder.bind(globals())\n",
    "from learntools.pandas.grouping_and_sorting import *\n",
    "print(\"Setup complete.\")"
   ]
  },
  {
   "cell_type": "markdown",
   "metadata": {
    "papermill": {
     "duration": 0.015461,
     "end_time": "2020-12-17T03:29:30.050337",
     "exception": false,
     "start_time": "2020-12-17T03:29:30.034876",
     "status": "completed"
    },
    "tags": []
   },
   "source": [
    "# Exercises"
   ]
  },
  {
   "cell_type": "markdown",
   "metadata": {
    "papermill": {
     "duration": 0.021429,
     "end_time": "2020-12-17T03:29:30.089650",
     "exception": false,
     "start_time": "2020-12-17T03:29:30.068221",
     "status": "completed"
    },
    "tags": []
   },
   "source": [
    "## 1.\n",
    "Who are the most common wine reviewers in the dataset? Create a `Series` whose index is the `taster_twitter_handle` category from the dataset, and whose values count how many reviews each person wrote."
   ]
  },
  {
   "cell_type": "code",
   "execution_count": 2,
   "metadata": {
    "execution": {
     "iopub.execute_input": "2020-12-17T03:29:30.166520Z",
     "iopub.status.busy": "2020-12-17T03:29:30.143378Z",
     "iopub.status.idle": "2020-12-17T03:29:30.179163Z",
     "shell.execute_reply": "2020-12-17T03:29:30.180017Z"
    },
    "papermill": {
     "duration": 0.070597,
     "end_time": "2020-12-17T03:29:30.180195",
     "exception": false,
     "start_time": "2020-12-17T03:29:30.109598",
     "status": "completed"
    },
    "tags": []
   },
   "outputs": [
    {
     "data": {
      "application/javascript": [
       "parent.postMessage({\"jupyterEvent\": \"custom.exercise_interaction\", \"data\": {\"outcomeType\": 1, \"valueTowardsCompletion\": 0.16666666666666666, \"interactionType\": 1, \"questionType\": 1, \"questionId\": \"1_ReviewsWritten\", \"learnToolsVersion\": \"0.3.4\", \"failureMessage\": \"\", \"exceptionClass\": \"\", \"trace\": \"\"}}, \"*\")"
      ],
      "text/plain": [
       "<IPython.core.display.Javascript object>"
      ]
     },
     "metadata": {},
     "output_type": "display_data"
    },
    {
     "data": {
      "text/markdown": [
       "<span style=\"color:#33cc33\">Correct:</span> \n",
       "\n",
       "\n",
       "```python\n",
       "reviews_written = reviews.groupby('taster_twitter_handle').size()\n",
       "```\n",
       "or\n",
       "```python\n",
       "reviews_written = reviews.groupby('taster_twitter_handle').taster_twitter_handle.count()\n",
       "```\n"
      ],
      "text/plain": [
       "Correct: \n",
       "\n",
       "\n",
       "```python\n",
       "reviews_written = reviews.groupby('taster_twitter_handle').size()\n",
       "```\n",
       "or\n",
       "```python\n",
       "reviews_written = reviews.groupby('taster_twitter_handle').taster_twitter_handle.count()\n",
       "```"
      ]
     },
     "metadata": {},
     "output_type": "display_data"
    }
   ],
   "source": [
    "# Your code here\n",
    "reviews_written = reviews.groupby('taster_twitter_handle').size()\n",
    "# Check your answer\n",
    "q1.check()"
   ]
  },
  {
   "cell_type": "code",
   "execution_count": 3,
   "metadata": {
    "execution": {
     "iopub.execute_input": "2020-12-17T03:29:30.228401Z",
     "iopub.status.busy": "2020-12-17T03:29:30.227704Z",
     "iopub.status.idle": "2020-12-17T03:29:30.232685Z",
     "shell.execute_reply": "2020-12-17T03:29:30.233282Z"
    },
    "papermill": {
     "duration": 0.032497,
     "end_time": "2020-12-17T03:29:30.233455",
     "exception": false,
     "start_time": "2020-12-17T03:29:30.200958",
     "status": "completed"
    },
    "tags": []
   },
   "outputs": [],
   "source": [
    "#q1.hint()\n",
    "#q1.solution()"
   ]
  },
  {
   "cell_type": "markdown",
   "metadata": {
    "papermill": {
     "duration": 0.0172,
     "end_time": "2020-12-17T03:29:30.267750",
     "exception": false,
     "start_time": "2020-12-17T03:29:30.250550",
     "status": "completed"
    },
    "tags": []
   },
   "source": [
    "## 2.\n",
    "What is the best wine I can buy for a given amount of money? Create a `Series` whose index is wine prices and whose values is the maximum number of points a wine costing that much was given in a review. Sort the values by price, ascending (so that `4.0` dollars is at the top and `3300.0` dollars is at the bottom)."
   ]
  },
  {
   "cell_type": "code",
   "execution_count": 4,
   "metadata": {
    "execution": {
     "iopub.execute_input": "2020-12-17T03:29:30.308276Z",
     "iopub.status.busy": "2020-12-17T03:29:30.307641Z",
     "iopub.status.idle": "2020-12-17T03:29:30.320773Z",
     "shell.execute_reply": "2020-12-17T03:29:30.320212Z"
    },
    "papermill": {
     "duration": 0.036205,
     "end_time": "2020-12-17T03:29:30.320975",
     "exception": false,
     "start_time": "2020-12-17T03:29:30.284770",
     "status": "completed"
    },
    "tags": []
   },
   "outputs": [
    {
     "data": {
      "application/javascript": [
       "parent.postMessage({\"jupyterEvent\": \"custom.exercise_interaction\", \"data\": {\"outcomeType\": 1, \"valueTowardsCompletion\": 0.16666666666666666, \"interactionType\": 1, \"questionType\": 1, \"questionId\": \"2_BestRatingPerPrice\", \"learnToolsVersion\": \"0.3.4\", \"failureMessage\": \"\", \"exceptionClass\": \"\", \"trace\": \"\"}}, \"*\")"
      ],
      "text/plain": [
       "<IPython.core.display.Javascript object>"
      ]
     },
     "metadata": {},
     "output_type": "display_data"
    },
    {
     "data": {
      "text/markdown": [
       "<span style=\"color:#33cc33\">Correct</span>"
      ],
      "text/plain": [
       "Correct"
      ]
     },
     "metadata": {},
     "output_type": "display_data"
    }
   ],
   "source": [
    "best_rating_per_price = reviews.groupby('price')['points'].max().sort_index()\n",
    "\n",
    "# Check your answer\n",
    "q2.check()"
   ]
  },
  {
   "cell_type": "code",
   "execution_count": 5,
   "metadata": {
    "execution": {
     "iopub.execute_input": "2020-12-17T03:29:30.362005Z",
     "iopub.status.busy": "2020-12-17T03:29:30.361252Z",
     "iopub.status.idle": "2020-12-17T03:29:30.364945Z",
     "shell.execute_reply": "2020-12-17T03:29:30.365436Z"
    },
    "papermill": {
     "duration": 0.026295,
     "end_time": "2020-12-17T03:29:30.365577",
     "exception": false,
     "start_time": "2020-12-17T03:29:30.339282",
     "status": "completed"
    },
    "tags": []
   },
   "outputs": [],
   "source": [
    "#q2.hint()\n",
    "#q2.solution()"
   ]
  },
  {
   "cell_type": "markdown",
   "metadata": {
    "papermill": {
     "duration": 0.020658,
     "end_time": "2020-12-17T03:29:30.404583",
     "exception": false,
     "start_time": "2020-12-17T03:29:30.383925",
     "status": "completed"
    },
    "tags": []
   },
   "source": [
    "## 3.\n",
    "What are the minimum and maximum prices for each `variety` of wine? Create a `DataFrame` whose index is the `variety` category from the dataset and whose values are the `min` and `max` values thereof."
   ]
  },
  {
   "cell_type": "code",
   "execution_count": 6,
   "metadata": {
    "execution": {
     "iopub.execute_input": "2020-12-17T03:29:30.449664Z",
     "iopub.status.busy": "2020-12-17T03:29:30.448374Z",
     "iopub.status.idle": "2020-12-17T03:29:30.481295Z",
     "shell.execute_reply": "2020-12-17T03:29:30.480602Z"
    },
    "papermill": {
     "duration": 0.05758,
     "end_time": "2020-12-17T03:29:30.481411",
     "exception": false,
     "start_time": "2020-12-17T03:29:30.423831",
     "status": "completed"
    },
    "tags": []
   },
   "outputs": [
    {
     "data": {
      "application/javascript": [
       "parent.postMessage({\"jupyterEvent\": \"custom.exercise_interaction\", \"data\": {\"outcomeType\": 1, \"valueTowardsCompletion\": 0.16666666666666666, \"interactionType\": 1, \"questionType\": 1, \"questionId\": \"3_PriceExtremes\", \"learnToolsVersion\": \"0.3.4\", \"failureMessage\": \"\", \"exceptionClass\": \"\", \"trace\": \"\"}}, \"*\")"
      ],
      "text/plain": [
       "<IPython.core.display.Javascript object>"
      ]
     },
     "metadata": {},
     "output_type": "display_data"
    },
    {
     "data": {
      "text/markdown": [
       "<span style=\"color:#33cc33\">Correct</span>"
      ],
      "text/plain": [
       "Correct"
      ]
     },
     "metadata": {},
     "output_type": "display_data"
    }
   ],
   "source": [
    "price_extremes = reviews.groupby('variety').price.agg([min, max])\n",
    "\n",
    "# Check your answer\n",
    "q3.check()"
   ]
  },
  {
   "cell_type": "code",
   "execution_count": 7,
   "metadata": {
    "execution": {
     "iopub.execute_input": "2020-12-17T03:29:30.525706Z",
     "iopub.status.busy": "2020-12-17T03:29:30.525047Z",
     "iopub.status.idle": "2020-12-17T03:29:30.530332Z",
     "shell.execute_reply": "2020-12-17T03:29:30.529655Z"
    },
    "papermill": {
     "duration": 0.028454,
     "end_time": "2020-12-17T03:29:30.530443",
     "exception": false,
     "start_time": "2020-12-17T03:29:30.501989",
     "status": "completed"
    },
    "tags": []
   },
   "outputs": [],
   "source": [
    "#q3.hint()\n",
    "#q3.solution()"
   ]
  },
  {
   "cell_type": "markdown",
   "metadata": {
    "papermill": {
     "duration": 0.019556,
     "end_time": "2020-12-17T03:29:30.570155",
     "exception": false,
     "start_time": "2020-12-17T03:29:30.550599",
     "status": "completed"
    },
    "tags": []
   },
   "source": [
    "## 4.\n",
    "What are the most expensive wine varieties? Create a variable `sorted_varieties` containing a copy of the dataframe from the previous question where varieties are sorted in descending order based on minimum price, then on maximum price (to break ties)."
   ]
  },
  {
   "cell_type": "code",
   "execution_count": 8,
   "metadata": {
    "execution": {
     "iopub.execute_input": "2020-12-17T03:29:30.616756Z",
     "iopub.status.busy": "2020-12-17T03:29:30.616133Z",
     "iopub.status.idle": "2020-12-17T03:29:30.623858Z",
     "shell.execute_reply": "2020-12-17T03:29:30.623308Z"
    },
    "papermill": {
     "duration": 0.033782,
     "end_time": "2020-12-17T03:29:30.623974",
     "exception": false,
     "start_time": "2020-12-17T03:29:30.590192",
     "status": "completed"
    },
    "tags": []
   },
   "outputs": [
    {
     "data": {
      "application/javascript": [
       "parent.postMessage({\"jupyterEvent\": \"custom.exercise_interaction\", \"data\": {\"outcomeType\": 1, \"valueTowardsCompletion\": 0.16666666666666666, \"interactionType\": 1, \"questionType\": 1, \"questionId\": \"4_SortedVarieties\", \"learnToolsVersion\": \"0.3.4\", \"failureMessage\": \"\", \"exceptionClass\": \"\", \"trace\": \"\"}}, \"*\")"
      ],
      "text/plain": [
       "<IPython.core.display.Javascript object>"
      ]
     },
     "metadata": {},
     "output_type": "display_data"
    },
    {
     "data": {
      "text/markdown": [
       "<span style=\"color:#33cc33\">Correct</span>"
      ],
      "text/plain": [
       "Correct"
      ]
     },
     "metadata": {},
     "output_type": "display_data"
    }
   ],
   "source": [
    "sorted_varieties = price_extremes.sort_values(by=['min', 'max'], ascending=False)\n",
    "sorted_varieties\n",
    "# Check your answer\n",
    "q4.check()"
   ]
  },
  {
   "cell_type": "code",
   "execution_count": 9,
   "metadata": {
    "execution": {
     "iopub.execute_input": "2020-12-17T03:29:30.672314Z",
     "iopub.status.busy": "2020-12-17T03:29:30.671396Z",
     "iopub.status.idle": "2020-12-17T03:29:30.674950Z",
     "shell.execute_reply": "2020-12-17T03:29:30.674371Z"
    },
    "papermill": {
     "duration": 0.029369,
     "end_time": "2020-12-17T03:29:30.675058",
     "exception": false,
     "start_time": "2020-12-17T03:29:30.645689",
     "status": "completed"
    },
    "tags": []
   },
   "outputs": [],
   "source": [
    "#q4.hint()\n",
    "#q4.solution()"
   ]
  },
  {
   "cell_type": "markdown",
   "metadata": {
    "papermill": {
     "duration": 0.020728,
     "end_time": "2020-12-17T03:29:30.717153",
     "exception": false,
     "start_time": "2020-12-17T03:29:30.696425",
     "status": "completed"
    },
    "tags": []
   },
   "source": [
    "## 5.\n",
    "Create a `Series` whose index is reviewers and whose values is the average review score given out by that reviewer. Hint: you will need the `taster_name` and `points` columns."
   ]
  },
  {
   "cell_type": "code",
   "execution_count": 10,
   "metadata": {
    "execution": {
     "iopub.execute_input": "2020-12-17T03:29:30.763486Z",
     "iopub.status.busy": "2020-12-17T03:29:30.762607Z",
     "iopub.status.idle": "2020-12-17T03:29:30.782990Z",
     "shell.execute_reply": "2020-12-17T03:29:30.783666Z"
    },
    "papermill": {
     "duration": 0.04533,
     "end_time": "2020-12-17T03:29:30.783850",
     "exception": false,
     "start_time": "2020-12-17T03:29:30.738520",
     "status": "completed"
    },
    "tags": []
   },
   "outputs": [
    {
     "data": {
      "application/javascript": [
       "parent.postMessage({\"jupyterEvent\": \"custom.exercise_interaction\", \"data\": {\"outcomeType\": 1, \"valueTowardsCompletion\": 0.16666666666666666, \"interactionType\": 1, \"questionType\": 1, \"questionId\": \"5_ReviewerMeanRatings\", \"learnToolsVersion\": \"0.3.4\", \"failureMessage\": \"\", \"exceptionClass\": \"\", \"trace\": \"\"}}, \"*\")"
      ],
      "text/plain": [
       "<IPython.core.display.Javascript object>"
      ]
     },
     "metadata": {},
     "output_type": "display_data"
    },
    {
     "data": {
      "text/markdown": [
       "<span style=\"color:#33cc33\">Correct</span>"
      ],
      "text/plain": [
       "Correct"
      ]
     },
     "metadata": {},
     "output_type": "display_data"
    }
   ],
   "source": [
    "reviewer_mean_ratings = reviews.groupby('taster_name').points.mean()\n",
    "\n",
    "# Check your answer\n",
    "q5.check()"
   ]
  },
  {
   "cell_type": "code",
   "execution_count": 11,
   "metadata": {
    "execution": {
     "iopub.execute_input": "2020-12-17T03:29:30.854913Z",
     "iopub.status.busy": "2020-12-17T03:29:30.853775Z",
     "iopub.status.idle": "2020-12-17T03:29:30.859684Z",
     "shell.execute_reply": "2020-12-17T03:29:30.859103Z"
    },
    "papermill": {
     "duration": 0.042828,
     "end_time": "2020-12-17T03:29:30.859794",
     "exception": false,
     "start_time": "2020-12-17T03:29:30.816966",
     "status": "completed"
    },
    "tags": []
   },
   "outputs": [],
   "source": [
    "#q5.hint()\n",
    "#q5.solution()"
   ]
  },
  {
   "cell_type": "markdown",
   "metadata": {
    "papermill": {
     "duration": 0.023098,
     "end_time": "2020-12-17T03:29:30.905414",
     "exception": false,
     "start_time": "2020-12-17T03:29:30.882316",
     "status": "completed"
    },
    "tags": []
   },
   "source": [
    "Are there significant differences in the average scores assigned by the various reviewers? Run the cell below to use the `describe()` method to see a summary of the range of values."
   ]
  },
  {
   "cell_type": "code",
   "execution_count": 12,
   "metadata": {
    "execution": {
     "iopub.execute_input": "2020-12-17T03:29:30.958793Z",
     "iopub.status.busy": "2020-12-17T03:29:30.958142Z",
     "iopub.status.idle": "2020-12-17T03:29:30.969132Z",
     "shell.execute_reply": "2020-12-17T03:29:30.968470Z"
    },
    "papermill": {
     "duration": 0.041085,
     "end_time": "2020-12-17T03:29:30.969241",
     "exception": false,
     "start_time": "2020-12-17T03:29:30.928156",
     "status": "completed"
    },
    "tags": []
   },
   "outputs": [
    {
     "data": {
      "text/plain": [
       "count    19.000000\n",
       "mean     88.233026\n",
       "std       1.243610\n",
       "min      85.855422\n",
       "25%      87.323501\n",
       "50%      88.536235\n",
       "75%      88.975256\n",
       "max      90.562551\n",
       "Name: points, dtype: float64"
      ]
     },
     "execution_count": 12,
     "metadata": {},
     "output_type": "execute_result"
    }
   ],
   "source": [
    "reviewer_mean_ratings.describe()"
   ]
  },
  {
   "cell_type": "markdown",
   "metadata": {
    "papermill": {
     "duration": 0.02672,
     "end_time": "2020-12-17T03:29:31.022756",
     "exception": false,
     "start_time": "2020-12-17T03:29:30.996036",
     "status": "completed"
    },
    "tags": []
   },
   "source": [
    "## 6.\n",
    "What combination of countries and varieties are most common? Create a `Series` whose index is a `MultiIndex`of `{country, variety}` pairs. For example, a pinot noir produced in the US should map to `{\"US\", \"Pinot Noir\"}`. Sort the values in the `Series` in descending order based on wine count."
   ]
  },
  {
   "cell_type": "code",
   "execution_count": 13,
   "metadata": {
    "execution": {
     "iopub.execute_input": "2020-12-17T03:29:31.081244Z",
     "iopub.status.busy": "2020-12-17T03:29:31.080606Z",
     "iopub.status.idle": "2020-12-17T03:29:31.120533Z",
     "shell.execute_reply": "2020-12-17T03:29:31.119717Z"
    },
    "papermill": {
     "duration": 0.070059,
     "end_time": "2020-12-17T03:29:31.120674",
     "exception": false,
     "start_time": "2020-12-17T03:29:31.050615",
     "status": "completed"
    },
    "tags": []
   },
   "outputs": [
    {
     "data": {
      "application/javascript": [
       "parent.postMessage({\"jupyterEvent\": \"custom.exercise_interaction\", \"data\": {\"outcomeType\": 1, \"valueTowardsCompletion\": 0.16666666666666666, \"interactionType\": 1, \"questionType\": 1, \"questionId\": \"6_GroupbyCountryVariety\", \"learnToolsVersion\": \"0.3.4\", \"failureMessage\": \"\", \"exceptionClass\": \"\", \"trace\": \"\"}}, \"*\")"
      ],
      "text/plain": [
       "<IPython.core.display.Javascript object>"
      ]
     },
     "metadata": {},
     "output_type": "display_data"
    },
    {
     "data": {
      "text/markdown": [
       "<span style=\"color:#33cc33\">Correct</span>"
      ],
      "text/plain": [
       "Correct"
      ]
     },
     "metadata": {},
     "output_type": "display_data"
    }
   ],
   "source": [
    "country_variety_counts = reviews.groupby(['country', 'variety']).size().sort_values(ascending=False)\n",
    "\n",
    "# Check your answer\n",
    "q6.check()"
   ]
  },
  {
   "cell_type": "code",
   "execution_count": 14,
   "metadata": {
    "execution": {
     "iopub.execute_input": "2020-12-17T03:29:31.176116Z",
     "iopub.status.busy": "2020-12-17T03:29:31.175129Z",
     "iopub.status.idle": "2020-12-17T03:29:31.181382Z",
     "shell.execute_reply": "2020-12-17T03:29:31.182001Z"
    },
    "papermill": {
     "duration": 0.035063,
     "end_time": "2020-12-17T03:29:31.182141",
     "exception": false,
     "start_time": "2020-12-17T03:29:31.147078",
     "status": "completed"
    },
    "tags": []
   },
   "outputs": [
    {
     "data": {
      "application/javascript": [
       "parent.postMessage({\"jupyterEvent\": \"custom.exercise_interaction\", \"data\": {\"interactionType\": 3, \"questionType\": 1, \"questionId\": \"6_GroupbyCountryVariety\", \"learnToolsVersion\": \"0.3.4\", \"valueTowardsCompletion\": 0.0, \"failureMessage\": \"\", \"exceptionClass\": \"\", \"trace\": \"\", \"outcomeType\": 4}}, \"*\")"
      ],
      "text/plain": [
       "<IPython.core.display.Javascript object>"
      ]
     },
     "metadata": {},
     "output_type": "display_data"
    },
    {
     "data": {
      "text/markdown": [
       "<span style=\"color:#33cc99\">Solution:</span> \n",
       "```python\n",
       "country_variety_counts = reviews.groupby(['country', 'variety']).size().sort_values(ascending=False)\n",
       "```"
      ],
      "text/plain": [
       "Solution: \n",
       "```python\n",
       "country_variety_counts = reviews.groupby(['country', 'variety']).size().sort_values(ascending=False)\n",
       "```"
      ]
     },
     "metadata": {},
     "output_type": "display_data"
    }
   ],
   "source": [
    "#q6.hint()\n",
    "q6.solution()"
   ]
  },
  {
   "cell_type": "markdown",
   "metadata": {
    "papermill": {
     "duration": 0.027766,
     "end_time": "2020-12-17T03:29:31.237202",
     "exception": false,
     "start_time": "2020-12-17T03:29:31.209436",
     "status": "completed"
    },
    "tags": []
   },
   "source": [
    "# Keep going\n",
    "\n",
    "Move on to the [**data types and missing data**](https://www.kaggle.com/residentmario/data-types-and-missing-values)."
   ]
  },
  {
   "cell_type": "markdown",
   "metadata": {
    "papermill": {
     "duration": 0.026928,
     "end_time": "2020-12-17T03:29:31.290492",
     "exception": false,
     "start_time": "2020-12-17T03:29:31.263564",
     "status": "completed"
    },
    "tags": []
   },
   "source": [
    "---\n",
    "\n",
    "\n",
    "\n",
    "\n",
    "*Have questions or comments? Visit the [Learn Discussion forum](https://www.kaggle.com/learn-forum/161299) to chat with other Learners.*"
   ]
  }
 ],
 "metadata": {
  "kernelspec": {
   "display_name": "Python 3",
   "language": "python",
   "name": "python3"
  },
  "language_info": {
   "codemirror_mode": {
    "name": "ipython",
    "version": 3
   },
   "file_extension": ".py",
   "mimetype": "text/x-python",
   "name": "python",
   "nbconvert_exporter": "python",
   "pygments_lexer": "ipython3",
   "version": "3.7.6"
  },
  "papermill": {
   "duration": 9.835609,
   "end_time": "2020-12-17T03:29:31.425753",
   "environment_variables": {},
   "exception": null,
   "input_path": "__notebook__.ipynb",
   "output_path": "__notebook__.ipynb",
   "parameters": {},
   "start_time": "2020-12-17T03:29:21.590144",
   "version": "2.1.0"
  }
 },
 "nbformat": 4,
 "nbformat_minor": 4
}

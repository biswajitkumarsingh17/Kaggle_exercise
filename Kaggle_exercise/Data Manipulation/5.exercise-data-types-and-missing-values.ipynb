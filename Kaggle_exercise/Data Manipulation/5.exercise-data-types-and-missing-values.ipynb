{
 "cells": [
  {
   "cell_type": "markdown",
   "metadata": {
    "papermill": {
     "duration": 0.012645,
     "end_time": "2020-12-17T03:33:00.076322",
     "exception": false,
     "start_time": "2020-12-17T03:33:00.063677",
     "status": "completed"
    },
    "tags": []
   },
   "source": [
    "**This notebook is an exercise in the [Pandas](https://www.kaggle.com/learn/pandas) course.  You can reference the tutorial at [this link](https://www.kaggle.com/residentmario/data-types-and-missing-values).**\n",
    "\n",
    "---\n"
   ]
  },
  {
   "cell_type": "markdown",
   "metadata": {
    "papermill": {
     "duration": 0.010381,
     "end_time": "2020-12-17T03:33:00.097037",
     "exception": false,
     "start_time": "2020-12-17T03:33:00.086656",
     "status": "completed"
    },
    "tags": []
   },
   "source": [
    "# Introduction\n",
    "\n",
    "Run the following cell to load your data and some utility functions."
   ]
  },
  {
   "cell_type": "code",
   "execution_count": 1,
   "metadata": {
    "execution": {
     "iopub.execute_input": "2020-12-17T03:33:00.128244Z",
     "iopub.status.busy": "2020-12-17T03:33:00.127582Z",
     "iopub.status.idle": "2020-12-17T03:33:02.779136Z",
     "shell.execute_reply": "2020-12-17T03:33:02.780237Z"
    },
    "papermill": {
     "duration": 2.67331,
     "end_time": "2020-12-17T03:33:02.780622",
     "exception": false,
     "start_time": "2020-12-17T03:33:00.107312",
     "status": "completed"
    },
    "tags": []
   },
   "outputs": [
    {
     "name": "stdout",
     "output_type": "stream",
     "text": [
      "Setup complete.\n"
     ]
    }
   ],
   "source": [
    "import pandas as pd\n",
    "\n",
    "reviews = pd.read_csv(\"../input/wine-reviews/winemag-data-130k-v2.csv\", index_col=0)\n",
    "\n",
    "from learntools.core import binder; binder.bind(globals())\n",
    "from learntools.pandas.data_types_and_missing_data import *\n",
    "print(\"Setup complete.\")"
   ]
  },
  {
   "cell_type": "markdown",
   "metadata": {
    "papermill": {
     "duration": 0.011099,
     "end_time": "2020-12-17T03:33:02.803765",
     "exception": false,
     "start_time": "2020-12-17T03:33:02.792666",
     "status": "completed"
    },
    "tags": []
   },
   "source": [
    "# Exercises"
   ]
  },
  {
   "cell_type": "markdown",
   "metadata": {
    "papermill": {
     "duration": 0.010306,
     "end_time": "2020-12-17T03:33:02.825138",
     "exception": false,
     "start_time": "2020-12-17T03:33:02.814832",
     "status": "completed"
    },
    "tags": []
   },
   "source": [
    "## 1. \n",
    "What is the data type of the `points` column in the dataset?"
   ]
  },
  {
   "cell_type": "code",
   "execution_count": 2,
   "metadata": {
    "execution": {
     "iopub.execute_input": "2020-12-17T03:33:02.854300Z",
     "iopub.status.busy": "2020-12-17T03:33:02.853336Z",
     "iopub.status.idle": "2020-12-17T03:33:02.858512Z",
     "shell.execute_reply": "2020-12-17T03:33:02.858959Z"
    },
    "papermill": {
     "duration": 0.023107,
     "end_time": "2020-12-17T03:33:02.859080",
     "exception": false,
     "start_time": "2020-12-17T03:33:02.835973",
     "status": "completed"
    },
    "tags": []
   },
   "outputs": [
    {
     "data": {
      "application/javascript": [
       "parent.postMessage({\"jupyterEvent\": \"custom.exercise_interaction\", \"data\": {\"outcomeType\": 1, \"valueTowardsCompletion\": 0.25, \"interactionType\": 1, \"questionType\": 1, \"questionId\": \"1_PointsDtype\", \"learnToolsVersion\": \"0.3.4\", \"failureMessage\": \"\", \"exceptionClass\": \"\", \"trace\": \"\"}}, \"*\")"
      ],
      "text/plain": [
       "<IPython.core.display.Javascript object>"
      ]
     },
     "metadata": {},
     "output_type": "display_data"
    },
    {
     "data": {
      "text/markdown": [
       "<span style=\"color:#33cc33\">Correct</span>"
      ],
      "text/plain": [
       "Correct"
      ]
     },
     "metadata": {},
     "output_type": "display_data"
    }
   ],
   "source": [
    "# Your code here\n",
    "dtype = reviews.points.dtype\n",
    "\n",
    "\n",
    "\n",
    "# Check your answer\n",
    "q1.check()"
   ]
  },
  {
   "cell_type": "code",
   "execution_count": 3,
   "metadata": {
    "execution": {
     "iopub.execute_input": "2020-12-17T03:33:02.886655Z",
     "iopub.status.busy": "2020-12-17T03:33:02.886078Z",
     "iopub.status.idle": "2020-12-17T03:33:02.888856Z",
     "shell.execute_reply": "2020-12-17T03:33:02.889377Z"
    },
    "papermill": {
     "duration": 0.017924,
     "end_time": "2020-12-17T03:33:02.889489",
     "exception": false,
     "start_time": "2020-12-17T03:33:02.871565",
     "status": "completed"
    },
    "tags": []
   },
   "outputs": [],
   "source": [
    "#q1.hint()\n",
    "#q1.solution()"
   ]
  },
  {
   "cell_type": "markdown",
   "metadata": {
    "papermill": {
     "duration": 0.011914,
     "end_time": "2020-12-17T03:33:02.913276",
     "exception": false,
     "start_time": "2020-12-17T03:33:02.901362",
     "status": "completed"
    },
    "tags": []
   },
   "source": [
    "## 2. \n",
    "Create a Series from entries in the `points` column, but convert the entries to strings. Hint: strings are `str` in native Python."
   ]
  },
  {
   "cell_type": "code",
   "execution_count": 4,
   "metadata": {
    "execution": {
     "iopub.execute_input": "2020-12-17T03:33:02.940218Z",
     "iopub.status.busy": "2020-12-17T03:33:02.939632Z",
     "iopub.status.idle": "2020-12-17T03:33:03.114379Z",
     "shell.execute_reply": "2020-12-17T03:33:03.114961Z"
    },
    "papermill": {
     "duration": 0.189976,
     "end_time": "2020-12-17T03:33:03.115099",
     "exception": false,
     "start_time": "2020-12-17T03:33:02.925123",
     "status": "completed"
    },
    "tags": []
   },
   "outputs": [
    {
     "data": {
      "application/javascript": [
       "parent.postMessage({\"jupyterEvent\": \"custom.exercise_interaction\", \"data\": {\"outcomeType\": 1, \"valueTowardsCompletion\": 0.25, \"interactionType\": 1, \"questionType\": 1, \"questionId\": \"2_StrPoints\", \"learnToolsVersion\": \"0.3.4\", \"failureMessage\": \"\", \"exceptionClass\": \"\", \"trace\": \"\"}}, \"*\")"
      ],
      "text/plain": [
       "<IPython.core.display.Javascript object>"
      ]
     },
     "metadata": {},
     "output_type": "display_data"
    },
    {
     "data": {
      "text/markdown": [
       "<span style=\"color:#33cc33\">Correct</span>"
      ],
      "text/plain": [
       "Correct"
      ]
     },
     "metadata": {},
     "output_type": "display_data"
    }
   ],
   "source": [
    "point_strings = reviews.points.astype(str)\n",
    "\n",
    "# Check your answer\n",
    "q2.check()"
   ]
  },
  {
   "cell_type": "code",
   "execution_count": 5,
   "metadata": {
    "execution": {
     "iopub.execute_input": "2020-12-17T03:33:03.146602Z",
     "iopub.status.busy": "2020-12-17T03:33:03.145719Z",
     "iopub.status.idle": "2020-12-17T03:33:03.148415Z",
     "shell.execute_reply": "2020-12-17T03:33:03.147783Z"
    },
    "papermill": {
     "duration": 0.019853,
     "end_time": "2020-12-17T03:33:03.148521",
     "exception": false,
     "start_time": "2020-12-17T03:33:03.128668",
     "status": "completed"
    },
    "tags": []
   },
   "outputs": [],
   "source": [
    "#q2.hint()\n",
    "#q2.solution()"
   ]
  },
  {
   "cell_type": "markdown",
   "metadata": {
    "papermill": {
     "duration": 0.01337,
     "end_time": "2020-12-17T03:33:03.175408",
     "exception": false,
     "start_time": "2020-12-17T03:33:03.162038",
     "status": "completed"
    },
    "tags": []
   },
   "source": [
    "## 3.\n",
    "Sometimes the price column is null. How many reviews in the dataset are missing a price?"
   ]
  },
  {
   "cell_type": "code",
   "execution_count": 6,
   "metadata": {
    "execution": {
     "iopub.execute_input": "2020-12-17T03:33:03.207303Z",
     "iopub.status.busy": "2020-12-17T03:33:03.206612Z",
     "iopub.status.idle": "2020-12-17T03:33:03.215842Z",
     "shell.execute_reply": "2020-12-17T03:33:03.216335Z"
    },
    "papermill": {
     "duration": 0.027945,
     "end_time": "2020-12-17T03:33:03.216485",
     "exception": false,
     "start_time": "2020-12-17T03:33:03.188540",
     "status": "completed"
    },
    "tags": []
   },
   "outputs": [
    {
     "data": {
      "application/javascript": [
       "parent.postMessage({\"jupyterEvent\": \"custom.exercise_interaction\", \"data\": {\"outcomeType\": 1, \"valueTowardsCompletion\": 0.25, \"interactionType\": 1, \"questionType\": 1, \"questionId\": \"3_CountMissingPrices\", \"learnToolsVersion\": \"0.3.4\", \"failureMessage\": \"\", \"exceptionClass\": \"\", \"trace\": \"\"}}, \"*\")"
      ],
      "text/plain": [
       "<IPython.core.display.Javascript object>"
      ]
     },
     "metadata": {},
     "output_type": "display_data"
    },
    {
     "data": {
      "text/markdown": [
       "<span style=\"color:#33cc33\">Correct</span>"
      ],
      "text/plain": [
       "Correct"
      ]
     },
     "metadata": {},
     "output_type": "display_data"
    }
   ],
   "source": [
    "missing_price_reviews = reviews[reviews.price.isnull()]\n",
    "n_missing_prices = len(missing_price_reviews)\n",
    "# Check your answer\n",
    "q3.check()"
   ]
  },
  {
   "cell_type": "code",
   "execution_count": 7,
   "metadata": {
    "execution": {
     "iopub.execute_input": "2020-12-17T03:33:03.248800Z",
     "iopub.status.busy": "2020-12-17T03:33:03.248216Z",
     "iopub.status.idle": "2020-12-17T03:33:03.251026Z",
     "shell.execute_reply": "2020-12-17T03:33:03.251578Z"
    },
    "papermill": {
     "duration": 0.020588,
     "end_time": "2020-12-17T03:33:03.251716",
     "exception": false,
     "start_time": "2020-12-17T03:33:03.231128",
     "status": "completed"
    },
    "tags": []
   },
   "outputs": [],
   "source": [
    "#q3.hint()\n",
    "#q3.solution()"
   ]
  },
  {
   "cell_type": "markdown",
   "metadata": {
    "papermill": {
     "duration": 0.014353,
     "end_time": "2020-12-17T03:33:03.281676",
     "exception": false,
     "start_time": "2020-12-17T03:33:03.267323",
     "status": "completed"
    },
    "tags": []
   },
   "source": [
    "## 4.\n",
    "What are the most common wine-producing regions? Create a Series counting the number of times each value occurs in the `region_1` field. This field is often missing data, so replace missing values with `Unknown`. Sort in descending order.  Your output should look something like this:\n",
    "\n",
    "```\n",
    "Unknown                    21247\n",
    "Napa Valley                 4480\n",
    "                           ...  \n",
    "Bardolino Superiore            1\n",
    "Primitivo del Tarantino        1\n",
    "Name: region_1, Length: 1230, dtype: int64\n",
    "```"
   ]
  },
  {
   "cell_type": "code",
   "execution_count": 8,
   "metadata": {
    "execution": {
     "iopub.execute_input": "2020-12-17T03:33:03.313342Z",
     "iopub.status.busy": "2020-12-17T03:33:03.312703Z",
     "iopub.status.idle": "2020-12-17T03:33:03.411295Z",
     "shell.execute_reply": "2020-12-17T03:33:03.410645Z"
    },
    "papermill": {
     "duration": 0.115409,
     "end_time": "2020-12-17T03:33:03.411401",
     "exception": false,
     "start_time": "2020-12-17T03:33:03.295992",
     "status": "completed"
    },
    "tags": []
   },
   "outputs": [
    {
     "data": {
      "application/javascript": [
       "parent.postMessage({\"jupyterEvent\": \"custom.exercise_interaction\", \"data\": {\"outcomeType\": 1, \"valueTowardsCompletion\": 0.25, \"interactionType\": 1, \"questionType\": 2, \"questionId\": \"4_ReviewsPerRegion\", \"learnToolsVersion\": \"0.3.4\", \"failureMessage\": \"\", \"exceptionClass\": \"\", \"trace\": \"\"}}, \"*\")"
      ],
      "text/plain": [
       "<IPython.core.display.Javascript object>"
      ]
     },
     "metadata": {},
     "output_type": "display_data"
    },
    {
     "data": {
      "text/markdown": [
       "<span style=\"color:#33cc33\">Correct</span>"
      ],
      "text/plain": [
       "Correct"
      ]
     },
     "metadata": {},
     "output_type": "display_data"
    }
   ],
   "source": [
    "reviews_per_region = reviews.region_1.fillna('Unknown').value_counts().sort_values(ascending=False)\n",
    "\n",
    "# Check your answer\n",
    "q4.check()"
   ]
  },
  {
   "cell_type": "code",
   "execution_count": 9,
   "metadata": {
    "execution": {
     "iopub.execute_input": "2020-12-17T03:33:03.446886Z",
     "iopub.status.busy": "2020-12-17T03:33:03.445991Z",
     "iopub.status.idle": "2020-12-17T03:33:03.448703Z",
     "shell.execute_reply": "2020-12-17T03:33:03.448182Z"
    },
    "papermill": {
     "duration": 0.022074,
     "end_time": "2020-12-17T03:33:03.448813",
     "exception": false,
     "start_time": "2020-12-17T03:33:03.426739",
     "status": "completed"
    },
    "tags": []
   },
   "outputs": [],
   "source": [
    "#q4.hint()\n",
    "#q4.solution()"
   ]
  },
  {
   "cell_type": "markdown",
   "metadata": {
    "papermill": {
     "duration": 0.01539,
     "end_time": "2020-12-17T03:33:03.480131",
     "exception": false,
     "start_time": "2020-12-17T03:33:03.464741",
     "status": "completed"
    },
    "tags": []
   },
   "source": [
    "# Keep going\n",
    "\n",
    "Move on to **[renaming and combining](https://www.kaggle.com/residentmario/renaming-and-combining)**."
   ]
  },
  {
   "cell_type": "markdown",
   "metadata": {
    "papermill": {
     "duration": 0.015456,
     "end_time": "2020-12-17T03:33:03.511457",
     "exception": false,
     "start_time": "2020-12-17T03:33:03.496001",
     "status": "completed"
    },
    "tags": []
   },
   "source": [
    "---\n",
    "\n",
    "\n",
    "\n",
    "\n",
    "*Have questions or comments? Visit the [Learn Discussion forum](https://www.kaggle.com/learn-forum/161299) to chat with other Learners.*"
   ]
  }
 ],
 "metadata": {
  "kernelspec": {
   "display_name": "Python 3",
   "language": "python",
   "name": "python3"
  },
  "language_info": {
   "codemirror_mode": {
    "name": "ipython",
    "version": 3
   },
   "file_extension": ".py",
   "mimetype": "text/x-python",
   "name": "python",
   "nbconvert_exporter": "python",
   "pygments_lexer": "ipython3",
   "version": "3.7.6"
  },
  "papermill": {
   "duration": 8.085071,
   "end_time": "2020-12-17T03:33:03.634608",
   "environment_variables": {},
   "exception": null,
   "input_path": "__notebook__.ipynb",
   "output_path": "__notebook__.ipynb",
   "parameters": {},
   "start_time": "2020-12-17T03:32:55.549537",
   "version": "2.1.0"
  }
 },
 "nbformat": 4,
 "nbformat_minor": 4
}

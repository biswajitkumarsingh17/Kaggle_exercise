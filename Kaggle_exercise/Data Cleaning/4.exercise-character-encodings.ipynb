{
 "cells": [
  {
   "cell_type": "markdown",
   "metadata": {
    "papermill": {
     "duration": 0.015736,
     "end_time": "2020-12-17T05:39:44.938121",
     "exception": false,
     "start_time": "2020-12-17T05:39:44.922385",
     "status": "completed"
    },
    "tags": []
   },
   "source": [
    "**This notebook is an exercise in the [Data Cleaning](https://www.kaggle.com/learn/data-cleaning) course.  You can reference the tutorial at [this link](https://www.kaggle.com/alexisbcook/character-encodings).**\n",
    "\n",
    "---\n"
   ]
  },
  {
   "cell_type": "markdown",
   "metadata": {
    "papermill": {
     "duration": 0.011489,
     "end_time": "2020-12-17T05:39:44.962134",
     "exception": false,
     "start_time": "2020-12-17T05:39:44.950645",
     "status": "completed"
    },
    "tags": []
   },
   "source": [
    "In this exercise, you'll apply what you learned in the **Character encodings** tutorial.\n",
    "\n",
    "# Setup\n",
    "\n",
    "The questions below will give you feedback on your work. Run the following cell to set up the feedback system."
   ]
  },
  {
   "cell_type": "code",
   "execution_count": 1,
   "metadata": {
    "execution": {
     "iopub.execute_input": "2020-12-17T05:39:44.989664Z",
     "iopub.status.busy": "2020-12-17T05:39:44.988964Z",
     "iopub.status.idle": "2020-12-17T05:39:45.090537Z",
     "shell.execute_reply": "2020-12-17T05:39:45.091143Z"
    },
    "papermill": {
     "duration": 0.117404,
     "end_time": "2020-12-17T05:39:45.091334",
     "exception": false,
     "start_time": "2020-12-17T05:39:44.973930",
     "status": "completed"
    },
    "tags": []
   },
   "outputs": [
    {
     "name": "stdout",
     "output_type": "stream",
     "text": [
      "Setup Complete\n"
     ]
    }
   ],
   "source": [
    "from learntools.core import binder\n",
    "binder.bind(globals())\n",
    "from learntools.data_cleaning.ex4 import *\n",
    "print(\"Setup Complete\")"
   ]
  },
  {
   "cell_type": "markdown",
   "metadata": {
    "papermill": {
     "duration": 0.01219,
     "end_time": "2020-12-17T05:39:45.116937",
     "exception": false,
     "start_time": "2020-12-17T05:39:45.104747",
     "status": "completed"
    },
    "tags": []
   },
   "source": [
    "# Get our environment set up\n",
    "\n",
    "The first thing we'll need to do is load in the libraries we'll be using."
   ]
  },
  {
   "cell_type": "code",
   "execution_count": 2,
   "metadata": {
    "execution": {
     "iopub.execute_input": "2020-12-17T05:39:45.149316Z",
     "iopub.status.busy": "2020-12-17T05:39:45.148548Z",
     "iopub.status.idle": "2020-12-17T05:39:45.150723Z",
     "shell.execute_reply": "2020-12-17T05:39:45.151219Z"
    },
    "papermill": {
     "duration": 0.021055,
     "end_time": "2020-12-17T05:39:45.151413",
     "exception": false,
     "start_time": "2020-12-17T05:39:45.130358",
     "status": "completed"
    },
    "tags": []
   },
   "outputs": [],
   "source": [
    "# modules we'll use\n",
    "import pandas as pd\n",
    "import numpy as np\n",
    "\n",
    "# helpful character encoding module\n",
    "import chardet\n",
    "\n",
    "# set seed for reproducibility\n",
    "np.random.seed(0)"
   ]
  },
  {
   "cell_type": "markdown",
   "metadata": {
    "papermill": {
     "duration": 0.012911,
     "end_time": "2020-12-17T05:39:45.177149",
     "exception": false,
     "start_time": "2020-12-17T05:39:45.164238",
     "status": "completed"
    },
    "tags": []
   },
   "source": [
    "# 1) What are encodings?\n",
    "\n",
    "You're working with a dataset composed of bytes.  Run the code cell below to print a sample entry."
   ]
  },
  {
   "cell_type": "code",
   "execution_count": 3,
   "metadata": {
    "execution": {
     "iopub.execute_input": "2020-12-17T05:39:45.206298Z",
     "iopub.status.busy": "2020-12-17T05:39:45.205604Z",
     "iopub.status.idle": "2020-12-17T05:39:45.211067Z",
     "shell.execute_reply": "2020-12-17T05:39:45.211914Z"
    },
    "papermill": {
     "duration": 0.022327,
     "end_time": "2020-12-17T05:39:45.212143",
     "exception": false,
     "start_time": "2020-12-17T05:39:45.189816",
     "status": "completed"
    },
    "tags": []
   },
   "outputs": [
    {
     "name": "stdout",
     "output_type": "stream",
     "text": [
      "b'\\xa7A\\xa6n'\n",
      "data type: <class 'bytes'>\n"
     ]
    }
   ],
   "source": [
    "sample_entry = b'\\xa7A\\xa6n'\n",
    "print(sample_entry)\n",
    "print('data type:', type(sample_entry))"
   ]
  },
  {
   "cell_type": "markdown",
   "metadata": {
    "papermill": {
     "duration": 0.014576,
     "end_time": "2020-12-17T05:39:45.240940",
     "exception": false,
     "start_time": "2020-12-17T05:39:45.226364",
     "status": "completed"
    },
    "tags": []
   },
   "source": [
    "You notice that it doesn't use the standard UTF-8 encoding. \n",
    "\n",
    "Use the next code cell to create a variable `new_entry` that changes the encoding from `\"big5-tw\"` to `\"utf-8\"`.  `new_entry` should have the bytes datatype."
   ]
  },
  {
   "cell_type": "code",
   "execution_count": 4,
   "metadata": {
    "execution": {
     "iopub.execute_input": "2020-12-17T05:39:45.271566Z",
     "iopub.status.busy": "2020-12-17T05:39:45.270764Z",
     "iopub.status.idle": "2020-12-17T05:39:45.279322Z",
     "shell.execute_reply": "2020-12-17T05:39:45.279929Z"
    },
    "papermill": {
     "duration": 0.025646,
     "end_time": "2020-12-17T05:39:45.280098",
     "exception": false,
     "start_time": "2020-12-17T05:39:45.254452",
     "status": "completed"
    },
    "tags": []
   },
   "outputs": [
    {
     "data": {
      "application/javascript": [
       "parent.postMessage({\"jupyterEvent\": \"custom.exercise_interaction\", \"data\": {\"outcomeType\": 1, \"valueTowardsCompletion\": 0.3333333333333333, \"interactionType\": 1, \"questionType\": 1, \"questionId\": \"1_EncodingsIntro\", \"learnToolsVersion\": \"0.3.4\", \"failureMessage\": \"\", \"exceptionClass\": \"\", \"trace\": \"\"}}, \"*\")"
      ],
      "text/plain": [
       "<IPython.core.display.Javascript object>"
      ]
     },
     "metadata": {},
     "output_type": "display_data"
    },
    {
     "data": {
      "text/markdown": [
       "<span style=\"color:#33cc33\">Correct</span>"
      ],
      "text/plain": [
       "Correct"
      ]
     },
     "metadata": {},
     "output_type": "display_data"
    }
   ],
   "source": [
    "before = sample_entry.decode(\"big5-tw\")\n",
    "new_entry = before.encode()\n",
    "\n",
    "# Check your answer\n",
    "q1.check()"
   ]
  },
  {
   "cell_type": "code",
   "execution_count": 5,
   "metadata": {
    "execution": {
     "iopub.execute_input": "2020-12-17T05:39:45.313065Z",
     "iopub.status.busy": "2020-12-17T05:39:45.312299Z",
     "iopub.status.idle": "2020-12-17T05:39:45.315930Z",
     "shell.execute_reply": "2020-12-17T05:39:45.316501Z"
    },
    "papermill": {
     "duration": 0.021868,
     "end_time": "2020-12-17T05:39:45.316688",
     "exception": false,
     "start_time": "2020-12-17T05:39:45.294820",
     "status": "completed"
    },
    "tags": []
   },
   "outputs": [],
   "source": [
    "# Lines below will give you a hint or solution code\n",
    "#q1.hint()\n",
    "#q1.solution()"
   ]
  },
  {
   "cell_type": "markdown",
   "metadata": {
    "papermill": {
     "duration": 0.014052,
     "end_time": "2020-12-17T05:39:45.345560",
     "exception": false,
     "start_time": "2020-12-17T05:39:45.331508",
     "status": "completed"
    },
    "tags": []
   },
   "source": [
    "# 2) Reading in files with encoding problems\n",
    "\n",
    "Use the code cell below to read in this file at path `\"../input/fatal-police-shootings-in-the-us/PoliceKillingsUS.csv\"`.  \n",
    "\n",
    "Figure out what the correct encoding should be and read in the file to a DataFrame `police_killings`."
   ]
  },
  {
   "cell_type": "code",
   "execution_count": 6,
   "metadata": {
    "execution": {
     "iopub.execute_input": "2020-12-17T05:39:45.379042Z",
     "iopub.status.busy": "2020-12-17T05:39:45.378203Z",
     "iopub.status.idle": "2020-12-17T05:39:45.404748Z",
     "shell.execute_reply": "2020-12-17T05:39:45.404051Z"
    },
    "papermill": {
     "duration": 0.044792,
     "end_time": "2020-12-17T05:39:45.404882",
     "exception": false,
     "start_time": "2020-12-17T05:39:45.360090",
     "status": "completed"
    },
    "tags": []
   },
   "outputs": [
    {
     "data": {
      "application/javascript": [
       "parent.postMessage({\"jupyterEvent\": \"custom.exercise_interaction\", \"data\": {\"outcomeType\": 1, \"valueTowardsCompletion\": 0.3333333333333333, \"interactionType\": 1, \"questionType\": 1, \"questionId\": \"2_ReadIn\", \"learnToolsVersion\": \"0.3.4\", \"failureMessage\": \"\", \"exceptionClass\": \"\", \"trace\": \"\"}}, \"*\")"
      ],
      "text/plain": [
       "<IPython.core.display.Javascript object>"
      ]
     },
     "metadata": {},
     "output_type": "display_data"
    },
    {
     "data": {
      "text/markdown": [
       "<span style=\"color:#33cc33\">Correct</span>"
      ],
      "text/plain": [
       "Correct"
      ]
     },
     "metadata": {},
     "output_type": "display_data"
    }
   ],
   "source": [
    "# TODO: Load in the DataFrame correctly.\n",
    "police_killings =  pd.read_csv(\"../input/fatal-police-shootings-in-the-us/PoliceKillingsUS.csv\", encoding='Windows-1252')\n",
    "\n",
    "# Check your answer\n",
    "q2.check()"
   ]
  },
  {
   "cell_type": "markdown",
   "metadata": {
    "papermill": {
     "duration": 0.015616,
     "end_time": "2020-12-17T05:39:45.436494",
     "exception": false,
     "start_time": "2020-12-17T05:39:45.420878",
     "status": "completed"
    },
    "tags": []
   },
   "source": [
    "Feel free to use any additional code cells for supplemental work.  To get credit for finishing this question, you'll need to run `q2.check()` and get a result of **Correct**."
   ]
  },
  {
   "cell_type": "code",
   "execution_count": 7,
   "metadata": {
    "execution": {
     "iopub.execute_input": "2020-12-17T05:39:45.472963Z",
     "iopub.status.busy": "2020-12-17T05:39:45.472194Z",
     "iopub.status.idle": "2020-12-17T05:39:45.475655Z",
     "shell.execute_reply": "2020-12-17T05:39:45.476224Z"
    },
    "papermill": {
     "duration": 0.023504,
     "end_time": "2020-12-17T05:39:45.476392",
     "exception": false,
     "start_time": "2020-12-17T05:39:45.452888",
     "status": "completed"
    },
    "tags": []
   },
   "outputs": [],
   "source": [
    "# (Optional) Use this code cell for any additional work."
   ]
  },
  {
   "cell_type": "code",
   "execution_count": 8,
   "metadata": {
    "execution": {
     "iopub.execute_input": "2020-12-17T05:39:45.512087Z",
     "iopub.status.busy": "2020-12-17T05:39:45.511406Z",
     "iopub.status.idle": "2020-12-17T05:39:45.515780Z",
     "shell.execute_reply": "2020-12-17T05:39:45.515195Z"
    },
    "papermill": {
     "duration": 0.023684,
     "end_time": "2020-12-17T05:39:45.515914",
     "exception": false,
     "start_time": "2020-12-17T05:39:45.492230",
     "status": "completed"
    },
    "tags": []
   },
   "outputs": [],
   "source": [
    "# Lines below will give you a hint or solution code\n",
    "#q2.hint()\n",
    "#q2.solution()"
   ]
  },
  {
   "cell_type": "markdown",
   "metadata": {
    "papermill": {
     "duration": 0.015606,
     "end_time": "2020-12-17T05:39:45.547525",
     "exception": false,
     "start_time": "2020-12-17T05:39:45.531919",
     "status": "completed"
    },
    "tags": []
   },
   "source": [
    "# 3) Saving your files with UTF-8 encoding\n",
    "\n",
    "Save a version of the police killings dataset to CSV with UTF-8 encoding.  Your answer will be marked correct after saving this file.  \n",
    "\n",
    "Note: When using the `to_csv()` method, supply only the name of the file (e.g., `\"my_file.csv\"`).  This saves the file at the filepath `\"/kaggle/working/my_file.csv\"`."
   ]
  },
  {
   "cell_type": "code",
   "execution_count": 9,
   "metadata": {
    "execution": {
     "iopub.execute_input": "2020-12-17T05:39:45.586413Z",
     "iopub.status.busy": "2020-12-17T05:39:45.585682Z",
     "iopub.status.idle": "2020-12-17T05:39:46.022789Z",
     "shell.execute_reply": "2020-12-17T05:39:46.022196Z"
    },
    "papermill": {
     "duration": 0.458546,
     "end_time": "2020-12-17T05:39:46.022919",
     "exception": false,
     "start_time": "2020-12-17T05:39:45.564373",
     "status": "completed"
    },
    "tags": []
   },
   "outputs": [
    {
     "data": {
      "application/javascript": [
       "parent.postMessage({\"jupyterEvent\": \"custom.exercise_interaction\", \"data\": {\"outcomeType\": 1, \"valueTowardsCompletion\": 0.3333333333333333, \"interactionType\": 1, \"questionType\": 2, \"questionId\": \"3_SaveCSV\", \"learnToolsVersion\": \"0.3.4\", \"failureMessage\": \"\", \"exceptionClass\": \"\", \"trace\": \"\"}}, \"*\")"
      ],
      "text/plain": [
       "<IPython.core.display.Javascript object>"
      ]
     },
     "metadata": {},
     "output_type": "display_data"
    },
    {
     "data": {
      "text/markdown": [
       "<span style=\"color:#33cc33\">Correct</span>"
      ],
      "text/plain": [
       "Correct"
      ]
     },
     "metadata": {},
     "output_type": "display_data"
    }
   ],
   "source": [
    "# TODO: Save the police killings dataset to CSV\n",
    "police_killings.to_csv(\"my_file.csv\")\n",
    "\n",
    "# Check your answer\n",
    "q3.check()"
   ]
  },
  {
   "cell_type": "code",
   "execution_count": 10,
   "metadata": {
    "execution": {
     "iopub.execute_input": "2020-12-17T05:39:46.062266Z",
     "iopub.status.busy": "2020-12-17T05:39:46.061175Z",
     "iopub.status.idle": "2020-12-17T05:39:46.064888Z",
     "shell.execute_reply": "2020-12-17T05:39:46.065537Z"
    },
    "papermill": {
     "duration": 0.02549,
     "end_time": "2020-12-17T05:39:46.065707",
     "exception": false,
     "start_time": "2020-12-17T05:39:46.040217",
     "status": "completed"
    },
    "tags": []
   },
   "outputs": [],
   "source": [
    "# Lines below will give you a hint or solution code\n",
    "#q3.hint()\n",
    "#q3.solution()"
   ]
  },
  {
   "cell_type": "markdown",
   "metadata": {
    "papermill": {
     "duration": 0.016942,
     "end_time": "2020-12-17T05:39:46.099796",
     "exception": false,
     "start_time": "2020-12-17T05:39:46.082854",
     "status": "completed"
    },
    "tags": []
   },
   "source": [
    "# (Optional) More practice\n",
    "\n",
    "Check out [this dataset of files in different character encodings](https://www.kaggle.com/rtatman/character-encoding-examples). Can you read in all the files with their original encodings and them save them out as UTF-8 files?\n",
    "\n",
    "If you have a file that's in UTF-8 but has just a couple of weird-looking characters in it, you can try out the [ftfy module](https://ftfy.readthedocs.io/en/latest/#) and see if it helps. \n",
    "\n",
    "# Keep going\n",
    "\n",
    "In the final lesson, learn how to [**clean up inconsistent text entries**](https://www.kaggle.com/alexisbcook/inconsistent-data-entry) in your dataset."
   ]
  },
  {
   "cell_type": "markdown",
   "metadata": {
    "papermill": {
     "duration": 0.017419,
     "end_time": "2020-12-17T05:39:46.135682",
     "exception": false,
     "start_time": "2020-12-17T05:39:46.118263",
     "status": "completed"
    },
    "tags": []
   },
   "source": [
    "---\n",
    "\n",
    "\n",
    "\n",
    "\n",
    "*Have questions or comments? Visit the [Learn Discussion forum](https://www.kaggle.com/learn-forum/172650) to chat with other Learners.*"
   ]
  }
 ],
 "metadata": {
  "kernelspec": {
   "display_name": "Python 3",
   "language": "python",
   "name": "python3"
  },
  "language_info": {
   "codemirror_mode": {
    "name": "ipython",
    "version": 3
   },
   "file_extension": ".py",
   "mimetype": "text/x-python",
   "name": "python",
   "nbconvert_exporter": "python",
   "pygments_lexer": "ipython3",
   "version": "3.7.6"
  },
  "papermill": {
   "duration": 6.459285,
   "end_time": "2020-12-17T05:39:46.262563",
   "environment_variables": {},
   "exception": null,
   "input_path": "__notebook__.ipynb",
   "output_path": "__notebook__.ipynb",
   "parameters": {},
   "start_time": "2020-12-17T05:39:39.803278",
   "version": "2.1.0"
  }
 },
 "nbformat": 4,
 "nbformat_minor": 4
}

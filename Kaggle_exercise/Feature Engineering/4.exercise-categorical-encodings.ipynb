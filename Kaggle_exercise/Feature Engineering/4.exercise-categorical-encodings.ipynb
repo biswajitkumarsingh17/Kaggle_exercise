{
 "cells": [
  {
   "cell_type": "markdown",
   "metadata": {
    "papermill": {
     "duration": 0.025159,
     "end_time": "2020-12-17T01:35:48.738523",
     "exception": false,
     "start_time": "2020-12-17T01:35:48.713364",
     "status": "completed"
    },
    "tags": []
   },
   "source": [
    "**This notebook is an exercise in the [Feature Engineering](https://www.kaggle.com/learn/feature-engineering) course.  You can reference the tutorial at [this link](https://www.kaggle.com/matleonard/categorical-encodings).**\n",
    "\n",
    "---\n"
   ]
  },
  {
   "cell_type": "markdown",
   "metadata": {
    "papermill": {
     "duration": 0.019866,
     "end_time": "2020-12-17T01:35:48.779337",
     "exception": false,
     "start_time": "2020-12-17T01:35:48.759471",
     "status": "completed"
    },
    "tags": []
   },
   "source": [
    "# Introduction\n",
    "\n",
    "In this exercise you'll apply more advanced encodings to encode the categorical variables ito improve your classifier model. The encodings you will implement are:\n",
    "\n",
    "- Count Encoding\n",
    "- Target Encoding\n",
    "- CatBoost Encoding\n",
    "\n",
    "You'll refit the classifier after each encoding to check its performance on hold-out data. \n",
    "\n",
    "Begin by running the next code cell to set up the notebook."
   ]
  },
  {
   "cell_type": "code",
   "execution_count": 1,
   "metadata": {
    "execution": {
     "iopub.execute_input": "2020-12-17T01:35:48.823659Z",
     "iopub.status.busy": "2020-12-17T01:35:48.822712Z",
     "iopub.status.idle": "2020-12-17T01:36:15.423720Z",
     "shell.execute_reply": "2020-12-17T01:36:15.422854Z"
    },
    "papermill": {
     "duration": 26.624318,
     "end_time": "2020-12-17T01:36:15.423843",
     "exception": false,
     "start_time": "2020-12-17T01:35:48.799525",
     "status": "completed"
    },
    "tags": []
   },
   "outputs": [
    {
     "name": "stderr",
     "output_type": "stream",
     "text": [
      "/opt/conda/lib/python3.7/site-packages/category_encoders/utils.py:21: FutureWarning: is_categorical is deprecated and will be removed in a future version.  Use is_categorical_dtype instead\n",
      "  elif pd.api.types.is_categorical(cols):\n",
      "/opt/conda/lib/python3.7/site-packages/category_encoders/utils.py:21: FutureWarning: is_categorical is deprecated and will be removed in a future version.  Use is_categorical_dtype instead\n",
      "  elif pd.api.types.is_categorical(cols):\n"
     ]
    }
   ],
   "source": [
    "# Set up code checking\n",
    "# This can take a few seconds\n",
    "from learntools.core import binder\n",
    "binder.bind(globals())\n",
    "from learntools.feature_engineering.ex2 import *"
   ]
  },
  {
   "cell_type": "markdown",
   "metadata": {
    "papermill": {
     "duration": 0.019837,
     "end_time": "2020-12-17T01:36:15.465525",
     "exception": false,
     "start_time": "2020-12-17T01:36:15.445688",
     "status": "completed"
    },
    "tags": []
   },
   "source": [
    "The next code cell repeats the work that you did in the previous exercise."
   ]
  },
  {
   "cell_type": "code",
   "execution_count": 2,
   "metadata": {
    "execution": {
     "iopub.execute_input": "2020-12-17T01:36:15.512318Z",
     "iopub.status.busy": "2020-12-17T01:36:15.511713Z",
     "iopub.status.idle": "2020-12-17T01:36:15.985329Z",
     "shell.execute_reply": "2020-12-17T01:36:15.984766Z"
    },
    "papermill": {
     "duration": 0.5,
     "end_time": "2020-12-17T01:36:15.985480",
     "exception": false,
     "start_time": "2020-12-17T01:36:15.485480",
     "status": "completed"
    },
    "tags": []
   },
   "outputs": [
    {
     "data": {
      "text/html": [
       "<style type='text/css'>\n",
       ".datatable table.frame { margin-bottom: 0; }\n",
       ".datatable table.frame thead { border-bottom: none; }\n",
       ".datatable table.frame tr.coltypes td {  color: #FFFFFF;  line-height: 6px;  padding: 0 0.5em;}\n",
       ".datatable .bool    { background: #DDDD99; }\n",
       ".datatable .object  { background: #565656; }\n",
       ".datatable .int     { background: #5D9E5D; }\n",
       ".datatable .float   { background: #4040CC; }\n",
       ".datatable .str     { background: #CC4040; }\n",
       ".datatable .row_index {  background: var(--jp-border-color3);  border-right: 1px solid var(--jp-border-color0);  color: var(--jp-ui-font-color3);  font-size: 9px;}\n",
       ".datatable .frame tr.coltypes .row_index {  background: var(--jp-border-color0);}\n",
       ".datatable th:nth-child(2) { padding-left: 12px; }\n",
       ".datatable .hellipsis {  color: var(--jp-cell-editor-border-color);}\n",
       ".datatable .vellipsis {  background: var(--jp-layout-color0);  color: var(--jp-cell-editor-border-color);}\n",
       ".datatable .na {  color: var(--jp-cell-editor-border-color);  font-size: 80%;}\n",
       ".datatable .footer { font-size: 9px; }\n",
       ".datatable .frame_dimensions {  background: var(--jp-border-color3);  border-top: 1px solid var(--jp-border-color0);  color: var(--jp-ui-font-color3);  display: inline-block;  opacity: 0.6;  padding: 1px 10px 1px 5px;}\n",
       ".datatable .frame thead tr.colnames {  background-image: url('data:image/png;base64,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');  background-repeat: repeat-x;  background-size: 14px;  height: 28px;}\n",
       "</style>\n"
      ],
      "text/plain": [
       "<IPython.core.display.HTML object>"
      ]
     },
     "metadata": {},
     "output_type": "display_data"
    }
   ],
   "source": [
    "import numpy as np\n",
    "import pandas as pd\n",
    "from sklearn import preprocessing, metrics\n",
    "import lightgbm as lgb\n",
    "\n",
    "clicks = pd.read_parquet('../input/feature-engineering-data/baseline_data.pqt')"
   ]
  },
  {
   "cell_type": "markdown",
   "metadata": {
    "papermill": {
     "duration": 0.020825,
     "end_time": "2020-12-17T01:36:16.027999",
     "exception": false,
     "start_time": "2020-12-17T01:36:16.007174",
     "status": "completed"
    },
    "tags": []
   },
   "source": [
    "Next, we define a couple functions that you'll use to test the encodings that you implement in this exercise."
   ]
  },
  {
   "cell_type": "code",
   "execution_count": 3,
   "metadata": {
    "execution": {
     "iopub.execute_input": "2020-12-17T01:36:16.086038Z",
     "iopub.status.busy": "2020-12-17T01:36:16.085361Z",
     "iopub.status.idle": "2020-12-17T01:36:16.088356Z",
     "shell.execute_reply": "2020-12-17T01:36:16.088867Z"
    },
    "papermill": {
     "duration": 0.039557,
     "end_time": "2020-12-17T01:36:16.089012",
     "exception": false,
     "start_time": "2020-12-17T01:36:16.049455",
     "status": "completed"
    },
    "tags": []
   },
   "outputs": [],
   "source": [
    "def get_data_splits(dataframe, valid_fraction=0.1):\n",
    "    \"\"\"Splits a dataframe into train, validation, and test sets.\n",
    "\n",
    "    First, orders by the column 'click_time'. Set the size of the \n",
    "    validation and test sets with the valid_fraction keyword argument.\n",
    "    \"\"\"\n",
    "\n",
    "    dataframe = dataframe.sort_values('click_time')\n",
    "    valid_rows = int(len(dataframe) * valid_fraction)\n",
    "    train = dataframe[:-valid_rows * 2]\n",
    "    # valid size == test size, last two sections of the data\n",
    "    valid = dataframe[-valid_rows * 2:-valid_rows]\n",
    "    test = dataframe[-valid_rows:]\n",
    "    \n",
    "    return train, valid, test\n",
    "\n",
    "def train_model(train, valid, test=None, feature_cols=None):\n",
    "    if feature_cols is None:\n",
    "        feature_cols = train.columns.drop(['click_time', 'attributed_time',\n",
    "                                           'is_attributed'])\n",
    "    dtrain = lgb.Dataset(train[feature_cols], label=train['is_attributed'])\n",
    "    dvalid = lgb.Dataset(valid[feature_cols], label=valid['is_attributed'])\n",
    "    \n",
    "    param = {'num_leaves': 64, 'objective': 'binary', \n",
    "             'metric': 'auc', 'seed': 7}\n",
    "    num_round = 1000\n",
    "    bst = lgb.train(param, dtrain, num_round, valid_sets=[dvalid], \n",
    "                    early_stopping_rounds=20, verbose_eval=False)\n",
    "    \n",
    "    valid_pred = bst.predict(valid[feature_cols])\n",
    "    valid_score = metrics.roc_auc_score(valid['is_attributed'], valid_pred)\n",
    "    print(f\"Validation AUC score: {valid_score}\")\n",
    "    \n",
    "    if test is not None: \n",
    "        test_pred = bst.predict(test[feature_cols])\n",
    "        test_score = metrics.roc_auc_score(test['is_attributed'], test_pred)\n",
    "        return bst, valid_score, test_score\n",
    "    else:\n",
    "        return bst, valid_score"
   ]
  },
  {
   "cell_type": "markdown",
   "metadata": {
    "papermill": {
     "duration": 0.02085,
     "end_time": "2020-12-17T01:36:16.130836",
     "exception": false,
     "start_time": "2020-12-17T01:36:16.109986",
     "status": "completed"
    },
    "tags": []
   },
   "source": [
    "Run this cell to get a baseline score. "
   ]
  },
  {
   "cell_type": "code",
   "execution_count": 4,
   "metadata": {
    "execution": {
     "iopub.execute_input": "2020-12-17T01:36:16.180399Z",
     "iopub.status.busy": "2020-12-17T01:36:16.179531Z",
     "iopub.status.idle": "2020-12-17T01:37:21.282780Z",
     "shell.execute_reply": "2020-12-17T01:37:21.283679Z"
    },
    "papermill": {
     "duration": 65.131966,
     "end_time": "2020-12-17T01:37:21.283895",
     "exception": false,
     "start_time": "2020-12-17T01:36:16.151929",
     "status": "completed"
    },
    "tags": []
   },
   "outputs": [
    {
     "name": "stdout",
     "output_type": "stream",
     "text": [
      "Baseline model\n",
      "Validation AUC score: 0.9622743228943659\n"
     ]
    }
   ],
   "source": [
    "print(\"Baseline model\")\n",
    "train, valid, test = get_data_splits(clicks)\n",
    "_ = train_model(train, valid)"
   ]
  },
  {
   "cell_type": "markdown",
   "metadata": {
    "papermill": {
     "duration": 0.022551,
     "end_time": "2020-12-17T01:37:21.332666",
     "exception": false,
     "start_time": "2020-12-17T01:37:21.310115",
     "status": "completed"
    },
    "tags": []
   },
   "source": [
    "### 1) Categorical encodings and leakage\n",
    "\n",
    "These encodings are all based on statistics calculated from the dataset like counts and means. \n",
    "\n",
    "Considering this, what data should you be using to calculate the encodings?  Specifically, can you use the validation data?  Can you use the test data?\n",
    "\n",
    "Run the following line after you've decided your answer."
   ]
  },
  {
   "cell_type": "code",
   "execution_count": 5,
   "metadata": {
    "execution": {
     "iopub.execute_input": "2020-12-17T01:37:21.384679Z",
     "iopub.status.busy": "2020-12-17T01:37:21.383699Z",
     "iopub.status.idle": "2020-12-17T01:37:21.389872Z",
     "shell.execute_reply": "2020-12-17T01:37:21.390717Z"
    },
    "papermill": {
     "duration": 0.035867,
     "end_time": "2020-12-17T01:37:21.390897",
     "exception": false,
     "start_time": "2020-12-17T01:37:21.355030",
     "status": "completed"
    },
    "tags": []
   },
   "outputs": [
    {
     "data": {
      "application/javascript": [
       "parent.postMessage({\"jupyterEvent\": \"custom.exercise_interaction\", \"data\": {\"interactionType\": 3, \"questionType\": 4, \"questionId\": \"1_LeakageQuestion\", \"learnToolsVersion\": \"0.3.4\", \"valueTowardsCompletion\": 0.0, \"failureMessage\": \"\", \"exceptionClass\": \"\", \"trace\": \"\", \"outcomeType\": 4}}, \"*\")"
      ],
      "text/plain": [
       "<IPython.core.display.Javascript object>"
      ]
     },
     "metadata": {},
     "output_type": "display_data"
    },
    {
     "data": {
      "text/markdown": [
       "<span style=\"color:#33cc99\">Solution:</span> You should calculate the encodings from the training set only. If you include data from the validation and test sets into the encodings, you'll overestimate the model's performance. You should in general be vigilant to avoid leakage, that is, including any information from the validation and test sets into the model. For a review on this topic, see our lesson on [data leakage](https://www.kaggle.com/alexisbcook/data-leakage)"
      ],
      "text/plain": [
       "Solution: You should calculate the encodings from the training set only. If you include data from the validation and test sets into the encodings, you'll overestimate the model's performance. You should in general be vigilant to avoid leakage, that is, including any information from the validation and test sets into the model. For a review on this topic, see our lesson on [data leakage](https://www.kaggle.com/alexisbcook/data-leakage)"
      ]
     },
     "metadata": {},
     "output_type": "display_data"
    }
   ],
   "source": [
    "# Check your answer (Run this code cell to receive credit!)\n",
    "q_1.solution()"
   ]
  },
  {
   "cell_type": "markdown",
   "metadata": {
    "papermill": {
     "duration": 0.034374,
     "end_time": "2020-12-17T01:37:21.460217",
     "exception": false,
     "start_time": "2020-12-17T01:37:21.425843",
     "status": "completed"
    },
    "tags": []
   },
   "source": [
    "### 2) Count encodings\n",
    "\n",
    "Begin by running the next code cell to get started."
   ]
  },
  {
   "cell_type": "code",
   "execution_count": 6,
   "metadata": {
    "execution": {
     "iopub.execute_input": "2020-12-17T01:37:21.533154Z",
     "iopub.status.busy": "2020-12-17T01:37:21.532336Z",
     "iopub.status.idle": "2020-12-17T01:37:21.759514Z",
     "shell.execute_reply": "2020-12-17T01:37:21.758728Z"
    },
    "papermill": {
     "duration": 0.264657,
     "end_time": "2020-12-17T01:37:21.759651",
     "exception": false,
     "start_time": "2020-12-17T01:37:21.494994",
     "status": "completed"
    },
    "tags": []
   },
   "outputs": [],
   "source": [
    "import category_encoders as ce\n",
    "\n",
    "cat_features = ['ip', 'app', 'device', 'os', 'channel']\n",
    "train, valid, test = get_data_splits(clicks)"
   ]
  },
  {
   "cell_type": "markdown",
   "metadata": {
    "papermill": {
     "duration": 0.034926,
     "end_time": "2020-12-17T01:37:21.829685",
     "exception": false,
     "start_time": "2020-12-17T01:37:21.794759",
     "status": "completed"
    },
    "tags": []
   },
   "source": [
    "Next, encode the categorical features `['ip', 'app', 'device', 'os', 'channel']` using the count of each value in the data set. \n",
    "- Using `CountEncoder` from the `category_encoders` library, fit the encoding using the categorical feature columns defined in `cat_features`. \n",
    "- Then apply the encodings to the train and validation sets, adding them as new columns with names suffixed `\"_count\"`."
   ]
  },
  {
   "cell_type": "code",
   "execution_count": 7,
   "metadata": {
    "execution": {
     "iopub.execute_input": "2020-12-17T01:37:21.907071Z",
     "iopub.status.busy": "2020-12-17T01:37:21.906238Z",
     "iopub.status.idle": "2020-12-17T01:37:23.502165Z",
     "shell.execute_reply": "2020-12-17T01:37:23.501499Z"
    },
    "papermill": {
     "duration": 1.63811,
     "end_time": "2020-12-17T01:37:23.502281",
     "exception": false,
     "start_time": "2020-12-17T01:37:21.864171",
     "status": "completed"
    },
    "tags": []
   },
   "outputs": [
    {
     "name": "stderr",
     "output_type": "stream",
     "text": [
      "/opt/conda/lib/python3.7/site-packages/category_encoders/utils.py:21: FutureWarning: is_categorical is deprecated and will be removed in a future version.  Use is_categorical_dtype instead\n",
      "  elif pd.api.types.is_categorical(cols):\n"
     ]
    },
    {
     "data": {
      "application/javascript": [
       "parent.postMessage({\"jupyterEvent\": \"custom.exercise_interaction\", \"data\": {\"outcomeType\": 1, \"valueTowardsCompletion\": 0.125, \"interactionType\": 1, \"questionType\": 1, \"questionId\": \"2_CountEncodings\", \"learnToolsVersion\": \"0.3.4\", \"failureMessage\": \"\", \"exceptionClass\": \"\", \"trace\": \"\"}}, \"*\")"
      ],
      "text/plain": [
       "<IPython.core.display.Javascript object>"
      ]
     },
     "metadata": {},
     "output_type": "display_data"
    },
    {
     "data": {
      "text/markdown": [
       "<span style=\"color:#33cc33\">Correct</span>"
      ],
      "text/plain": [
       "Correct"
      ]
     },
     "metadata": {},
     "output_type": "display_data"
    }
   ],
   "source": [
    "# Create the count encoder\n",
    "count_enc = label_encoder = preprocessing.LabelEncoder()\n",
    "cat_features = ['ip', 'app', 'device', 'os', 'channel']\n",
    "train, valid, test = get_data_splits(clicks)\n",
    "\n",
    "# Create the count encoder\n",
    "count_enc = ce.CountEncoder(cols=cat_features)\n",
    "\n",
    "# Learn encoding from the training set\n",
    "count_enc.fit(train[cat_features])\n",
    "\n",
    "\n",
    "# Apply encoding to the train and validation sets as new columns\n",
    "# Make sure to add `_count` as a suffix to the new columns\n",
    "train_encoded =  train.join(count_enc.transform(train[cat_features]).add_suffix('_count'))\n",
    "valid_encoded = valid.join(count_enc.transform(valid[cat_features]).add_suffix('_count'))\n",
    "\n",
    "# Check your answer\n",
    "q_2.check()"
   ]
  },
  {
   "cell_type": "code",
   "execution_count": 8,
   "metadata": {
    "execution": {
     "iopub.execute_input": "2020-12-17T01:37:23.558430Z",
     "iopub.status.busy": "2020-12-17T01:37:23.557692Z",
     "iopub.status.idle": "2020-12-17T01:37:23.561925Z",
     "shell.execute_reply": "2020-12-17T01:37:23.561313Z"
    },
    "papermill": {
     "duration": 0.034526,
     "end_time": "2020-12-17T01:37:23.562045",
     "exception": false,
     "start_time": "2020-12-17T01:37:23.527519",
     "status": "completed"
    },
    "tags": []
   },
   "outputs": [],
   "source": [
    "# Uncomment if you need some guidance\n",
    "# q_2.hint()\n",
    "#q_2.solution()"
   ]
  },
  {
   "cell_type": "markdown",
   "metadata": {
    "papermill": {
     "duration": 0.025534,
     "end_time": "2020-12-17T01:37:23.613617",
     "exception": false,
     "start_time": "2020-12-17T01:37:23.588083",
     "status": "completed"
    },
    "tags": []
   },
   "source": [
    "Run the next code cell to see how count encoding changes the results."
   ]
  },
  {
   "cell_type": "code",
   "execution_count": 9,
   "metadata": {
    "execution": {
     "iopub.execute_input": "2020-12-17T01:37:23.671946Z",
     "iopub.status.busy": "2020-12-17T01:37:23.671028Z",
     "iopub.status.idle": "2020-12-17T01:38:41.920762Z",
     "shell.execute_reply": "2020-12-17T01:38:41.921518Z"
    },
    "papermill": {
     "duration": 78.281953,
     "end_time": "2020-12-17T01:38:41.921704",
     "exception": false,
     "start_time": "2020-12-17T01:37:23.639751",
     "status": "completed"
    },
    "tags": []
   },
   "outputs": [
    {
     "name": "stdout",
     "output_type": "stream",
     "text": [
      "Validation AUC score: 0.9653051135205329\n"
     ]
    }
   ],
   "source": [
    "# Train the model on the encoded datasets\n",
    "# This can take around 30 seconds to complete\n",
    "_ = train_model(train_encoded, valid_encoded)"
   ]
  },
  {
   "cell_type": "markdown",
   "metadata": {
    "papermill": {
     "duration": 0.026191,
     "end_time": "2020-12-17T01:38:41.975373",
     "exception": false,
     "start_time": "2020-12-17T01:38:41.949182",
     "status": "completed"
    },
    "tags": []
   },
   "source": [
    "Count encoding improved our model's score!"
   ]
  },
  {
   "cell_type": "markdown",
   "metadata": {
    "papermill": {
     "duration": 0.025489,
     "end_time": "2020-12-17T01:38:42.026995",
     "exception": false,
     "start_time": "2020-12-17T01:38:42.001506",
     "status": "completed"
    },
    "tags": []
   },
   "source": [
    "### 3) Why is count encoding effective?\n",
    "At first glance, it could be surprising that count encoding helps make accurate models. \n",
    "Why do you think is count encoding is a good idea, or how does it improve the model score?\n",
    "\n",
    "Run the following line after you've decided your answer."
   ]
  },
  {
   "cell_type": "code",
   "execution_count": 10,
   "metadata": {
    "execution": {
     "iopub.execute_input": "2020-12-17T01:38:42.085063Z",
     "iopub.status.busy": "2020-12-17T01:38:42.083900Z",
     "iopub.status.idle": "2020-12-17T01:38:42.090889Z",
     "shell.execute_reply": "2020-12-17T01:38:42.091554Z"
    },
    "papermill": {
     "duration": 0.038498,
     "end_time": "2020-12-17T01:38:42.091680",
     "exception": false,
     "start_time": "2020-12-17T01:38:42.053182",
     "status": "completed"
    },
    "tags": []
   },
   "outputs": [
    {
     "data": {
      "application/javascript": [
       "parent.postMessage({\"jupyterEvent\": \"custom.exercise_interaction\", \"data\": {\"interactionType\": 3, \"questionType\": 4, \"questionId\": \"3_CountEncodingEffectiveness\", \"learnToolsVersion\": \"0.3.4\", \"valueTowardsCompletion\": 0.0, \"failureMessage\": \"\", \"exceptionClass\": \"\", \"trace\": \"\", \"outcomeType\": 4}}, \"*\")"
      ],
      "text/plain": [
       "<IPython.core.display.Javascript object>"
      ]
     },
     "metadata": {},
     "output_type": "display_data"
    },
    {
     "data": {
      "text/markdown": [
       "<span style=\"color:#33cc99\">Solution:</span> \n",
       "    Rare values tend to have similar counts (with values like 1 or 2), so you can classify rare \n",
       "    values together at prediction time. Common values with large counts are unlikely to have \n",
       "    the same exact count as other values. So, the common/important values get their own \n",
       "    grouping.\n",
       "    "
      ],
      "text/plain": [
       "Solution: \n",
       "    Rare values tend to have similar counts (with values like 1 or 2), so you can classify rare \n",
       "    values together at prediction time. Common values with large counts are unlikely to have \n",
       "    the same exact count as other values. So, the common/important values get their own \n",
       "    grouping.\n",
       "    "
      ]
     },
     "metadata": {},
     "output_type": "display_data"
    }
   ],
   "source": [
    "# Check your answer (Run this code cell to receive credit!)\n",
    "q_3.solution()"
   ]
  },
  {
   "cell_type": "markdown",
   "metadata": {
    "papermill": {
     "duration": 0.02704,
     "end_time": "2020-12-17T01:38:42.146135",
     "exception": false,
     "start_time": "2020-12-17T01:38:42.119095",
     "status": "completed"
    },
    "tags": []
   },
   "source": [
    "### 4) Target encoding\n",
    "\n",
    "Here you'll try some supervised encodings that use the labels (the targets) to transform categorical features. The first one is target encoding. \n",
    "- Create the target encoder from the `category_encoders` library. \n",
    "- Then, learn the encodings from the training dataset, apply the encodings to all the datasets, and retrain the model."
   ]
  },
  {
   "cell_type": "code",
   "execution_count": 11,
   "metadata": {
    "execution": {
     "iopub.execute_input": "2020-12-17T01:38:42.205329Z",
     "iopub.status.busy": "2020-12-17T01:38:42.204450Z",
     "iopub.status.idle": "2020-12-17T01:38:50.834000Z",
     "shell.execute_reply": "2020-12-17T01:38:50.832917Z"
    },
    "papermill": {
     "duration": 8.660673,
     "end_time": "2020-12-17T01:38:50.834172",
     "exception": false,
     "start_time": "2020-12-17T01:38:42.173499",
     "status": "completed"
    },
    "tags": []
   },
   "outputs": [
    {
     "name": "stderr",
     "output_type": "stream",
     "text": [
      "/opt/conda/lib/python3.7/site-packages/category_encoders/utils.py:21: FutureWarning: is_categorical is deprecated and will be removed in a future version.  Use is_categorical_dtype instead\n",
      "  elif pd.api.types.is_categorical(cols):\n"
     ]
    },
    {
     "data": {
      "application/javascript": [
       "parent.postMessage({\"jupyterEvent\": \"custom.exercise_interaction\", \"data\": {\"outcomeType\": 1, \"valueTowardsCompletion\": 0.125, \"interactionType\": 1, \"questionType\": 1, \"questionId\": \"4_TargetEncodings\", \"learnToolsVersion\": \"0.3.4\", \"failureMessage\": \"\", \"exceptionClass\": \"\", \"trace\": \"\"}}, \"*\")"
      ],
      "text/plain": [
       "<IPython.core.display.Javascript object>"
      ]
     },
     "metadata": {},
     "output_type": "display_data"
    },
    {
     "data": {
      "text/markdown": [
       "<span style=\"color:#33cc33\">Correct</span>"
      ],
      "text/plain": [
       "Correct"
      ]
     },
     "metadata": {},
     "output_type": "display_data"
    }
   ],
   "source": [
    "# Create the target encoder. You can find this easily by using tab completion.\n",
    "# Start typing ce. the press Tab to bring up a list of classes and functions.\n",
    "target_enc = ce.TargetEncoder(cols=cat_features)\n",
    "\n",
    "# Learn encoding from the training set. Use the 'is_attributed' column as the target.\n",
    "target_enc.fit(train[cat_features], train['is_attributed'])\n",
    "\n",
    "# Apply encoding to the train and validation sets as new columns\n",
    "# Make sure to add `_target` as a suffix to the new columns\n",
    "train_encoded = train.join(target_enc.transform(train[cat_features]).add_suffix('_target'))\n",
    "valid_encoded = valid.join(target_enc.transform(valid[cat_features]).add_suffix('_target'))\n",
    "\n",
    "# Check your answer\n",
    "q_4.check()"
   ]
  },
  {
   "cell_type": "code",
   "execution_count": 12,
   "metadata": {
    "execution": {
     "iopub.execute_input": "2020-12-17T01:38:50.905244Z",
     "iopub.status.busy": "2020-12-17T01:38:50.904600Z",
     "iopub.status.idle": "2020-12-17T01:38:50.910457Z",
     "shell.execute_reply": "2020-12-17T01:38:50.909780Z"
    },
    "papermill": {
     "duration": 0.038405,
     "end_time": "2020-12-17T01:38:50.910568",
     "exception": false,
     "start_time": "2020-12-17T01:38:50.872163",
     "status": "completed"
    },
    "tags": []
   },
   "outputs": [],
   "source": [
    "# Uncomment these if you need some guidance\n",
    "#q_4.hint()\n",
    "#q_4.solution()"
   ]
  },
  {
   "cell_type": "markdown",
   "metadata": {
    "papermill": {
     "duration": 0.028508,
     "end_time": "2020-12-17T01:38:50.967808",
     "exception": false,
     "start_time": "2020-12-17T01:38:50.939300",
     "status": "completed"
    },
    "tags": []
   },
   "source": [
    "Run the next cell to see how target encoding affects your results."
   ]
  },
  {
   "cell_type": "code",
   "execution_count": 13,
   "metadata": {
    "execution": {
     "iopub.execute_input": "2020-12-17T01:38:51.032001Z",
     "iopub.status.busy": "2020-12-17T01:38:51.030974Z",
     "iopub.status.idle": "2020-12-17T01:39:00.366989Z",
     "shell.execute_reply": "2020-12-17T01:39:00.368338Z"
    },
    "papermill": {
     "duration": 9.372293,
     "end_time": "2020-12-17T01:39:00.368586",
     "exception": false,
     "start_time": "2020-12-17T01:38:50.996293",
     "status": "completed"
    },
    "tags": []
   },
   "outputs": [
    {
     "name": "stdout",
     "output_type": "stream",
     "text": [
      "Validation AUC score: 0.9540530347873288\n"
     ]
    }
   ],
   "source": [
    "_ = train_model(train_encoded, valid_encoded)"
   ]
  },
  {
   "cell_type": "markdown",
   "metadata": {
    "papermill": {
     "duration": 0.036275,
     "end_time": "2020-12-17T01:39:00.441465",
     "exception": false,
     "start_time": "2020-12-17T01:39:00.405190",
     "status": "completed"
    },
    "tags": []
   },
   "source": [
    "### 5) Try removing IP encoding\n",
    "\n",
    "If you leave `ip` out of the encoded features and retrain the model with target encoding, you should find that the score increases and is above the baseline score! Why do you think the score is below baseline when we encode the IP address but above baseline when we don't?\n",
    "\n",
    "Run the following line after you've decided your answer."
   ]
  },
  {
   "cell_type": "code",
   "execution_count": 14,
   "metadata": {
    "execution": {
     "iopub.execute_input": "2020-12-17T01:39:00.507844Z",
     "iopub.status.busy": "2020-12-17T01:39:00.506822Z",
     "iopub.status.idle": "2020-12-17T01:39:00.514776Z",
     "shell.execute_reply": "2020-12-17T01:39:00.513882Z"
    },
    "papermill": {
     "duration": 0.043376,
     "end_time": "2020-12-17T01:39:00.514896",
     "exception": false,
     "start_time": "2020-12-17T01:39:00.471520",
     "status": "completed"
    },
    "tags": []
   },
   "outputs": [
    {
     "data": {
      "application/javascript": [
       "parent.postMessage({\"jupyterEvent\": \"custom.exercise_interaction\", \"data\": {\"interactionType\": 3, \"questionType\": 4, \"questionId\": \"5_RemoveIPEncoding\", \"learnToolsVersion\": \"0.3.4\", \"valueTowardsCompletion\": 0.0, \"failureMessage\": \"\", \"exceptionClass\": \"\", \"trace\": \"\", \"outcomeType\": 4}}, \"*\")"
      ],
      "text/plain": [
       "<IPython.core.display.Javascript object>"
      ]
     },
     "metadata": {},
     "output_type": "display_data"
    },
    {
     "data": {
      "text/markdown": [
       "<span style=\"color:#33cc99\">Solution:</span> \n",
       "    Target encoding attempts to measure the population mean of the target for each \n",
       "    level in a categorical feature. This means when there is less data per level, the \n",
       "    estimated mean will be further away from the \"true\" mean, there will be more variance. \n",
       "    There is little data per IP address so it's likely that the estimates are much noisier\n",
       "    than for the other features. The model will rely heavily on this feature since it is \n",
       "    extremely predictive. This causes it to make fewer splits on other features, and those\n",
       "    features are fit on just the errors left over accounting for IP address. So, the \n",
       "    model will perform very poorly when seeing new IP addresses that weren't in the \n",
       "    training data (which is likely most new data). Going forward, we'll leave out the IP feature when trying\n",
       "    different encodings.\n",
       "    "
      ],
      "text/plain": [
       "Solution: \n",
       "    Target encoding attempts to measure the population mean of the target for each \n",
       "    level in a categorical feature. This means when there is less data per level, the \n",
       "    estimated mean will be further away from the \"true\" mean, there will be more variance. \n",
       "    There is little data per IP address so it's likely that the estimates are much noisier\n",
       "    than for the other features. The model will rely heavily on this feature since it is \n",
       "    extremely predictive. This causes it to make fewer splits on other features, and those\n",
       "    features are fit on just the errors left over accounting for IP address. So, the \n",
       "    model will perform very poorly when seeing new IP addresses that weren't in the \n",
       "    training data (which is likely most new data). Going forward, we'll leave out the IP feature when trying\n",
       "    different encodings.\n",
       "    "
      ]
     },
     "metadata": {},
     "output_type": "display_data"
    }
   ],
   "source": [
    "# Check your answer (Run this code cell to receive credit!)\n",
    "q_5.solution()"
   ]
  },
  {
   "cell_type": "markdown",
   "metadata": {
    "papermill": {
     "duration": 0.030093,
     "end_time": "2020-12-17T01:39:00.575916",
     "exception": false,
     "start_time": "2020-12-17T01:39:00.545823",
     "status": "completed"
    },
    "tags": []
   },
   "source": [
    "### 6) CatBoost Encoding\n",
    "\n",
    "The CatBoost encoder is supposed to work well with the LightGBM model. Encode the categorical features with `CatBoostEncoder` and train the model on the encoded data again."
   ]
  },
  {
   "cell_type": "code",
   "execution_count": 15,
   "metadata": {
    "execution": {
     "iopub.execute_input": "2020-12-17T01:39:00.648111Z",
     "iopub.status.busy": "2020-12-17T01:39:00.647492Z",
     "iopub.status.idle": "2020-12-17T01:39:14.194184Z",
     "shell.execute_reply": "2020-12-17T01:39:14.193105Z"
    },
    "papermill": {
     "duration": 13.587176,
     "end_time": "2020-12-17T01:39:14.194313",
     "exception": false,
     "start_time": "2020-12-17T01:39:00.607137",
     "status": "completed"
    },
    "tags": []
   },
   "outputs": [
    {
     "name": "stderr",
     "output_type": "stream",
     "text": [
      "/opt/conda/lib/python3.7/site-packages/category_encoders/utils.py:21: FutureWarning: is_categorical is deprecated and will be removed in a future version.  Use is_categorical_dtype instead\n",
      "  elif pd.api.types.is_categorical(cols):\n"
     ]
    },
    {
     "data": {
      "application/javascript": [
       "parent.postMessage({\"jupyterEvent\": \"custom.exercise_interaction\", \"data\": {\"outcomeType\": 1, \"valueTowardsCompletion\": 0.125, \"interactionType\": 1, \"questionType\": 1, \"questionId\": \"6_CatBoostEncodings\", \"learnToolsVersion\": \"0.3.4\", \"failureMessage\": \"\", \"exceptionClass\": \"\", \"trace\": \"\"}}, \"*\")"
      ],
      "text/plain": [
       "<IPython.core.display.Javascript object>"
      ]
     },
     "metadata": {},
     "output_type": "display_data"
    },
    {
     "data": {
      "text/markdown": [
       "<span style=\"color:#33cc33\">Correct</span>"
      ],
      "text/plain": [
       "Correct"
      ]
     },
     "metadata": {},
     "output_type": "display_data"
    }
   ],
   "source": [
    "# Remove IP from the encoded features\n",
    "cat_features = ['app', 'device', 'os', 'channel']\n",
    "train, valid, test = get_data_splits(clicks)\n",
    "\n",
    "# Create the CatBoost encoder\n",
    "cb_enc = ce.CatBoostEncoder(cols=cat_features, random_state=7)\n",
    "\n",
    "# Learn encoding from the training set\n",
    "cb_enc.fit(train[cat_features], train['is_attributed'])\n",
    "\n",
    "\n",
    "# Apply encoding to the train and validation sets as new columns\n",
    "# Make sure to add `_cb` as a suffix to the new columns\n",
    "train_encoded = train.join(cb_enc.transform(train[cat_features]).add_suffix('_cb'))\n",
    "valid_encoded = valid.join(cb_enc.transform(valid[cat_features]).add_suffix('_cb'))\n",
    "# Check your answer\n",
    "q_6.check()"
   ]
  },
  {
   "cell_type": "code",
   "execution_count": 16,
   "metadata": {
    "execution": {
     "iopub.execute_input": "2020-12-17T01:39:14.266163Z",
     "iopub.status.busy": "2020-12-17T01:39:14.265156Z",
     "iopub.status.idle": "2020-12-17T01:39:14.269862Z",
     "shell.execute_reply": "2020-12-17T01:39:14.268955Z"
    },
    "papermill": {
     "duration": 0.042857,
     "end_time": "2020-12-17T01:39:14.270006",
     "exception": false,
     "start_time": "2020-12-17T01:39:14.227149",
     "status": "completed"
    },
    "tags": []
   },
   "outputs": [],
   "source": [
    "# Uncomment these if you need some guidance\n",
    "#q_6.hint()\n",
    "#q_6.solution()"
   ]
  },
  {
   "cell_type": "markdown",
   "metadata": {
    "papermill": {
     "duration": 0.047828,
     "end_time": "2020-12-17T01:39:14.366726",
     "exception": false,
     "start_time": "2020-12-17T01:39:14.318898",
     "status": "completed"
    },
    "tags": []
   },
   "source": [
    "Run the next code cell to see how the CatBoost encoder changes your results."
   ]
  },
  {
   "cell_type": "code",
   "execution_count": 17,
   "metadata": {
    "execution": {
     "iopub.execute_input": "2020-12-17T01:39:14.471190Z",
     "iopub.status.busy": "2020-12-17T01:39:14.470279Z",
     "iopub.status.idle": "2020-12-17T01:39:52.652768Z",
     "shell.execute_reply": "2020-12-17T01:39:52.653504Z"
    },
    "papermill": {
     "duration": 38.238688,
     "end_time": "2020-12-17T01:39:52.653671",
     "exception": false,
     "start_time": "2020-12-17T01:39:14.414983",
     "status": "completed"
    },
    "tags": []
   },
   "outputs": [
    {
     "name": "stdout",
     "output_type": "stream",
     "text": [
      "Validation AUC score: 0.962868024575231\n"
     ]
    }
   ],
   "source": [
    "_ = train_model(train_encoded, valid_encoded)"
   ]
  },
  {
   "cell_type": "markdown",
   "metadata": {
    "papermill": {
     "duration": 0.062609,
     "end_time": "2020-12-17T01:39:52.776391",
     "exception": false,
     "start_time": "2020-12-17T01:39:52.713782",
     "status": "completed"
    },
    "tags": []
   },
   "source": [
    "# Keep Going\n",
    "\n",
    "Now you are ready to **[generate completely new features](https://www.kaggle.com/matleonard/feature-generation)** from the data."
   ]
  },
  {
   "cell_type": "markdown",
   "metadata": {
    "papermill": {
     "duration": 0.049529,
     "end_time": "2020-12-17T01:39:52.880164",
     "exception": false,
     "start_time": "2020-12-17T01:39:52.830635",
     "status": "completed"
    },
    "tags": []
   },
   "source": [
    "---\n",
    "\n",
    "\n",
    "\n",
    "\n",
    "*Have questions or comments? Visit the [Learn Discussion forum](https://www.kaggle.com/learn-forum/161443) to chat with other Learners.*"
   ]
  }
 ],
 "metadata": {
  "kernelspec": {
   "display_name": "Python 3",
   "language": "python",
   "name": "python3"
  },
  "language_info": {
   "codemirror_mode": {
    "name": "ipython",
    "version": 3
   },
   "file_extension": ".py",
   "mimetype": "text/x-python",
   "name": "python",
   "nbconvert_exporter": "python",
   "pygments_lexer": "ipython3",
   "version": "3.7.6"
  },
  "papermill": {
   "duration": 250.975602,
   "end_time": "2020-12-17T01:39:53.038101",
   "environment_variables": {},
   "exception": null,
   "input_path": "__notebook__.ipynb",
   "output_path": "__notebook__.ipynb",
   "parameters": {},
   "start_time": "2020-12-17T01:35:42.062499",
   "version": "2.1.0"
  }
 },
 "nbformat": 4,
 "nbformat_minor": 4
}

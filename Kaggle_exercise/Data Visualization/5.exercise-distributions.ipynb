{
 "cells": [
  {
   "cell_type": "markdown",
   "metadata": {
    "papermill": {
     "duration": 0.026838,
     "end_time": "2020-12-17T04:47:58.914355",
     "exception": false,
     "start_time": "2020-12-17T04:47:58.887517",
     "status": "completed"
    },
    "tags": []
   },
   "source": [
    "**This notebook is an exercise in the [Data Visualization](https://www.kaggle.com/learn/data-visualization) course.  You can reference the tutorial at [this link](https://www.kaggle.com/alexisbcook/distributions).**\n",
    "\n",
    "---\n"
   ]
  },
  {
   "cell_type": "markdown",
   "metadata": {
    "papermill": {
     "duration": 0.025671,
     "end_time": "2020-12-17T04:47:58.966019",
     "exception": false,
     "start_time": "2020-12-17T04:47:58.940348",
     "status": "completed"
    },
    "tags": []
   },
   "source": [
    "In this exercise, you will use your new knowledge to propose a solution to a real-world scenario.  To succeed, you will need to import data into Python, answer questions using the data, and generate **histograms** and **density plots** to understand patterns in the data.\n",
    "\n",
    "## Scenario\n",
    "\n",
    "You'll work with a real-world dataset containing information collected from microscopic images of breast cancer tumors, similar to the image below.\n",
    "\n",
    "![ex4_cancer_image](https://i.imgur.com/qUESsJe.png)\n",
    "\n",
    "Each tumor has been labeled as either [**benign**](https://en.wikipedia.org/wiki/Benign_tumor) (_noncancerous_) or **malignant** (_cancerous_).\n",
    "\n",
    "To learn more about how this kind of data is used to create intelligent algorithms to classify tumors in medical settings, **watch the short video [at this link](https://www.youtube.com/watch?v=9Mz84cwVmS0)**!"
   ]
  },
  {
   "cell_type": "markdown",
   "metadata": {
    "papermill": {
     "duration": 0.025326,
     "end_time": "2020-12-17T04:47:59.017024",
     "exception": false,
     "start_time": "2020-12-17T04:47:58.991698",
     "status": "completed"
    },
    "tags": []
   },
   "source": [
    "\n",
    "\n",
    "## Setup\n",
    "\n",
    "Run the next cell to import and configure the Python libraries that you need to complete the exercise."
   ]
  },
  {
   "cell_type": "code",
   "execution_count": 1,
   "metadata": {
    "execution": {
     "iopub.execute_input": "2020-12-17T04:47:59.076035Z",
     "iopub.status.busy": "2020-12-17T04:47:59.075196Z",
     "iopub.status.idle": "2020-12-17T04:47:59.967142Z",
     "shell.execute_reply": "2020-12-17T04:47:59.966224Z"
    },
    "papermill": {
     "duration": 0.924554,
     "end_time": "2020-12-17T04:47:59.967319",
     "exception": false,
     "start_time": "2020-12-17T04:47:59.042765",
     "status": "completed"
    },
    "tags": []
   },
   "outputs": [
    {
     "name": "stdout",
     "output_type": "stream",
     "text": [
      "Setup Complete\n"
     ]
    }
   ],
   "source": [
    "import pandas as pd\n",
    "pd.plotting.register_matplotlib_converters()\n",
    "import matplotlib.pyplot as plt\n",
    "%matplotlib inline\n",
    "import seaborn as sns\n",
    "print(\"Setup Complete\")"
   ]
  },
  {
   "cell_type": "markdown",
   "metadata": {
    "papermill": {
     "duration": 0.02636,
     "end_time": "2020-12-17T04:48:00.021548",
     "exception": false,
     "start_time": "2020-12-17T04:47:59.995188",
     "status": "completed"
    },
    "tags": []
   },
   "source": [
    "The questions below will give you feedback on your work. Run the following cell to set up our feedback system."
   ]
  },
  {
   "cell_type": "code",
   "execution_count": 2,
   "metadata": {
    "execution": {
     "iopub.execute_input": "2020-12-17T04:48:00.081909Z",
     "iopub.status.busy": "2020-12-17T04:48:00.081020Z",
     "iopub.status.idle": "2020-12-17T04:48:00.169475Z",
     "shell.execute_reply": "2020-12-17T04:48:00.168504Z"
    },
    "papermill": {
     "duration": 0.121237,
     "end_time": "2020-12-17T04:48:00.169621",
     "exception": false,
     "start_time": "2020-12-17T04:48:00.048384",
     "status": "completed"
    },
    "tags": []
   },
   "outputs": [
    {
     "name": "stdout",
     "output_type": "stream",
     "text": [
      "Setup Complete\n"
     ]
    }
   ],
   "source": [
    "# Set up code checking\n",
    "import os\n",
    "if not os.path.exists(\"../input/cancer_b.csv\"):\n",
    "    os.symlink(\"../input/data-for-datavis/cancer_b.csv\", \"../input/cancer_b.csv\")\n",
    "    os.symlink(\"../input/data-for-datavis/cancer_m.csv\", \"../input/cancer_m.csv\")\n",
    "from learntools.core import binder\n",
    "binder.bind(globals())\n",
    "from learntools.data_viz_to_coder.ex5 import *\n",
    "print(\"Setup Complete\")"
   ]
  },
  {
   "cell_type": "markdown",
   "metadata": {
    "papermill": {
     "duration": 0.018471,
     "end_time": "2020-12-17T04:48:00.206874",
     "exception": false,
     "start_time": "2020-12-17T04:48:00.188403",
     "status": "completed"
    },
    "tags": []
   },
   "source": [
    "## Step 1: Load the data\n",
    "\n",
    "In this step, you will load two data files.\n",
    "- Load the data file corresponding to **benign** tumors into a DataFrame called `cancer_b_data`.  The corresponding filepath is `cancer_b_filepath`.  Use the `\"Id\"` column to label the rows.\n",
    "- Load the data file corresponding to **malignant** tumors into a DataFrame called `cancer_m_data`.  The corresponding filepath is `cancer_m_filepath`.  Use the `\"Id\"` column to label the rows."
   ]
  },
  {
   "cell_type": "code",
   "execution_count": 3,
   "metadata": {
    "execution": {
     "iopub.execute_input": "2020-12-17T04:48:00.248243Z",
     "iopub.status.busy": "2020-12-17T04:48:00.247098Z",
     "iopub.status.idle": "2020-12-17T04:48:00.282262Z",
     "shell.execute_reply": "2020-12-17T04:48:00.281331Z"
    },
    "papermill": {
     "duration": 0.056935,
     "end_time": "2020-12-17T04:48:00.282400",
     "exception": false,
     "start_time": "2020-12-17T04:48:00.225465",
     "status": "completed"
    },
    "tags": []
   },
   "outputs": [
    {
     "data": {
      "application/javascript": [
       "parent.postMessage({\"jupyterEvent\": \"custom.exercise_interaction\", \"data\": {\"outcomeType\": 1, \"valueTowardsCompletion\": 0.5, \"interactionType\": 1, \"questionType\": 1, \"questionId\": \"1_LoadCancerData\", \"learnToolsVersion\": \"0.3.4\", \"failureMessage\": \"\", \"exceptionClass\": \"\", \"trace\": \"\"}}, \"*\")"
      ],
      "text/plain": [
       "<IPython.core.display.Javascript object>"
      ]
     },
     "metadata": {},
     "output_type": "display_data"
    },
    {
     "data": {
      "text/markdown": [
       "<span style=\"color:#33cc33\">Correct</span>"
      ],
      "text/plain": [
       "Correct"
      ]
     },
     "metadata": {},
     "output_type": "display_data"
    }
   ],
   "source": [
    "# Paths of the files to read\n",
    "cancer_b_filepath = \"../input/cancer_b.csv\"\n",
    "cancer_m_filepath = \"../input/cancer_m.csv\"\n",
    "\n",
    "# Fill in the line below to read the (benign) file into a variable cancer_b_data\n",
    "cancer_b_data = pd.read_csv(cancer_b_filepath, index_col=\"Id\")\n",
    "\n",
    "# Fill in the line below to read the (malignant) file into a variable cancer_m_data\n",
    "cancer_m_data = pd.read_csv(cancer_m_filepath, index_col=\"Id\")\n",
    "\n",
    "# Run the line below with no changes to check that you've loaded the data correctly\n",
    "step_1.check()"
   ]
  },
  {
   "cell_type": "code",
   "execution_count": 4,
   "metadata": {
    "execution": {
     "iopub.execute_input": "2020-12-17T04:48:00.349053Z",
     "iopub.status.busy": "2020-12-17T04:48:00.348023Z",
     "iopub.status.idle": "2020-12-17T04:48:00.351534Z",
     "shell.execute_reply": "2020-12-17T04:48:00.352218Z"
    },
    "papermill": {
     "duration": 0.038709,
     "end_time": "2020-12-17T04:48:00.352376",
     "exception": false,
     "start_time": "2020-12-17T04:48:00.313667",
     "status": "completed"
    },
    "tags": []
   },
   "outputs": [],
   "source": [
    "# Lines below will give you a hint or solution code\n",
    "#step_1.hint()\n",
    "#step_1.solution()"
   ]
  },
  {
   "cell_type": "markdown",
   "metadata": {
    "papermill": {
     "duration": 0.02302,
     "end_time": "2020-12-17T04:48:00.405418",
     "exception": false,
     "start_time": "2020-12-17T04:48:00.382398",
     "status": "completed"
    },
    "tags": []
   },
   "source": [
    "## Step 2: Review the data\n",
    "\n",
    "Use a Python command to print the first 5 rows of the data for benign tumors."
   ]
  },
  {
   "cell_type": "code",
   "execution_count": 5,
   "metadata": {
    "execution": {
     "iopub.execute_input": "2020-12-17T04:48:00.477427Z",
     "iopub.status.busy": "2020-12-17T04:48:00.476455Z",
     "iopub.status.idle": "2020-12-17T04:48:00.480188Z",
     "shell.execute_reply": "2020-12-17T04:48:00.480890Z"
    },
    "papermill": {
     "duration": 0.039842,
     "end_time": "2020-12-17T04:48:00.481035",
     "exception": false,
     "start_time": "2020-12-17T04:48:00.441193",
     "status": "completed"
    },
    "tags": []
   },
   "outputs": [
    {
     "data": {
      "text/markdown": [],
      "text/plain": [
       "<learntools.core.constants.PlaceholderValue at 0x7faaf8525390>"
      ]
     },
     "execution_count": 5,
     "metadata": {},
     "output_type": "execute_result"
    }
   ],
   "source": [
    "# Print the first five rows of the (benign) data\n",
    "cancer_b_data.head()\n",
    "____ # Your code here"
   ]
  },
  {
   "cell_type": "markdown",
   "metadata": {
    "papermill": {
     "duration": 0.030188,
     "end_time": "2020-12-17T04:48:00.541906",
     "exception": false,
     "start_time": "2020-12-17T04:48:00.511718",
     "status": "completed"
    },
    "tags": []
   },
   "source": [
    "Use a Python command to print the first 5 rows of the data for malignant tumors."
   ]
  },
  {
   "cell_type": "code",
   "execution_count": 6,
   "metadata": {
    "execution": {
     "iopub.execute_input": "2020-12-17T04:48:00.607539Z",
     "iopub.status.busy": "2020-12-17T04:48:00.606446Z",
     "iopub.status.idle": "2020-12-17T04:48:00.612013Z",
     "shell.execute_reply": "2020-12-17T04:48:00.612761Z"
    },
    "papermill": {
     "duration": 0.040222,
     "end_time": "2020-12-17T04:48:00.612907",
     "exception": false,
     "start_time": "2020-12-17T04:48:00.572685",
     "status": "completed"
    },
    "tags": []
   },
   "outputs": [
    {
     "data": {
      "text/markdown": [],
      "text/plain": [
       "<learntools.core.constants.PlaceholderValue at 0x7faaf8525390>"
      ]
     },
     "execution_count": 6,
     "metadata": {},
     "output_type": "execute_result"
    }
   ],
   "source": [
    "# Print the first five rows of the (malignant) data\n",
    "cancer_m_data.head()\n",
    "____ # Your code here"
   ]
  },
  {
   "cell_type": "markdown",
   "metadata": {
    "papermill": {
     "duration": 0.031125,
     "end_time": "2020-12-17T04:48:00.675377",
     "exception": false,
     "start_time": "2020-12-17T04:48:00.644252",
     "status": "completed"
    },
    "tags": []
   },
   "source": [
    "In the datasets, each row corresponds to a different image.  Each dataset has 31 different columns, corresponding to:\n",
    "- 1 column (`'Diagnosis'`) that classifies tumors as either benign (which appears in the dataset as **`B`**) or malignant (__`M`__), and\n",
    "- 30 columns containing different measurements collected from the images.\n",
    "\n",
    "Use the first 5 rows of the data (for benign and malignant tumors) to answer the questions below."
   ]
  },
  {
   "cell_type": "code",
   "execution_count": 7,
   "metadata": {
    "execution": {
     "iopub.execute_input": "2020-12-17T04:48:00.742615Z",
     "iopub.status.busy": "2020-12-17T04:48:00.741483Z",
     "iopub.status.idle": "2020-12-17T04:48:00.751784Z",
     "shell.execute_reply": "2020-12-17T04:48:00.751191Z"
    },
    "papermill": {
     "duration": 0.044961,
     "end_time": "2020-12-17T04:48:00.751883",
     "exception": false,
     "start_time": "2020-12-17T04:48:00.706922",
     "status": "completed"
    },
    "tags": []
   },
   "outputs": [
    {
     "data": {
      "application/javascript": [
       "parent.postMessage({\"jupyterEvent\": \"custom.exercise_interaction\", \"data\": {\"outcomeType\": 1, \"valueTowardsCompletion\": 0.5, \"interactionType\": 1, \"questionType\": 1, \"questionId\": \"2_ReviewData\", \"learnToolsVersion\": \"0.3.4\", \"failureMessage\": \"\", \"exceptionClass\": \"\", \"trace\": \"\"}}, \"*\")"
      ],
      "text/plain": [
       "<IPython.core.display.Javascript object>"
      ]
     },
     "metadata": {},
     "output_type": "display_data"
    },
    {
     "data": {
      "text/markdown": [
       "<span style=\"color:#33cc33\">Correct</span>"
      ],
      "text/plain": [
       "Correct"
      ]
     },
     "metadata": {},
     "output_type": "display_data"
    }
   ],
   "source": [
    "# Fill in the line below: In the first five rows of the data for benign tumors, what is the\n",
    "# largest value for 'Perimeter (mean)'?\n",
    "max_perim = 87.46\n",
    "\n",
    "# Fill in the line below: What is the value for 'Radius (mean)' for the tumor with Id 842517?\n",
    "mean_radius = 20.57\n",
    "\n",
    "# Check your answers\n",
    "step_2.check()"
   ]
  },
  {
   "cell_type": "code",
   "execution_count": 8,
   "metadata": {
    "execution": {
     "iopub.execute_input": "2020-12-17T04:48:00.803432Z",
     "iopub.status.busy": "2020-12-17T04:48:00.802475Z",
     "iopub.status.idle": "2020-12-17T04:48:00.806422Z",
     "shell.execute_reply": "2020-12-17T04:48:00.805629Z"
    },
    "papermill": {
     "duration": 0.031073,
     "end_time": "2020-12-17T04:48:00.806543",
     "exception": false,
     "start_time": "2020-12-17T04:48:00.775470",
     "status": "completed"
    },
    "tags": []
   },
   "outputs": [],
   "source": [
    "# Lines below will give you a hint or solution code\n",
    "#step_2.hint()\n",
    "#step_2.solution()"
   ]
  },
  {
   "cell_type": "markdown",
   "metadata": {
    "papermill": {
     "duration": 0.033353,
     "end_time": "2020-12-17T04:48:00.873887",
     "exception": false,
     "start_time": "2020-12-17T04:48:00.840534",
     "status": "completed"
    },
    "tags": []
   },
   "source": [
    "## Step 3: Investigating differences"
   ]
  },
  {
   "cell_type": "markdown",
   "metadata": {
    "papermill": {
     "duration": 0.033516,
     "end_time": "2020-12-17T04:48:00.941328",
     "exception": false,
     "start_time": "2020-12-17T04:48:00.907812",
     "status": "completed"
    },
    "tags": []
   },
   "source": [
    "#### Part A\n",
    "\n",
    "Use the code cell below to create two histograms that show the distribution in values for `'Area (mean)'` for both benign and malignant tumors.  (_To permit easy comparison, create a single figure containing both histograms in the code cell below._)"
   ]
  },
  {
   "cell_type": "code",
   "execution_count": 9,
   "metadata": {
    "execution": {
     "iopub.execute_input": "2020-12-17T04:48:01.017926Z",
     "iopub.status.busy": "2020-12-17T04:48:01.017112Z",
     "iopub.status.idle": "2020-12-17T04:48:01.295980Z",
     "shell.execute_reply": "2020-12-17T04:48:01.294623Z"
    },
    "papermill": {
     "duration": 0.320515,
     "end_time": "2020-12-17T04:48:01.296108",
     "exception": false,
     "start_time": "2020-12-17T04:48:00.975593",
     "status": "completed"
    },
    "tags": []
   },
   "outputs": [
    {
     "data": {
      "application/javascript": [
       "parent.postMessage({\"jupyterEvent\": \"custom.exercise_interaction\", \"data\": {\"outcomeType\": 1, \"valueTowardsCompletion\": 0.5, \"interactionType\": 1, \"questionType\": 2, \"questionId\": \"3.1_PlotHist\", \"learnToolsVersion\": \"0.3.4\", \"failureMessage\": \"\", \"exceptionClass\": \"\", \"trace\": \"\"}}, \"*\")"
      ],
      "text/plain": [
       "<IPython.core.display.Javascript object>"
      ]
     },
     "metadata": {},
     "output_type": "display_data"
    },
    {
     "data": {
      "text/markdown": [
       "<span style=\"color:#33cc33\">Correct</span>"
      ],
      "text/plain": [
       "Correct"
      ]
     },
     "metadata": {},
     "output_type": "display_data"
    },
    {
     "data": {
      "image/png": "[encoded data removed]",
      "text/plain": [
       "<Figure size 432x288 with 1 Axes>"
      ]
     },
     "metadata": {
      "needs_background": "light"
     },
     "output_type": "display_data"
    }
   ],
   "source": [
    "# Histograms for benign and maligant tumors\n",
    "____ # Your code here (benign tumors)\n",
    "____ # Your code here (malignant tumors)\n",
    "sns.distplot(a=cancer_b_data['Area (mean)'], label=\"Benign\", kde=False)\n",
    "sns.distplot(a=cancer_m_data['Area (mean)'], label=\"Malignant\", kde=False)\n",
    "plt.legend()\n",
    "# Check your answer\n",
    "step_3.a.check()"
   ]
  },
  {
   "cell_type": "code",
   "execution_count": 10,
   "metadata": {
    "execution": {
     "iopub.execute_input": "2020-12-17T04:48:01.386216Z",
     "iopub.status.busy": "2020-12-17T04:48:01.385409Z",
     "iopub.status.idle": "2020-12-17T04:48:01.388327Z",
     "shell.execute_reply": "2020-12-17T04:48:01.387515Z"
    },
    "papermill": {
     "duration": 0.044153,
     "end_time": "2020-12-17T04:48:01.388446",
     "exception": false,
     "start_time": "2020-12-17T04:48:01.344293",
     "status": "completed"
    },
    "tags": []
   },
   "outputs": [],
   "source": [
    "# Lines below will give you a hint or solution code\n",
    "#step_3.a.hint()\n",
    "#step_3.a.solution_plot()"
   ]
  },
  {
   "cell_type": "markdown",
   "metadata": {
    "papermill": {
     "duration": 0.036836,
     "end_time": "2020-12-17T04:48:01.462058",
     "exception": false,
     "start_time": "2020-12-17T04:48:01.425222",
     "status": "completed"
    },
    "tags": []
   },
   "source": [
    "#### Part B\n",
    "\n",
    "A researcher approaches you for help with identifying how the `'Area (mean)'` column can be used to understand the difference between benign and malignant tumors.  Based on the histograms above, \n",
    "- Do malignant tumors have higher or lower values for `'Area (mean)'` (relative to benign tumors), on average?\n",
    "- Which tumor type seems to have a larger range of potential values?"
   ]
  },
  {
   "cell_type": "code",
   "execution_count": 11,
   "metadata": {
    "execution": {
     "iopub.execute_input": "2020-12-17T04:48:01.516742Z",
     "iopub.status.busy": "2020-12-17T04:48:01.516137Z",
     "iopub.status.idle": "2020-12-17T04:48:01.518500Z",
     "shell.execute_reply": "2020-12-17T04:48:01.517928Z"
    },
    "papermill": {
     "duration": 0.03066,
     "end_time": "2020-12-17T04:48:01.518623",
     "exception": false,
     "start_time": "2020-12-17T04:48:01.487963",
     "status": "completed"
    },
    "tags": []
   },
   "outputs": [],
   "source": [
    "#step_3.b.hint()"
   ]
  },
  {
   "cell_type": "code",
   "execution_count": 12,
   "metadata": {
    "execution": {
     "iopub.execute_input": "2020-12-17T04:48:01.577898Z",
     "iopub.status.busy": "2020-12-17T04:48:01.577100Z",
     "iopub.status.idle": "2020-12-17T04:48:01.584984Z",
     "shell.execute_reply": "2020-12-17T04:48:01.584430Z"
    },
    "papermill": {
     "duration": 0.041845,
     "end_time": "2020-12-17T04:48:01.585081",
     "exception": false,
     "start_time": "2020-12-17T04:48:01.543236",
     "status": "completed"
    },
    "tags": []
   },
   "outputs": [
    {
     "data": {
      "application/javascript": [
       "parent.postMessage({\"jupyterEvent\": \"custom.exercise_interaction\", \"data\": {\"interactionType\": 3, \"questionType\": 4, \"questionId\": \"3.2_ThinkHist\", \"learnToolsVersion\": \"0.3.4\", \"valueTowardsCompletion\": 0.0, \"failureMessage\": \"\", \"exceptionClass\": \"\", \"trace\": \"\", \"outcomeType\": 4}}, \"*\")"
      ],
      "text/plain": [
       "<IPython.core.display.Javascript object>"
      ]
     },
     "metadata": {},
     "output_type": "display_data"
    },
    {
     "data": {
      "text/markdown": [
       "<span style=\"color:#33cc99\">Solution:</span> Malignant tumors have higher values for `'Area (mean)'`, on average. Malignant tumors have a larger range of potential values."
      ],
      "text/plain": [
       "Solution: Malignant tumors have higher values for `'Area (mean)'`, on average. Malignant tumors have a larger range of potential values."
      ]
     },
     "metadata": {},
     "output_type": "display_data"
    }
   ],
   "source": [
    "# Check your answer (Run this code cell to receive credit!)\n",
    "step_3.b.solution()"
   ]
  },
  {
   "cell_type": "markdown",
   "metadata": {
    "papermill": {
     "duration": 0.025383,
     "end_time": "2020-12-17T04:48:01.636305",
     "exception": false,
     "start_time": "2020-12-17T04:48:01.610922",
     "status": "completed"
    },
    "tags": []
   },
   "source": [
    "## Step 4: A very useful column\n",
    "\n",
    "#### Part A\n",
    "\n",
    "Use the code cell below to create two KDE plots that show the distribution in values for `'Radius (worst)'` for both benign and malignant tumors.  (_To permit easy comparison, create a single figure containing both KDE plots in the code cell below._)"
   ]
  },
  {
   "cell_type": "code",
   "execution_count": 13,
   "metadata": {
    "execution": {
     "iopub.execute_input": "2020-12-17T04:48:01.702612Z",
     "iopub.status.busy": "2020-12-17T04:48:01.701190Z",
     "iopub.status.idle": "2020-12-17T04:48:01.936985Z",
     "shell.execute_reply": "2020-12-17T04:48:01.936120Z"
    },
    "papermill": {
     "duration": 0.275171,
     "end_time": "2020-12-17T04:48:01.937115",
     "exception": false,
     "start_time": "2020-12-17T04:48:01.661944",
     "status": "completed"
    },
    "tags": []
   },
   "outputs": [
    {
     "data": {
      "application/javascript": [
       "parent.postMessage({\"jupyterEvent\": \"custom.exercise_interaction\", \"data\": {\"outcomeType\": 1, \"valueTowardsCompletion\": 0.5, \"interactionType\": 1, \"questionType\": 2, \"questionId\": \"4.1_PlotThreshold\", \"learnToolsVersion\": \"0.3.4\", \"failureMessage\": \"\", \"exceptionClass\": \"\", \"trace\": \"\"}}, \"*\")"
      ],
      "text/plain": [
       "<IPython.core.display.Javascript object>"
      ]
     },
     "metadata": {},
     "output_type": "display_data"
    },
    {
     "data": {
      "text/markdown": [
       "<span style=\"color:#33cc33\">Correct</span>"
      ],
      "text/plain": [
       "Correct"
      ]
     },
     "metadata": {},
     "output_type": "display_data"
    },
    {
     "data": {
      "image/png": "[encoded data removed]",
      "text/plain": [
       "<Figure size 432x288 with 1 Axes>"
      ]
     },
     "metadata": {
      "needs_background": "light"
     },
     "output_type": "display_data"
    }
   ],
   "source": [
    "# KDE plots for benign and malignant tumors\n",
    "____ # Your code here (benign tumors)\n",
    "____ # Your code here (malignant tumors)\n",
    "sns.kdeplot(data=cancer_b_data['Radius (worst)'], shade=True, label=\"Benign\")\n",
    "sns.kdeplot(data=cancer_m_data['Radius (worst)'], shade=True, label=\"Malignant\")\n",
    "# Check your answer\n",
    "step_4.a.check()"
   ]
  },
  {
   "cell_type": "code",
   "execution_count": 14,
   "metadata": {
    "execution": {
     "iopub.execute_input": "2020-12-17T04:48:02.023688Z",
     "iopub.status.busy": "2020-12-17T04:48:02.022887Z",
     "iopub.status.idle": "2020-12-17T04:48:02.026979Z",
     "shell.execute_reply": "2020-12-17T04:48:02.026189Z"
    },
    "papermill": {
     "duration": 0.048651,
     "end_time": "2020-12-17T04:48:02.027089",
     "exception": false,
     "start_time": "2020-12-17T04:48:01.978438",
     "status": "completed"
    },
    "tags": []
   },
   "outputs": [],
   "source": [
    "# Lines below will give you a hint or solution code\n",
    "#step_4.a.hint()\n",
    "#step_4.a.solution_plot()"
   ]
  },
  {
   "cell_type": "markdown",
   "metadata": {
    "papermill": {
     "duration": 0.040688,
     "end_time": "2020-12-17T04:48:02.108942",
     "exception": false,
     "start_time": "2020-12-17T04:48:02.068254",
     "status": "completed"
    },
    "tags": []
   },
   "source": [
    "#### Part B\n",
    "\n",
    "A hospital has recently started using an algorithm that can diagnose tumors with high accuracy.  Given a tumor with a value for `'Radius (worst)'` of 25, do you think the algorithm is more likely to classify the tumor as benign or malignant?"
   ]
  },
  {
   "cell_type": "code",
   "execution_count": 15,
   "metadata": {
    "execution": {
     "iopub.execute_input": "2020-12-17T04:48:02.196361Z",
     "iopub.status.busy": "2020-12-17T04:48:02.195289Z",
     "iopub.status.idle": "2020-12-17T04:48:02.199258Z",
     "shell.execute_reply": "2020-12-17T04:48:02.198426Z"
    },
    "papermill": {
     "duration": 0.049632,
     "end_time": "2020-12-17T04:48:02.199388",
     "exception": false,
     "start_time": "2020-12-17T04:48:02.149756",
     "status": "completed"
    },
    "tags": []
   },
   "outputs": [],
   "source": [
    "#step_4.b.hint()"
   ]
  },
  {
   "cell_type": "code",
   "execution_count": 16,
   "metadata": {
    "execution": {
     "iopub.execute_input": "2020-12-17T04:48:02.290432Z",
     "iopub.status.busy": "2020-12-17T04:48:02.289611Z",
     "iopub.status.idle": "2020-12-17T04:48:02.295173Z",
     "shell.execute_reply": "2020-12-17T04:48:02.294385Z"
    },
    "papermill": {
     "duration": 0.053252,
     "end_time": "2020-12-17T04:48:02.295300",
     "exception": false,
     "start_time": "2020-12-17T04:48:02.242048",
     "status": "completed"
    },
    "tags": []
   },
   "outputs": [
    {
     "data": {
      "application/javascript": [
       "parent.postMessage({\"jupyterEvent\": \"custom.exercise_interaction\", \"data\": {\"interactionType\": 3, \"questionType\": 4, \"questionId\": \"4.2_ThinkThreshold\", \"learnToolsVersion\": \"0.3.4\", \"valueTowardsCompletion\": 0.0, \"failureMessage\": \"\", \"exceptionClass\": \"\", \"trace\": \"\", \"outcomeType\": 4}}, \"*\")"
      ],
      "text/plain": [
       "<IPython.core.display.Javascript object>"
      ]
     },
     "metadata": {},
     "output_type": "display_data"
    },
    {
     "data": {
      "text/markdown": [
       "<span style=\"color:#33cc99\">Solution:</span> The algorithm is more likely to classify the tumor as malignant. This is because the curve for malignant tumors is much higher than the curve for benign tumors around a value of 25 -- and an algorithm that gets high accuracy is likely to make decisions based on this pattern in the data."
      ],
      "text/plain": [
       "Solution: The algorithm is more likely to classify the tumor as malignant. This is because the curve for malignant tumors is much higher than the curve for benign tumors around a value of 25 -- and an algorithm that gets high accuracy is likely to make decisions based on this pattern in the data."
      ]
     },
     "metadata": {},
     "output_type": "display_data"
    }
   ],
   "source": [
    "# Check your answer (Run this code cell to receive credit!)\n",
    "step_4.b.solution()"
   ]
  },
  {
   "cell_type": "markdown",
   "metadata": {
    "papermill": {
     "duration": 0.04409,
     "end_time": "2020-12-17T04:48:02.383198",
     "exception": false,
     "start_time": "2020-12-17T04:48:02.339108",
     "status": "completed"
    },
    "tags": []
   },
   "source": [
    "## Keep going\n",
    "\n",
    "Review all that you've learned and explore how to further customize your plots in the **[next tutorial](https://www.kaggle.com/alexisbcook/choosing-plot-types-and-custom-styles)**!"
   ]
  },
  {
   "cell_type": "markdown",
   "metadata": {
    "papermill": {
     "duration": 0.042958,
     "end_time": "2020-12-17T04:48:02.470198",
     "exception": false,
     "start_time": "2020-12-17T04:48:02.427240",
     "status": "completed"
    },
    "tags": []
   },
   "source": [
    "---\n",
    "\n",
    "\n",
    "\n",
    "\n",
    "*Have questions or comments? Visit the [Learn Discussion forum](https://www.kaggle.com/learn-forum/161291) to chat with other Learners.*"
   ]
  }
 ],
 "metadata": {
  "kernelspec": {
   "display_name": "Python 3",
   "language": "python",
   "name": "python3"
  },
  "language_info": {
   "codemirror_mode": {
    "name": "ipython",
    "version": 3
   },
   "file_extension": ".py",
   "mimetype": "text/x-python",
   "name": "python",
   "nbconvert_exporter": "python",
   "pygments_lexer": "ipython3",
   "version": "3.7.6"
  },
  "papermill": {
   "duration": 8.166402,
   "end_time": "2020-12-17T04:48:02.621068",
   "environment_variables": {},
   "exception": null,
   "input_path": "__notebook__.ipynb",
   "output_path": "__notebook__.ipynb",
   "parameters": {},
   "start_time": "2020-12-17T04:47:54.454666",
   "version": "2.1.0"
  }
 },
 "nbformat": 4,
 "nbformat_minor": 4
}

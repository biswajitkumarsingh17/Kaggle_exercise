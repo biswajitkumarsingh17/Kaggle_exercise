{
 "cells": [
  {
   "cell_type": "markdown",
   "metadata": {
    "papermill": {
     "duration": 0.010574,
     "end_time": "2020-12-16T15:01:52.556541",
     "exception": false,
     "start_time": "2020-12-16T15:01:52.545967",
     "status": "completed"
    },
    "tags": []
   },
   "source": [
    "In this tutorial, you will learn how to use **cross-validation** for better measures of model performance.\n",
    "\n",
    "# Introduction\n",
    "\n",
    "Machine learning is an iterative process. \n",
    "\n",
    "You will face choices about what predictive variables to use, what types of models to use, what arguments to supply to those models, etc. So far, you have made these choices in a data-driven way by measuring model quality with a validation (or holdout) set.  \n",
    "\n",
    "But there are some drawbacks to this approach.  To see this, imagine you have a dataset with 5000 rows.  You will typically keep about 20% of the data as a validation dataset, or 1000 rows.  But this leaves some random chance in determining model scores.  That is, a model might do well on one set of 1000 rows, even if it would be inaccurate on a different 1000 rows.  \n",
    "\n",
    "At an extreme, you could imagine having only 1 row of data in the validation set. If you compare alternative models, which one makes the best predictions on a single data point will be mostly a matter of luck!\n",
    "\n",
    "In general, the larger the validation set, the less randomness (aka \"noise\") there is in our measure of model quality, and the more reliable it will be.  Unfortunately, we can only get a large validation set by removing rows from our training data, and smaller training datasets mean worse models!"
   ]
  },
  {
   "cell_type": "markdown",
   "metadata": {
    "papermill": {
     "duration": 0.009014,
     "end_time": "2020-12-16T15:01:52.577514",
     "exception": false,
     "start_time": "2020-12-16T15:01:52.568500",
     "status": "completed"
    },
    "tags": []
   },
   "source": [
    "# What is cross-validation?\n",
    "\n",
    "In **cross-validation**, we run our modeling process on different subsets of the data to get multiple measures of model quality. \n",
    "\n",
    "For example, we could begin by dividing the data into 5 pieces, each 20% of the full dataset.  In this case, we say that we have broken the data into 5 \"**folds**\".  \n",
    "\n",
    "![tut5_crossval](https://i.imgur.com/9k60cVA.png)\n",
    "\n",
    "Then, we run one experiment for each fold:\n",
    "- In **Experiment 1**, we use the first fold as a validation (or holdout) set and everything else as training data. This gives us a measure of model quality based on a 20% holdout set.  \n",
    "- In **Experiment 2**, we hold out data from the second fold (and use everything except the second fold for training the model). The holdout set is then used to get a second estimate of model quality.\n",
    "- We repeat this process, using every fold once as the holdout set.  Putting this together, 100% of the data is used as holdout at some point, and we end up with a measure of model quality that is based on all of the rows in the dataset (even if we don't use all rows simultaneously).\n",
    "\n",
    "# When should you use cross-validation?\n",
    "\n",
    "Cross-validation gives a more accurate measure of model quality, which is especially important if you are making a lot of modeling decisions.  However, it can take longer to run, because it estimates multiple models (one for each fold).  \n",
    "\n",
    "So, given these tradeoffs, when should you use each approach?\n",
    "- _For small datasets_, where extra computational burden isn't a big deal, you should run cross-validation.\n",
    "- _For larger datasets_, a single validation set is sufficient.  Your code will run faster, and you may have enough data that there's little need to re-use some of it for holdout.\n",
    "\n",
    "There's no simple threshold for what constitutes a large vs. small dataset.  But if your model takes a couple minutes or less to run, it's probably worth switching to cross-validation.  \n",
    "\n",
    "Alternatively, you can run cross-validation and see if the scores for each experiment seem close.  If each experiment yields the same results, a single validation set is probably sufficient."
   ]
  },
  {
   "cell_type": "markdown",
   "metadata": {
    "papermill": {
     "duration": 0.008585,
     "end_time": "2020-12-16T15:01:52.595237",
     "exception": false,
     "start_time": "2020-12-16T15:01:52.586652",
     "status": "completed"
    },
    "tags": []
   },
   "source": [
    "# Example\n",
    "\n",
    "We'll work with the same data as in the previous tutorial.  We load the input data in `X` and the output data in `y`."
   ]
  },
  {
   "cell_type": "code",
   "execution_count": 1,
   "metadata": {
    "_kg_hide-input": true,
    "_kg_hide-output": true,
    "execution": {
     "iopub.execute_input": "2020-12-16T15:01:52.629255Z",
     "iopub.status.busy": "2020-12-16T15:01:52.628454Z",
     "iopub.status.idle": "2020-12-16T15:01:52.768439Z",
     "shell.execute_reply": "2020-12-16T15:01:52.767593Z"
    },
    "papermill": {
     "duration": 0.164265,
     "end_time": "2020-12-16T15:01:52.768577",
     "exception": false,
     "start_time": "2020-12-16T15:01:52.604312",
     "status": "completed"
    },
    "tags": []
   },
   "outputs": [],
   "source": [
    "\n",
    "import pandas as pd\n",
    "\n",
    "# Read the data\n",
    "data = pd.read_csv('../input/melbourne-housing-snapshot/melb_data.csv')\n",
    "\n",
    "# Select subset of predictors\n",
    "cols_to_use = ['Rooms', 'Distance', 'Landsize', 'BuildingArea', 'YearBuilt']\n",
    "X = data[cols_to_use]\n",
    "\n",
    "# Select target\n",
    "y = data.Price"
   ]
  },
  {
   "cell_type": "markdown",
   "metadata": {
    "papermill": {
     "duration": 0.009179,
     "end_time": "2020-12-16T15:01:52.787380",
     "exception": false,
     "start_time": "2020-12-16T15:01:52.778201",
     "status": "completed"
    },
    "tags": []
   },
   "source": [
    "Then, we define a pipeline that uses an imputer to fill in missing values and a random forest model to make predictions.  \n",
    "\n",
    "While it's _possible_ to do cross-validation without pipelines, it is quite difficult!  Using a pipeline will make the code remarkably straightforward."
   ]
  },
  {
   "cell_type": "code",
   "execution_count": 2,
   "metadata": {
    "execution": {
     "iopub.execute_input": "2020-12-16T15:01:52.814352Z",
     "iopub.status.busy": "2020-12-16T15:01:52.813375Z",
     "iopub.status.idle": "2020-12-16T15:01:54.585759Z",
     "shell.execute_reply": "2020-12-16T15:01:54.585115Z"
    },
    "papermill": {
     "duration": 1.789369,
     "end_time": "2020-12-16T15:01:54.585919",
     "exception": false,
     "start_time": "2020-12-16T15:01:52.796550",
     "status": "completed"
    },
    "tags": []
   },
   "outputs": [],
   "source": [
    "from sklearn.ensemble import RandomForestRegressor\n",
    "from sklearn.pipeline import Pipeline\n",
    "from sklearn.impute import SimpleImputer\n",
    "\n",
    "my_pipeline = Pipeline(steps=[('preprocessor', SimpleImputer()),\n",
    "                              ('model', RandomForestRegressor(n_estimators=50,\n",
    "                                                              random_state=0))\n",
    "                             ])"
   ]
  },
  {
   "cell_type": "markdown",
   "metadata": {
    "papermill": {
     "duration": 0.0092,
     "end_time": "2020-12-16T15:01:54.604911",
     "exception": false,
     "start_time": "2020-12-16T15:01:54.595711",
     "status": "completed"
    },
    "tags": []
   },
   "source": [
    "We obtain the cross-validation scores with the [`cross_val_score()`](https://scikit-learn.org/stable/modules/generated/sklearn.model_selection.cross_val_score.html) function from scikit-learn.  We set the number of folds with the `cv` parameter."
   ]
  },
  {
   "cell_type": "code",
   "execution_count": 3,
   "metadata": {
    "execution": {
     "iopub.execute_input": "2020-12-16T15:01:54.631680Z",
     "iopub.status.busy": "2020-12-16T15:01:54.630861Z",
     "iopub.status.idle": "2020-12-16T15:02:02.753988Z",
     "shell.execute_reply": "2020-12-16T15:02:02.753270Z"
    },
    "papermill": {
     "duration": 8.139785,
     "end_time": "2020-12-16T15:02:02.754143",
     "exception": false,
     "start_time": "2020-12-16T15:01:54.614358",
     "status": "completed"
    },
    "tags": []
   },
   "outputs": [
    {
     "name": "stdout",
     "output_type": "stream",
     "text": [
      "MAE scores:\n",
      " [301628.7893587  303164.4782723  287298.331666   236061.84754543\n",
      " 260383.45111427]\n"
     ]
    }
   ],
   "source": [
    "from sklearn.model_selection import cross_val_score\n",
    "\n",
    "# Multiply by -1 since sklearn calculates *negative* MAE\n",
    "scores = -1 * cross_val_score(my_pipeline, X, y,\n",
    "                              cv=5,\n",
    "                              scoring='neg_mean_absolute_error')\n",
    "\n",
    "print(\"MAE scores:\\n\", scores)"
   ]
  },
  {
   "cell_type": "markdown",
   "metadata": {
    "papermill": {
     "duration": 0.009763,
     "end_time": "2020-12-16T15:02:02.775227",
     "exception": false,
     "start_time": "2020-12-16T15:02:02.765464",
     "status": "completed"
    },
    "tags": []
   },
   "source": [
    "The `scoring` parameter chooses a measure of model quality to report: in this case, we chose negative mean absolute error (MAE).  The docs for scikit-learn show a [list of options](http://scikit-learn.org/stable/modules/model_evaluation.html).  \n",
    "\n",
    "It is a little surprising that we specify *negative* MAE. Scikit-learn has a convention where all metrics are defined so a high number is better.  Using negatives here allows them to be consistent with that convention, though negative MAE is almost unheard of elsewhere. \n",
    "\n",
    "We typically want a single measure of model quality to compare alternative models.  So we take the average across experiments."
   ]
  },
  {
   "cell_type": "code",
   "execution_count": 4,
   "metadata": {
    "execution": {
     "iopub.execute_input": "2020-12-16T15:02:02.802653Z",
     "iopub.status.busy": "2020-12-16T15:02:02.801292Z",
     "iopub.status.idle": "2020-12-16T15:02:02.807164Z",
     "shell.execute_reply": "2020-12-16T15:02:02.806272Z"
    },
    "papermill": {
     "duration": 0.021886,
     "end_time": "2020-12-16T15:02:02.807314",
     "exception": false,
     "start_time": "2020-12-16T15:02:02.785428",
     "status": "completed"
    },
    "tags": []
   },
   "outputs": [
    {
     "name": "stdout",
     "output_type": "stream",
     "text": [
      "Average MAE score (across experiments):\n",
      "277707.3795913405\n"
     ]
    }
   ],
   "source": [
    "print(\"Average MAE score (across experiments):\")\n",
    "print(scores.mean())"
   ]
  },
  {
   "cell_type": "markdown",
   "metadata": {
    "papermill": {
     "duration": 0.010563,
     "end_time": "2020-12-16T15:02:02.829757",
     "exception": false,
     "start_time": "2020-12-16T15:02:02.819194",
     "status": "completed"
    },
    "tags": []
   },
   "source": [
    "# Conclusion\n",
    "\n",
    "Using cross-validation yields a much better measure of model quality, with the added benefit of cleaning up our code: note that we no longer need to keep track of separate training and validation sets.  So, especially for small datasets, it's a good improvement!\n",
    "\n",
    "# Your Turn\n",
    "\n",
    "Put your new skills to work in the **[next exercise](https://www.kaggle.com/kernels/fork/3370281)**!"
   ]
  },
  {
   "cell_type": "markdown",
   "metadata": {
    "papermill": {
     "duration": 0.010836,
     "end_time": "2020-12-16T15:02:02.851555",
     "exception": false,
     "start_time": "2020-12-16T15:02:02.840719",
     "status": "completed"
    },
    "tags": []
   },
   "source": [
    "---\n",
    "\n",
    "\n",
    "\n",
    "\n",
    "*Have questions or comments? Visit the [Learn Discussion forum](https://www.kaggle.com/learn-forum/161289) to chat with other Learners.*"
   ]
  }
 ],
 "metadata": {
  "kernelspec": {
   "display_name": "Python 3",
   "language": "python",
   "name": "python3"
  },
  "language_info": {
   "codemirror_mode": {
    "name": "ipython",
    "version": 3
   },
   "file_extension": ".py",
   "mimetype": "text/x-python",
   "name": "python",
   "nbconvert_exporter": "python",
   "pygments_lexer": "ipython3",
   "version": "3.7.6"
  },
  "papermill": {
   "duration": 15.982182,
   "end_time": "2020-12-16T15:02:02.972098",
   "environment_variables": {},
   "exception": null,
   "input_path": "__notebook__.ipynb",
   "output_path": "__notebook__.ipynb",
   "parameters": {},
   "start_time": "2020-12-16T15:01:46.989916",
   "version": "2.1.0"
  }
 },
 "nbformat": 4,
 "nbformat_minor": 4
}
